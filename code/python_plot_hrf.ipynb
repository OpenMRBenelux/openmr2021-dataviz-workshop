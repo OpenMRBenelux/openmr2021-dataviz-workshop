{
 "cells": [
  {
   "cell_type": "code",
   "execution_count": 1,
   "metadata": {},
   "outputs": [
    {
     "data": {
      "application/javascript": [
       "\n",
       "            setTimeout(function() {\n",
       "                var nbb_cell_id = 1;\n",
       "                var nbb_unformatted_code = \"%matplotlib inline\\n%load_ext nb_black\";\n",
       "                var nbb_formatted_code = \"%matplotlib inline\\n%load_ext nb_black\";\n",
       "                var nbb_cells = Jupyter.notebook.get_cells();\n",
       "                for (var i = 0; i < nbb_cells.length; ++i) {\n",
       "                    if (nbb_cells[i].input_prompt_number == nbb_cell_id) {\n",
       "                        if (nbb_cells[i].get_text() == nbb_unformatted_code) {\n",
       "                             nbb_cells[i].set_text(nbb_formatted_code);\n",
       "                        }\n",
       "                        break;\n",
       "                    }\n",
       "                }\n",
       "            }, 500);\n",
       "            "
      ],
      "text/plain": [
       "<IPython.core.display.Javascript object>"
      ]
     },
     "metadata": {},
     "output_type": "display_data"
    }
   ],
   "source": [
    "%matplotlib inline\n",
    "%load_ext nb_black"
   ]
  },
  {
   "cell_type": "markdown",
   "metadata": {},
   "source": [
    "# Example of hemodynamic reponse functions.\n",
    "\n",
    "---\n",
    "\n",
    "**Taken and adapted from the nilearn documentation**\n",
    "\n",
    "See the original [here](https://nilearn.github.io/auto_examples/04_glm_first_level/plot_hrf.html#sphx-glr-auto-examples-04-glm-first-level-plot-hrf-py)\n",
    "\n",
    "---\n",
    "\n",
    "Within this example we are going to plot the hemodynamic reponse function (hrf)\n",
    "model in SPM together with the hrf shape proposed by G.Glover, as well as their\n",
    "time and dispersion derivatives.\n",
    "\n",
    "This example requires matplotlib.\n",
    "\n",
    "The hrf is the filter that couples neural responses to the metabolic-related\n",
    "changes in the MRI signal.  hrf models are simply phenomenological.\n",
    "\n",
    "In current analysis frameworks, the choice of hrf model is essentially left to\n",
    "the user. Fortunately, using the spm or Glover model does not make a huge\n",
    "difference.  Adding derivatives should be considered whenever timing\n",
    "information has some degree of uncertainty. It is actually useful to detect\n",
    "timing issues.\n"
   ]
  },
  {
   "cell_type": "markdown",
   "metadata": {},
   "source": [
    "## Set up some parameters for model display\n",
    "\n",
    "To get an impulse reponse, we simulate a single event occurring at time t=0,\n",
    "with duration 1s.\n",
    "\n"
   ]
  },
  {
   "cell_type": "code",
   "execution_count": 10,
   "metadata": {},
   "outputs": [
    {
     "data": {
      "application/javascript": [
       "\n",
       "            setTimeout(function() {\n",
       "                var nbb_cell_id = 10;\n",
       "                var nbb_unformatted_code = \"import numpy as np\\n\\nframe_times = np.linspace(0, 33, 331)\\nonset, amplitude, duration = 0.0, 1.0, 1.0\\nexp_condition = np.array((onset, duration, amplitude)).reshape(3, 1)\";\n",
       "                var nbb_formatted_code = \"import numpy as np\\n\\nframe_times = np.linspace(0, 33, 331)\\nonset, amplitude, duration = 0.0, 1.0, 1.0\\nexp_condition = np.array((onset, duration, amplitude)).reshape(3, 1)\";\n",
       "                var nbb_cells = Jupyter.notebook.get_cells();\n",
       "                for (var i = 0; i < nbb_cells.length; ++i) {\n",
       "                    if (nbb_cells[i].input_prompt_number == nbb_cell_id) {\n",
       "                        if (nbb_cells[i].get_text() == nbb_unformatted_code) {\n",
       "                             nbb_cells[i].set_text(nbb_formatted_code);\n",
       "                        }\n",
       "                        break;\n",
       "                    }\n",
       "                }\n",
       "            }, 500);\n",
       "            "
      ],
      "text/plain": [
       "<IPython.core.display.Javascript object>"
      ]
     },
     "metadata": {},
     "output_type": "display_data"
    }
   ],
   "source": [
    "import numpy as np\n",
    "\n",
    "frame_times = np.linspace(0, 33, 331)\n",
    "onset, amplitude, duration = 0.0, 1.0, 1.0\n",
    "exp_condition = np.array((onset, duration, amplitude)).reshape(3, 1)"
   ]
  },
  {
   "cell_type": "markdown",
   "metadata": {},
   "source": [
    "We sample this on a fris for display\n",
    "\n"
   ]
  },
  {
   "cell_type": "code",
   "execution_count": 12,
   "metadata": {},
   "outputs": [
    {
     "data": {
      "application/javascript": [
       "\n",
       "            setTimeout(function() {\n",
       "                var nbb_cell_id = 12;\n",
       "                var nbb_unformatted_code = \"stim = np.zeros_like(frame_times)\\nstim[(frame_times > onset) * (frame_times <= onset + duration)] = amplitude\";\n",
       "                var nbb_formatted_code = \"stim = np.zeros_like(frame_times)\\nstim[(frame_times > onset) * (frame_times <= onset + duration)] = amplitude\";\n",
       "                var nbb_cells = Jupyter.notebook.get_cells();\n",
       "                for (var i = 0; i < nbb_cells.length; ++i) {\n",
       "                    if (nbb_cells[i].input_prompt_number == nbb_cell_id) {\n",
       "                        if (nbb_cells[i].get_text() == nbb_unformatted_code) {\n",
       "                             nbb_cells[i].set_text(nbb_formatted_code);\n",
       "                        }\n",
       "                        break;\n",
       "                    }\n",
       "                }\n",
       "            }, 500);\n",
       "            "
      ],
      "text/plain": [
       "<IPython.core.display.Javascript object>"
      ]
     },
     "metadata": {},
     "output_type": "display_data"
    }
   ],
   "source": [
    "stim = np.zeros_like(frame_times)\n",
    "stim[(frame_times > onset) * (frame_times <= onset + duration)] = amplitude"
   ]
  },
  {
   "cell_type": "markdown",
   "metadata": {},
   "source": [
    "Now we have to define the candidate hrf models.\n",
    "\n"
   ]
  },
  {
   "cell_type": "code",
   "execution_count": 16,
   "metadata": {},
   "outputs": [
    {
     "data": {
      "application/javascript": [
       "\n",
       "            setTimeout(function() {\n",
       "                var nbb_cell_id = 16;\n",
       "                var nbb_unformatted_code = \"hrf_models = [None, \\\"spm + derivative\\\", \\\"spm + derivative + dispersion\\\"]\";\n",
       "                var nbb_formatted_code = \"hrf_models = [None, \\\"spm + derivative\\\", \\\"spm + derivative + dispersion\\\"]\";\n",
       "                var nbb_cells = Jupyter.notebook.get_cells();\n",
       "                for (var i = 0; i < nbb_cells.length; ++i) {\n",
       "                    if (nbb_cells[i].input_prompt_number == nbb_cell_id) {\n",
       "                        if (nbb_cells[i].get_text() == nbb_unformatted_code) {\n",
       "                             nbb_cells[i].set_text(nbb_formatted_code);\n",
       "                        }\n",
       "                        break;\n",
       "                    }\n",
       "                }\n",
       "            }, 500);\n",
       "            "
      ],
      "text/plain": [
       "<IPython.core.display.Javascript object>"
      ]
     },
     "metadata": {},
     "output_type": "display_data"
    }
   ],
   "source": [
    "hrf_models = [None, \"spm + derivative\", \"spm + derivative + dispersion\"]"
   ]
  },
  {
   "cell_type": "markdown",
   "metadata": {},
   "source": [
    "## Sample the hrf\n",
    "\n"
   ]
  },
  {
   "cell_type": "code",
   "execution_count": 17,
   "metadata": {
    "scrolled": true
   },
   "outputs": [
    {
     "data": {
      "image/png": "[encoded data removed]",
      "text/plain": [
       "<Figure size 648x288 with 3 Axes>"
      ]
     },
     "metadata": {
      "needs_background": "light"
     },
     "output_type": "display_data"
    },
    {
     "data": {
      "application/javascript": [
       "\n",
       "            setTimeout(function() {\n",
       "                var nbb_cell_id = 17;\n",
       "                var nbb_unformatted_code = \"from nilearn.glm.first_level import compute_regressor\\nimport matplotlib.pyplot as plt\\n\\nfig = plt.figure(figsize=(9, 4))\\nfor i, hrf_model in enumerate(hrf_models):\\n    # obtain the signal of interest by convolution\\n    signal, name = compute_regressor(\\n        exp_condition, hrf_model, frame_times, con_id=\\\"main\\\", oversampling=16\\n    )\\n\\n    # plot this\\n    plt.subplot(1, 3, i + 1)\\n    plt.fill(frame_times, stim, \\\"k\\\", alpha=0.5, label=\\\"stimulus\\\")\\n    for j in range(signal.shape[1]):\\n        plt.plot(frame_times, signal.T[j], label=name[j])\\n    plt.xlabel(\\\"time (s)\\\")\\n    plt.legend(loc=1)\\n    plt.title(hrf_model)\\n\\n# adjust the plot\\nplt.subplots_adjust(bottom=0.12)\\nplt.show()\";\n",
       "                var nbb_formatted_code = \"from nilearn.glm.first_level import compute_regressor\\nimport matplotlib.pyplot as plt\\n\\nfig = plt.figure(figsize=(9, 4))\\nfor i, hrf_model in enumerate(hrf_models):\\n    # obtain the signal of interest by convolution\\n    signal, name = compute_regressor(\\n        exp_condition, hrf_model, frame_times, con_id=\\\"main\\\", oversampling=16\\n    )\\n\\n    # plot this\\n    plt.subplot(1, 3, i + 1)\\n    plt.fill(frame_times, stim, \\\"k\\\", alpha=0.5, label=\\\"stimulus\\\")\\n    for j in range(signal.shape[1]):\\n        plt.plot(frame_times, signal.T[j], label=name[j])\\n    plt.xlabel(\\\"time (s)\\\")\\n    plt.legend(loc=1)\\n    plt.title(hrf_model)\\n\\n# adjust the plot\\nplt.subplots_adjust(bottom=0.12)\\nplt.show()\";\n",
       "                var nbb_cells = Jupyter.notebook.get_cells();\n",
       "                for (var i = 0; i < nbb_cells.length; ++i) {\n",
       "                    if (nbb_cells[i].input_prompt_number == nbb_cell_id) {\n",
       "                        if (nbb_cells[i].get_text() == nbb_unformatted_code) {\n",
       "                             nbb_cells[i].set_text(nbb_formatted_code);\n",
       "                        }\n",
       "                        break;\n",
       "                    }\n",
       "                }\n",
       "            }, 500);\n",
       "            "
      ],
      "text/plain": [
       "<IPython.core.display.Javascript object>"
      ]
     },
     "metadata": {},
     "output_type": "display_data"
    }
   ],
   "source": [
    "from nilearn.glm.first_level import compute_regressor\n",
    "import matplotlib.pyplot as plt\n",
    "\n",
    "fig = plt.figure(figsize=(9, 4))\n",
    "for i, hrf_model in enumerate(hrf_models):\n",
    "    # obtain the signal of interest by convolution\n",
    "    signal, name = compute_regressor(\n",
    "        exp_condition, hrf_model, frame_times, con_id=\"main\", oversampling=16\n",
    "    )\n",
    "\n",
    "    # plot this\n",
    "    plt.subplot(1, 3, i + 1)\n",
    "    plt.fill(frame_times, stim, \"k\", alpha=0.5, label=\"stimulus\")\n",
    "    for j in range(signal.shape[1]):\n",
    "        plt.plot(frame_times, signal.T[j], label=name[j])\n",
    "    plt.xlabel(\"time (s)\")\n",
    "    plt.legend(loc=1)\n",
    "    plt.title(hrf_model)\n",
    "\n",
    "# adjust the plot\n",
    "plt.subplots_adjust(bottom=0.12)\n",
    "plt.show()"
   ]
  }
 ],
 "metadata": {
  "kernelspec": {
   "display_name": "Python 3",
   "language": "python",
   "name": "python3"
  },
  "language_info": {
   "codemirror_mode": {
    "name": "ipython",
    "version": 3
   },
   "file_extension": ".py",
   "mimetype": "text/x-python",
   "name": "python",
   "nbconvert_exporter": "python",
   "pygments_lexer": "ipython3",
   "version": "3.6.9"
  }
 },
 "nbformat": 4,
 "nbformat_minor": 1
}
