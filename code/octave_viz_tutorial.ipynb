{
 "cells": [
  {
   "cell_type": "code",
   "execution_count": null,
   "metadata": {},
   "outputs": [],
   "source": [
    "% when running localy\n",
    "path_to_spm = '/home/remi/matlab/SPM/spm12/';\n",
    "addpath(path_to_spm)"
   ]
  },
  {
   "cell_type": "code",
   "execution_count": null,
   "metadata": {},
   "outputs": [],
   "source": [
    "data_folder = fullfile(pwd, '..', 'inputs', 'ds003542');\n",
    "\n",
    "BIDS = spm_BIDS(data_folder);\n",
    "\n",
    "t1w_path = spm_BIDS(BIDS, 'data', 'sub', '01', 'type', 'T1w')\n",
    "bold_path = spm_BIDS(BIDS, 'data', 'sub', '01', 'task', 'compL1', 'run', '1', 'type', 'bold')\n",
    "\n",
    "if strcmp(spm_file(t1w_path{1}, 'ext'), 'gz') \n",
    "    gunzip(t1w_path{1})\n",
    "end\n",
    "\n",
    "if strcmp(spm_file(bold_path{1}, 'ext'), 'gz') \n",
    "    gunzip(bold_path{1})\n",
    "end\n",
    "\n",
    "BIDS = spm_BIDS(data_folder);"
   ]
  },
  {
   "cell_type": "code",
   "execution_count": null,
   "metadata": {},
   "outputs": [],
   "source": [
    "t1w_path = spm_BIDS(BIDS, 'data', 'sub', '01', 'type', 'T1w')\n",
    "bold_path = spm_BIDS(BIDS, 'data', 'sub', '01', 'task', 'compL1', 'run', '1', 'type', 'bold')"
   ]
  },
  {
   "cell_type": "code",
   "execution_count": null,
   "metadata": {},
   "outputs": [],
   "source": [
    "t1w_file = spm_vol(t1w_path{1});\n",
    "t1w_image = spm_read_vols(t1w_file);"
   ]
  },
  {
   "cell_type": "code",
   "execution_count": null,
   "metadata": {},
   "outputs": [],
   "source": [
    "t1w_slice = t1w_image(:, :, 150);\n",
    "imagesc(rot90(t1w_slice))\n",
    "axis image\n",
    "colormap gray"
   ]
  },
  {
   "cell_type": "code",
   "execution_count": null,
   "metadata": {},
   "outputs": [],
   "source": [
    "bold_file = spm_vol(bold_path{1});\n",
    "bold_image = spm_read_vols(bold_file);"
   ]
  },
  {
   "cell_type": "code",
   "execution_count": null,
   "metadata": {
    "scrolled": true
   },
   "outputs": [],
   "source": [
    "bold_slice = bold_image(:, :, 10, 1);\n",
    "imagesc(rot90(bold_slice))\n",
    "axis image\n",
    "colormap gray"
   ]
  },
  {
   "cell_type": "code",
   "execution_count": null,
   "metadata": {},
   "outputs": [],
   "source": [
    "voxel_BOLD_vector = bold_image(31, 54, 21, :);\n",
    "plot(squeeze(voxel_BOLD_vector))"
   ]
  }
 ],
 "metadata": {
  "kernelspec": {
   "display_name": "Octave",
   "language": "octave",
   "name": "octave"
  },
  "language_info": {
   "file_extension": ".m",
   "help_links": [
    {
     "text": "GNU Octave",
     "url": "https://www.gnu.org/software/octave/support.html"
    },
    {
     "text": "Octave Kernel",
     "url": "https://github.com/Calysto/octave_kernel"
    },
    {
     "text": "MetaKernel Magics",
     "url": "https://metakernel.readthedocs.io/en/latest/source/README.html"
    }
   ],
   "mimetype": "text/x-octave",
   "name": "octave",
   "version": "4.2.2"
  }
 },
 "nbformat": 4,
 "nbformat_minor": 4
}
