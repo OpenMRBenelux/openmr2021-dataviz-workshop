{
 "cells": [
  {
   "cell_type": "code",
   "execution_count": 9,
   "metadata": {
    "scrolled": true
   },
   "outputs": [
    {
     "name": "stdout",
     "output_type": "stream",
     "text": [
      "\u001b[01;34m../inputs/ds003542/\u001b[00m\r\n",
      "├── dataset_description.json\r\n",
      "├── \u001b[01;34mderivatives\u001b[00m\r\n",
      "├── participants.json\r\n",
      "├── participants.tsv\r\n",
      "├── README\r\n",
      "├── \u001b[01;34msub-01\u001b[00m\r\n",
      "├── \u001b[01;34msub-02\u001b[00m\r\n",
      "├── \u001b[01;34msub-03\u001b[00m\r\n",
      "├── \u001b[01;34msub-04\u001b[00m\r\n",
      "├── \u001b[01;34msub-05\u001b[00m\r\n",
      "├── \u001b[01;34msub-06\u001b[00m\r\n",
      "├── \u001b[01;34msub-07\u001b[00m\r\n",
      "├── \u001b[01;34msub-08\u001b[00m\r\n",
      "├── \u001b[01;34msub-09\u001b[00m\r\n",
      "├── \u001b[01;34msub-10\u001b[00m\r\n",
      "├── \u001b[01;34msub-11\u001b[00m\r\n",
      "├── \u001b[01;34msub-12\u001b[00m\r\n",
      "├── \u001b[01;34msub-13\u001b[00m\r\n",
      "├── \u001b[01;34msub-14\u001b[00m\r\n",
      "├── \u001b[01;34msub-15\u001b[00m\r\n",
      "├── \u001b[01;34msub-16\u001b[00m\r\n",
      "├── \u001b[01;34msub-17\u001b[00m\r\n",
      "├── \u001b[01;34msub-18\u001b[00m\r\n",
      "├── \u001b[01;34msub-19\u001b[00m\r\n",
      "├── \u001b[01;34msub-20\u001b[00m\r\n",
      "├── \u001b[01;34msub-21\u001b[00m\r\n",
      "├── \u001b[01;34msub-22\u001b[00m\r\n",
      "├── \u001b[01;34msub-23\u001b[00m\r\n",
      "├── \u001b[01;34msub-24\u001b[00m\r\n",
      "├── \u001b[01;34msub-25\u001b[00m\r\n",
      "├── \u001b[01;34msub-26\u001b[00m\r\n",
      "├── \u001b[01;34msub-27\u001b[00m\r\n",
      "├── \u001b[01;34msub-28\u001b[00m\r\n",
      "├── \u001b[01;34msub-29\u001b[00m\r\n",
      "├── \u001b[01;34msub-30\u001b[00m\r\n",
      "├── \u001b[01;34msub-31\u001b[00m\r\n",
      "├── \u001b[01;34msub-32\u001b[00m\r\n",
      "├── \u001b[01;34msub-33\u001b[00m\r\n",
      "└── \u001b[01;34msub-34\u001b[00m\r\n",
      "\r\n",
      "35 directories, 4 files\r\n",
      "\n"
     ]
    }
   ],
   "source": [
    "!tree -L 1 ../inputs/ds003542/"
   ]
  },
  {
   "cell_type": "code",
   "execution_count": 14,
   "metadata": {},
   "outputs": [
    {
     "name": "stdout",
     "output_type": "stream",
     "text": [
      "sub-01_T1w.json  \u001b[0m\u001b[01;36msub-01_T1w.nii.gz\u001b[0m\r\n",
      "\n"
     ]
    }
   ],
   "source": [
    "!ls ../inputs/ds003542/sub-01/anat/"
   ]
  },
  {
   "cell_type": "code",
   "execution_count": 15,
   "metadata": {},
   "outputs": [
    {
     "name": "stdout",
     "output_type": "stream",
     "text": [
      "sub-01_task-compL1_run-1_bold.json    sub-01_task-compLn_run-3_bold.json\r\n",
      "\u001b[0m\u001b[01;36msub-01_task-compL1_run-1_bold.nii.gz\u001b[0m  \u001b[40;31;01msub-01_task-compLn_run-3_bold.nii.gz\u001b[0m\r\n",
      "sub-01_task-compL1_run-1_events.json  sub-01_task-compLn_run-3_events.json\r\n",
      "sub-01_task-compL1_run-1_events.tsv   sub-01_task-compLn_run-3_events.tsv\r\n",
      "sub-01_task-compL1_run-2_bold.json    sub-01_task-prodL1_run-1_bold.json\r\n",
      "\u001b[40;31;01msub-01_task-compL1_run-2_bold.nii.gz\u001b[0m  \u001b[40;31;01msub-01_task-prodL1_run-1_bold.nii.gz\u001b[0m\r\n",
      "sub-01_task-compL1_run-2_events.json  sub-01_task-prodL1_run-1_events.json\r\n",
      "sub-01_task-compL1_run-2_events.tsv   sub-01_task-prodL1_run-1_events.tsv\r\n",
      "sub-01_task-compL1_run-3_bold.json    sub-01_task-prodL1_run-2_bold.json\r\n",
      "\u001b[40;31;01msub-01_task-compL1_run-3_bold.nii.gz\u001b[0m  \u001b[40;31;01msub-01_task-prodL1_run-2_bold.nii.gz\u001b[0m\r\n",
      "sub-01_task-compL1_run-3_events.json  sub-01_task-prodL1_run-2_events.json\r\n",
      "sub-01_task-compL1_run-3_events.tsv   sub-01_task-prodL1_run-2_events.tsv\r\n",
      "sub-01_task-compLn_run-1_bold.json    sub-01_task-prodLn_run-1_bold.json\r\n",
      "\u001b[40;31;01msub-01_task-compLn_run-1_bold.nii.gz\u001b[0m  \u001b[40;31;01msub-01_task-prodLn_run-1_bold.nii.gz\u001b[0m\r\n",
      "sub-01_task-compLn_run-1_events.json  sub-01_task-prodLn_run-1_events.json\r\n",
      "sub-01_task-compLn_run-1_events.tsv   sub-01_task-prodLn_run-1_events.tsv\r\n",
      "sub-01_task-compLn_run-2_bold.json    sub-01_task-prodLn_run-2_bold.json\r\n",
      "\u001b[40;31;01msub-01_task-compLn_run-2_bold.nii.gz\u001b[0m  \u001b[40;31;01msub-01_task-prodLn_run-2_bold.nii.gz\u001b[0m\r\n",
      "sub-01_task-compLn_run-2_events.json  sub-01_task-prodLn_run-2_events.json\r\n",
      "sub-01_task-compLn_run-2_events.tsv   sub-01_task-prodLn_run-2_events.tsv\r\n",
      "\n"
     ]
    }
   ],
   "source": [
    "!ls ../inputs/ds003542/sub-01/func/"
   ]
  },
  {
   "cell_type": "code",
   "execution_count": null,
   "metadata": {},
   "outputs": [],
   "source": [
    "% when running localy\n",
    "path_to_spm = '/home/remi/matlab/SPM/spm12/';\n",
    "addpath(path_to_spm)"
   ]
  },
  {
   "cell_type": "code",
   "execution_count": null,
   "metadata": {},
   "outputs": [],
   "source": [
    "data_folder = fullfile(pwd, '..', 'inputs', 'ds003542');\n",
    "\n",
    "BIDS = spm_BIDS(data_folder);\n",
    "\n",
    "t1w_path = spm_BIDS(BIDS, 'data', 'sub', '01', 'type', 'T1w')\n",
    "bold_path = spm_BIDS(BIDS, 'data', 'sub', '01', 'task', 'compL1', 'run', '1', 'type', 'bold')\n",
    "\n",
    "if strcmp(spm_file(t1w_path{1}, 'ext'), 'gz') \n",
    "    gunzip(t1w_path{1})\n",
    "end\n",
    "\n",
    "if strcmp(spm_file(bold_path{1}, 'ext'), 'gz') \n",
    "    gunzip(bold_path{1})\n",
    "end\n",
    "\n",
    "BIDS = spm_BIDS(data_folder);"
   ]
  },
  {
   "cell_type": "code",
   "execution_count": null,
   "metadata": {},
   "outputs": [],
   "source": [
    "t1w_path = spm_BIDS(BIDS, 'data', 'sub', '01', 'type', 'T1w')\n",
    "bold_path = spm_BIDS(BIDS, 'data', 'sub', '01', 'task', 'compL1', 'run', '1', 'type', 'bold')"
   ]
  },
  {
   "cell_type": "code",
   "execution_count": null,
   "metadata": {},
   "outputs": [],
   "source": [
    "t1w_file = spm_vol(t1w_path{1});\n",
    "t1w_image = spm_read_vols(t1w_file);"
   ]
  },
  {
   "cell_type": "code",
   "execution_count": null,
   "metadata": {},
   "outputs": [],
   "source": [
    "t1w_slice = t1w_image(:, :, 150);\n",
    "imagesc(rot90(t1w_slice))\n",
    "axis image\n",
    "colormap gray"
   ]
  },
  {
   "cell_type": "code",
   "execution_count": null,
   "metadata": {},
   "outputs": [],
   "source": [
    "bold_file = spm_vol(bold_path{1});\n",
    "bold_image = spm_read_vols(bold_file);"
   ]
  },
  {
   "cell_type": "code",
   "execution_count": null,
   "metadata": {
    "scrolled": true
   },
   "outputs": [],
   "source": [
    "bold_slice = bold_image(:, :, 10, 1);\n",
    "imagesc(rot90(bold_slice))\n",
    "axis image\n",
    "colormap gray"
   ]
  },
  {
   "cell_type": "code",
   "execution_count": null,
   "metadata": {},
   "outputs": [],
   "source": [
    "voxel_BOLD_vector = bold_image(31, 54, 21, :);\n",
    "plot(squeeze(voxel_BOLD_vector))"
   ]
  }
 ],
 "metadata": {
  "kernelspec": {
   "display_name": "Octave",
   "language": "octave",
   "name": "octave"
  },
  "language_info": {
   "file_extension": ".m",
   "help_links": [
    {
     "text": "GNU Octave",
     "url": "https://www.gnu.org/software/octave/support.html"
    },
    {
     "text": "Octave Kernel",
     "url": "https://github.com/Calysto/octave_kernel"
    },
    {
     "text": "MetaKernel Magics",
     "url": "https://metakernel.readthedocs.io/en/latest/source/README.html"
    }
   ],
   "mimetype": "text/x-octave",
   "name": "octave",
   "version": "4.2.2"
  }
 },
 "nbformat": 4,
 "nbformat_minor": 4
}
