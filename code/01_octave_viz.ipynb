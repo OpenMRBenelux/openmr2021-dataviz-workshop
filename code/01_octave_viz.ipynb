{
 "cells": [
  {
   "cell_type": "code",
   "execution_count": null,
   "metadata": {},
   "outputs": [],
   "source": [
    "% when running localy\n",
    "path_to_spm = '/home/remi/matlab/SPM/spm12/';\n",
    "addpath(path_to_spm)"
   ]
  },
  {
   "cell_type": "code",
   "execution_count": null,
   "metadata": {},
   "outputs": [],
   "source": [
    "addpath(fullfile(pwd, 'octave'))"
   ]
  },
  {
   "cell_type": "code",
   "execution_count": null,
   "metadata": {},
   "outputs": [],
   "source": [
    "data_folder = fullfile(pwd, '..', 'inputs', 'ds003542');\n",
    "subject = '01';"
   ]
  },
  {
   "cell_type": "code",
   "execution_count": null,
   "metadata": {},
   "outputs": [],
   "source": [
    "BIDS = spm_BIDS(data_folder);\n",
    "\n",
    "t1w_path = spm_BIDS(BIDS, 'data', ...\n",
    "                    'sub', subject, ...\n",
    "                    'type', 'T1w')\n",
    "bold_path = spm_BIDS(BIDS, 'data', \n",
    "                    'sub', subject, \n",
    "                    'task', 'compL1', \n",
    "                    'run', '1', \n",
    "                    'type', 'bold')"
   ]
  },
  {
   "cell_type": "code",
   "execution_count": null,
   "metadata": {},
   "outputs": [],
   "source": [
    "% let's ouput the data into a different derivative folder to keep the original data clean\n",
    "output_dir = fullfile(data_folder, 'derivatives','spm12')\n",
    "spm_mkdir(output_dir, ['sub-' subject], {'anat', 'func'});"
   ]
  },
  {
   "cell_type": "code",
   "execution_count": null,
   "metadata": {},
   "outputs": [],
   "source": [
    "matlabbatch = set_batch_gunzip(t1w_path, fullfile(output_dir, ['sub-' subject], 'anat'));\n",
    "spm_jobman('run', matlabbatch);\n",
    "\n",
    "matlabbatch = set_batch_gunzip(bold_path, fullfile(output_dir, ['sub-' subject], 'func'));\n",
    "spm_jobman('run', matlabbatch);"
   ]
  },
  {
   "cell_type": "code",
   "execution_count": null,
   "metadata": {},
   "outputs": [],
   "source": [
    "t1w_path = spm_select('FPlistrec', output_dir, '.*_T1w.nii')\n",
    "bold_path = spm_select('FPlistrec', output_dir, '.*_bold.nii')"
   ]
  },
  {
   "cell_type": "code",
   "execution_count": null,
   "metadata": {},
   "outputs": [],
   "source": [
    "t1w_file = spm_vol(t1w_path);\n",
    "t1w_image = spm_read_vols(t1w_file);"
   ]
  },
  {
   "cell_type": "code",
   "execution_count": null,
   "metadata": {
    "scrolled": true
   },
   "outputs": [],
   "source": [
    "fprintf('Dimension of the image: \\n %s \\n\\n', t1w_file.fname)\n",
    "fprintf(' - # Medio-lateral voxels: %i \\n', t1w_file.dim(1))\n",
    "fprintf(' - # Antero-posterior voxels: %i \\n',  t1w_file.dim(2))\n",
    "fprintf(' - # Cranio-caudal voxels: %i \\n',  t1w_file.dim(3))"
   ]
  },
  {
   "cell_type": "code",
   "execution_count": null,
   "metadata": {},
   "outputs": [],
   "source": [
    "t1w_slice = t1w_image(:, :, 150);\n",
    "imagesc(rot90(t1w_slice))\n",
    "axis image\n",
    "colormap gray"
   ]
  },
  {
   "cell_type": "code",
   "execution_count": null,
   "metadata": {
    "scrolled": false
   },
   "outputs": [],
   "source": [
    "orientation = 'sagittal';\n",
    "slice_nr = 150;\n",
    "show_slice_from_volume(t1w_image, orientation, slice_nr);"
   ]
  },
  {
   "cell_type": "code",
   "execution_count": null,
   "metadata": {},
   "outputs": [],
   "source": [
    "bold_file = spm_vol(bold_path);\n",
    "bold_image = spm_read_vols(bold_file);"
   ]
  },
  {
   "cell_type": "code",
   "execution_count": null,
   "metadata": {},
   "outputs": [],
   "source": [
    "fprintf('Dimension of the image: \\n %s \\n\\n', bold_file(1).fname)\n",
    "fprintf(' - # Medio-lateral voxels: %i \\n', bold_file(1).dim(1))\n",
    "fprintf(' - # Antero-posterior voxels: %i \\n',  bold_file(1).dim(2))\n",
    "fprintf(' - # Cranio-caudal voxels: %i \\n',  bold_file(1).dim(3))\n",
    "fprintf(' - # Timepoints: %i \\n',  numel(bold_file))"
   ]
  },
  {
   "cell_type": "code",
   "execution_count": null,
   "metadata": {
    "scrolled": true
   },
   "outputs": [],
   "source": [
    "bold_slice = bold_image(:, :, 10, 1);\n",
    "imagesc(rot90(bold_slice))\n",
    "axis image\n",
    "colormap gray"
   ]
  },
  {
   "cell_type": "code",
   "execution_count": null,
   "metadata": {},
   "outputs": [],
   "source": [
    "orientation = 'axial';\n",
    "slice_nr = 10;\n",
    "timepoint = 1;\n",
    "show_slice_from_timeseries(bold_image, orientation, slice_nr, timepoint)"
   ]
  },
  {
   "cell_type": "code",
   "execution_count": null,
   "metadata": {},
   "outputs": [],
   "source": [
    "x=31;\n",
    "y=54;\n",
    "z=21;\n",
    "voxel_BOLD_vector = bold_image(x, y, z, :);\n",
    "plot(squeeze(voxel_BOLD_vector))"
   ]
  },
  {
   "cell_type": "code",
   "execution_count": null,
   "metadata": {},
   "outputs": [],
   "source": [
    "show_slice_from_timeseries(bold_image, 'sagittal', x, 1);"
   ]
  },
  {
   "cell_type": "code",
   "execution_count": null,
   "metadata": {
    "scrolled": true
   },
   "outputs": [],
   "source": [
    "track_voxel(bold_image, x, y, z)"
   ]
  }
 ],
 "metadata": {
  "kernelspec": {
   "display_name": "Octave",
   "language": "octave",
   "name": "octave"
  },
  "language_info": {
   "file_extension": ".m",
   "help_links": [
    {
     "text": "GNU Octave",
     "url": "https://www.gnu.org/software/octave/support.html"
    },
    {
     "text": "Octave Kernel",
     "url": "https://github.com/Calysto/octave_kernel"
    },
    {
     "text": "MetaKernel Magics",
     "url": "https://metakernel.readthedocs.io/en/latest/source/README.html"
    }
   ],
   "mimetype": "text/x-octave",
   "name": "octave",
   "version": "4.2.2"
  }
 },
 "nbformat": 4,
 "nbformat_minor": 4
}
