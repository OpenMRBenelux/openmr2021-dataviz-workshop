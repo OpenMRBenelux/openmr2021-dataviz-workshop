{
 "cells": [
  {
   "cell_type": "markdown",
   "metadata": {},
   "source": [
    "<img src=\"https://raw.githubusercontent.com/OpenMRBenelux/openmrbenelux.github.io/afba2aa7c94cd7ad0f2757aca0efc18d8ee3154d/assets/ext_images/logo/openmr_benelux_2021_logo_regopen.svg\">"
   ]
  },
  {
   "cell_type": "markdown",
   "metadata": {},
   "source": [
    "# Python Visualisation Tutorial"
   ]
  },
  {
   "cell_type": "markdown",
   "metadata": {},
   "source": [
    "Hello there, and welcome to our visualisation workshop!\n",
    "\n",
    "This tutorial is entirely dedicated to offer useful tools to get started with visualisations in Python, with examples on neuro-imaging data. \n",
    "\n",
    "The data that we will explore today is part of an [open source repository](https://openneuro.org/datasets/ds003542) on adult language learners. We express our sincere gratitude to Kshipra Gurunandan, Manuel Carreiras and Pedro M. Paz-Alonso for making this data open source. Below, we will first print the README file that contains the explanation about the objective of this study."
   ]
  },
  {
   "cell_type": "code",
   "execution_count": 1,
   "metadata": {},
   "outputs": [
    {
     "data": {
      "application/javascript": [
       "\n",
       "            setTimeout(function() {\n",
       "                var nbb_cell_id = 1;\n",
       "                var nbb_unformatted_code = \"# Set matplotlib inline to view images below the cell in this notebook\\n%matplotlib inline \\n\\n# To prettify python code (it is already pretty of course ;) ) --> https://pypi.org/project/nb-black/\\n%load_ext nb_black \";\n",
       "                var nbb_formatted_code = \"# Set matplotlib inline to view images below the cell in this notebook\\n%matplotlib inline\\n\\n# To prettify python code (it is already pretty of course ;) ) --> https://pypi.org/project/nb-black/\\n%load_ext nb_black\";\n",
       "                var nbb_cells = Jupyter.notebook.get_cells();\n",
       "                for (var i = 0; i < nbb_cells.length; ++i) {\n",
       "                    if (nbb_cells[i].input_prompt_number == nbb_cell_id) {\n",
       "                        if (nbb_cells[i].get_text() == nbb_unformatted_code) {\n",
       "                             nbb_cells[i].set_text(nbb_formatted_code);\n",
       "                        }\n",
       "                        break;\n",
       "                    }\n",
       "                }\n",
       "            }, 500);\n",
       "            "
      ],
      "text/plain": [
       "<IPython.core.display.Javascript object>"
      ]
     },
     "metadata": {},
     "output_type": "display_data"
    }
   ],
   "source": [
    "# Set matplotlib inline to view images below the cell in this notebook\n",
    "%matplotlib inline \n",
    "\n",
    "# To prettify python code (it is already pretty of course ;) ) --> https://pypi.org/project/nb-black/\n",
    "%load_ext nb_black "
   ]
  },
  {
   "cell_type": "code",
   "execution_count": 2,
   "metadata": {},
   "outputs": [
    {
     "name": "stderr",
     "output_type": "stream",
     "text": [
      "/Users/sdenissen/Documents/Code_Git/openmr2021-dataviz-workshop-python/venv/lib/python3.7/site-packages/bids/layout/models.py:152: FutureWarning: The 'extension' entity currently excludes the leading dot ('.'). As of version 0.14.0, it will include the leading dot. To suppress this warning and include the leading dot, use `bids.config.set_option('extension_initial_dot', True)`.\n",
      "  FutureWarning)\n"
     ]
    },
    {
     "data": {
      "application/javascript": [
       "\n",
       "            setTimeout(function() {\n",
       "                var nbb_cell_id = 2;\n",
       "                var nbb_unformatted_code = \"import os\\nfrom bids import BIDSLayout  # BIDS: For neat neuro-imaging data organisation --> https://bids.neuroimaging.io/\\n\\ndata_folder = \\\"../inputs/ds003542\\\"\\nlayout = BIDSLayout(data_folder)\\n\\n# Description of the project\\nwith open(os.path.join(data_folder, \\\"README\\\")) as txt_file:\\n    README_sections = txt_file.read().split(f'{\\\"-\\\"*34}')\\n    project_description = README_sections[0]\\n    references = README_sections[1]\\n    contact = README_sections[3]\";\n",
       "                var nbb_formatted_code = \"import os\\nfrom bids import (\\n    BIDSLayout,\\n)  # BIDS: For neat neuro-imaging data organisation --> https://bids.neuroimaging.io/\\n\\ndata_folder = \\\"../inputs/ds003542\\\"\\nlayout = BIDSLayout(data_folder)\\n\\n# Description of the project\\nwith open(os.path.join(data_folder, \\\"README\\\")) as txt_file:\\n    README_sections = txt_file.read().split(f'{\\\"-\\\"*34}')\\n    project_description = README_sections[0]\\n    references = README_sections[1]\\n    contact = README_sections[3]\";\n",
       "                var nbb_cells = Jupyter.notebook.get_cells();\n",
       "                for (var i = 0; i < nbb_cells.length; ++i) {\n",
       "                    if (nbb_cells[i].input_prompt_number == nbb_cell_id) {\n",
       "                        if (nbb_cells[i].get_text() == nbb_unformatted_code) {\n",
       "                             nbb_cells[i].set_text(nbb_formatted_code);\n",
       "                        }\n",
       "                        break;\n",
       "                    }\n",
       "                }\n",
       "            }, 500);\n",
       "            "
      ],
      "text/plain": [
       "<IPython.core.display.Javascript object>"
      ]
     },
     "metadata": {},
     "output_type": "display_data"
    }
   ],
   "source": [
    "import os\n",
    "from bids import BIDSLayout  # BIDS: For neat neuro-imaging data organisation --> https://bids.neuroimaging.io/\n",
    "\n",
    "data_folder = \"../inputs/ds003542\"\n",
    "layout = BIDSLayout(data_folder)\n",
    "\n",
    "# Description of the project\n",
    "with open(os.path.join(data_folder, \"README\")) as txt_file:\n",
    "    README_sections = txt_file.read().split(f'{\"-\"*34}')\n",
    "    project_description = README_sections[0]\n",
    "    references = README_sections[1]\n",
    "    contact = README_sections[3]"
   ]
  },
  {
   "cell_type": "code",
   "execution_count": 3,
   "metadata": {},
   "outputs": [
    {
     "name": "stdout",
     "output_type": "stream",
     "text": [
      "Study design:\n",
      "\n",
      "34 adult language learners aged 20-70 were recruited from a language school. Subjects were at either intermediate or advanced levels of learning the same second language. Subjects performed semantic comprehension (reading and speech) and verbal production tasks in the MRI scanner in their native and new languages.\n",
      "\n",
      "\n"
     ]
    },
    {
     "data": {
      "application/javascript": [
       "\n",
       "            setTimeout(function() {\n",
       "                var nbb_cell_id = 3;\n",
       "                var nbb_unformatted_code = \"print(project_description)\";\n",
       "                var nbb_formatted_code = \"print(project_description)\";\n",
       "                var nbb_cells = Jupyter.notebook.get_cells();\n",
       "                for (var i = 0; i < nbb_cells.length; ++i) {\n",
       "                    if (nbb_cells[i].input_prompt_number == nbb_cell_id) {\n",
       "                        if (nbb_cells[i].get_text() == nbb_unformatted_code) {\n",
       "                             nbb_cells[i].set_text(nbb_formatted_code);\n",
       "                        }\n",
       "                        break;\n",
       "                    }\n",
       "                }\n",
       "            }, 500);\n",
       "            "
      ],
      "text/plain": [
       "<IPython.core.display.Javascript object>"
      ]
     },
     "metadata": {},
     "output_type": "display_data"
    }
   ],
   "source": [
    "print(project_description)"
   ]
  },
  {
   "cell_type": "markdown",
   "metadata": {},
   "source": [
    "***"
   ]
  },
  {
   "cell_type": "markdown",
   "metadata": {},
   "source": [
    "## Wait, what ...? A Jupyter notebook?"
   ]
  },
  {
   "cell_type": "markdown",
   "metadata": {},
   "source": [
    "Never worked with jupyter notebooks before? Don't worry! We'll guide you through it step by step.\n",
    "\n",
    "A **jupyter notebook** \n",
    "- is a convenient way to combine code with neat documentation, allowing others to easily follow a project that uses code\n",
    "- works with so-called \"blocks\", which can either be a \"code block\" or a \"markdown block\"\n",
    "    - *Markdown block*: You are reading one right now! It is a block that understands the markdown language, an easy language to create text, similar to HTML and LaTeX.\n",
    "    - *Code block*: A code block in a jupyter notebook understands the Python language by default. If applicable, output is printed below the code block, such as images and text. You can also change the kernel of code blocks; in this way you can use other programming languages in the code blocks! Read more about this [here](https://jupyter4edu.github.io/jupyter-edu-book/jupyter.html).\n",
    "- Allows to \"hide\" blocks, which will be visible with 3 dots (...). Solutions are hidden this way, but first try to find the solution yourself in the empty block above!\n",
    "- has some nice shortcuts:\n",
    "\n",
    "|Operation|Shortcut|\n",
    "|---|---|\n",
    "|Run a cell|shift-enter|\n",
    "|Add cell above | \"a\" (first click left of the cell)|\n",
    "|Add cell below | \"b\" (first click left of the cell)|\n",
    "|Copy cell: | \"c\" (first click left of the cell)|\n",
    "|Cut cell: | \"x\" (first click left of the cell)|\n",
    "|Paste cell | \"v\" (first click left of the cell)|\n",
    "|Delete cell | \"dd\" (first click left of the cell)|\n",
    "\n",
    "Last note: If you want to install additional python packages, you can call upon the terminal with an exclamation mark (!) before a command. So, installing a new package will be the following structure inside a code cell: `!pip install my-package`"
   ]
  },
  {
   "cell_type": "markdown",
   "metadata": {},
   "source": [
    "***"
   ]
  },
  {
   "cell_type": "markdown",
   "metadata": {},
   "source": [
    "## Let's get started!\n",
    "### Table of contents\n",
    "0. Preparations\n",
    "1. Visualising neuro-imaging data\n",
    "    - What is a nifti (.nii)?\n",
    "    - Anatomical MRI - T1w\n",
    "    - Functional MRI (fMRI)\n",
    "2. ...\n",
    "3. ..."
   ]
  },
  {
   "cell_type": "markdown",
   "metadata": {},
   "source": [
    "***"
   ]
  },
  {
   "cell_type": "markdown",
   "metadata": {},
   "source": [
    "# 0. Preparations"
   ]
  },
  {
   "cell_type": "markdown",
   "metadata": {},
   "source": [
    "Import some general packages"
   ]
  },
  {
   "cell_type": "code",
   "execution_count": 11,
   "metadata": {
    "scrolled": true
   },
   "outputs": [
    {
     "data": {
      "application/javascript": [
       "\n",
       "            setTimeout(function() {\n",
       "                var nbb_cell_id = 11;\n",
       "                var nbb_unformatted_code = \"# Data handling\\nimport pandas as pd\\nimport numpy as np\\n\\n# Data description\\nimport json\\n\\n# Neuro-imaging packages\\nimport nibabel as nib\\nimport nilearn as nil\\n\\n# Self-made functions\\nfrom python.functions import show_slice, track_voxel, simulate_volume\";\n",
       "                var nbb_formatted_code = \"# Data handling\\nimport pandas as pd\\nimport numpy as np\\n\\n# Data description\\nimport json\\n\\n# Neuro-imaging packages\\nimport nibabel as nib\\nimport nilearn as nil\\n\\n# Self-made functions\\nfrom python.functions import show_slice, track_voxel, simulate_volume\";\n",
       "                var nbb_cells = Jupyter.notebook.get_cells();\n",
       "                for (var i = 0; i < nbb_cells.length; ++i) {\n",
       "                    if (nbb_cells[i].input_prompt_number == nbb_cell_id) {\n",
       "                        if (nbb_cells[i].get_text() == nbb_unformatted_code) {\n",
       "                             nbb_cells[i].set_text(nbb_formatted_code);\n",
       "                        }\n",
       "                        break;\n",
       "                    }\n",
       "                }\n",
       "            }, 500);\n",
       "            "
      ],
      "text/plain": [
       "<IPython.core.display.Javascript object>"
      ]
     },
     "metadata": {},
     "output_type": "display_data"
    }
   ],
   "source": [
    "# Data handling\n",
    "import pandas as pd\n",
    "import numpy as np\n",
    "\n",
    "# Data description\n",
    "import json\n",
    "\n",
    "# Neuro-imaging packages\n",
    "import nibabel as nib\n",
    "import nilearn as nil\n",
    "\n",
    "# Self-made functions\n",
    "from python.functions import show_slice, track_voxel, simulate_volume"
   ]
  },
  {
   "cell_type": "markdown",
   "metadata": {},
   "source": [
    "***"
   ]
  },
  {
   "cell_type": "markdown",
   "metadata": {},
   "source": [
    "# 1. Visualising neuro-imaging data"
   ]
  },
  {
   "cell_type": "markdown",
   "metadata": {},
   "source": [
    "The data was downloaded from OpenNeuro, [project ds003542](https://openneuro.org/datasets/ds003542/versions/1.0.0), which originates from a study on language learners. We only extracted data from subject 1. Hence, the data is present in the \"ds00352-download\" folder, subdirectory \"sub-01\":\n",
    "- Anatomical MRI: \"anat\" subfolder\n",
    "- Functional MRI: \"func\" subfolder\n",
    "\n",
    "Let's define the paths:"
   ]
  },
  {
   "cell_type": "code",
   "execution_count": 5,
   "metadata": {},
   "outputs": [
    {
     "data": {
      "application/javascript": [
       "\n",
       "            setTimeout(function() {\n",
       "                var nbb_cell_id = 5;\n",
       "                var nbb_unformatted_code = \"# We use the BIDS data organisation to get our desired data from our data folder. \\n# Index [0] at the end: to get the string from the 1-element vector.\\nt1w_path = layout.get(\\n    subject=\\\"01\\\", suffix=\\\"T1w\\\", extension=\\\".nii.gz\\\", return_type=\\\"filename\\\"\\n)[0]\\nbold_path = layout.get(\\n    subject=\\\"01\\\",\\n    task=\\\"compL1\\\",\\n    run=\\\"1\\\",\\n    suffix=\\\"bold\\\",\\n    extension=\\\".nii.gz\\\",\\n    return_type=\\\"filename\\\",\\n)[0]\";\n",
       "                var nbb_formatted_code = \"# We use the BIDS data organisation to get our desired data from our data folder.\\n# Index [0] at the end: to get the string from the 1-element vector.\\nt1w_path = layout.get(\\n    subject=\\\"01\\\", suffix=\\\"T1w\\\", extension=\\\".nii.gz\\\", return_type=\\\"filename\\\"\\n)[0]\\nbold_path = layout.get(\\n    subject=\\\"01\\\",\\n    task=\\\"compL1\\\",\\n    run=\\\"1\\\",\\n    suffix=\\\"bold\\\",\\n    extension=\\\".nii.gz\\\",\\n    return_type=\\\"filename\\\",\\n)[0]\";\n",
       "                var nbb_cells = Jupyter.notebook.get_cells();\n",
       "                for (var i = 0; i < nbb_cells.length; ++i) {\n",
       "                    if (nbb_cells[i].input_prompt_number == nbb_cell_id) {\n",
       "                        if (nbb_cells[i].get_text() == nbb_unformatted_code) {\n",
       "                             nbb_cells[i].set_text(nbb_formatted_code);\n",
       "                        }\n",
       "                        break;\n",
       "                    }\n",
       "                }\n",
       "            }, 500);\n",
       "            "
      ],
      "text/plain": [
       "<IPython.core.display.Javascript object>"
      ]
     },
     "metadata": {},
     "output_type": "display_data"
    }
   ],
   "source": [
    "# We use the BIDS data organisation to get our desired data from our data folder. \n",
    "# Index [0] at the end: to get the string from the 1-element vector.\n",
    "t1w_path = layout.get(\n",
    "    subject=\"01\", suffix=\"T1w\", extension=\".nii.gz\", return_type=\"filename\"\n",
    ")[0]\n",
    "bold_path = layout.get(\n",
    "    subject=\"01\",\n",
    "    task=\"compL1\",\n",
    "    run=\"1\",\n",
    "    suffix=\"bold\",\n",
    "    extension=\".nii.gz\",\n",
    "    return_type=\"filename\",\n",
    ")[0]"
   ]
  },
  {
   "cell_type": "markdown",
   "metadata": {},
   "source": [
    "## 1.1 What is a nifti (.nii)?"
   ]
  },
  {
   "cell_type": "markdown",
   "metadata": {},
   "source": [
    "For a thorough explanation on the origin and objective of nifti, we refer to [this webpage](https://nifti.nimh.nih.gov/). In short however, the nifti file format has been proposed to "
   ]
  },
  {
   "cell_type": "markdown",
   "metadata": {},
   "source": [
    "## 1.2 Anatomical MRI - T1w"
   ]
  },
  {
   "cell_type": "markdown",
   "metadata": {},
   "source": [
    "Click [here](https://nipy.org/nibabel/coordinate_systems.html) for the source article in nibabel.\\\n",
    "Note that this anatomical T1w nifti is a 3D image, with each dimension being a spatial dimension (x, y and z), corresponding to a body axis (medio-lateral, antero-posterior and cranio-caudal)."
   ]
  },
  {
   "cell_type": "markdown",
   "metadata": {},
   "source": [
    "### 1.2.1 Let's first search for the nifti file in our directory! "
   ]
  },
  {
   "cell_type": "code",
   "execution_count": 6,
   "metadata": {},
   "outputs": [
    {
     "ename": "FileNotFoundError",
     "evalue": "No such file or no access: '/Users/sdenissen/Documents/Code_Git/openmr2021-dataviz-workshop-python/inputs/ds003542/sub-01/anat/sub-01_T1w.nii.gz'",
     "output_type": "error",
     "traceback": [
      "\u001b[0;31m---------------------------------------------------------------------------\u001b[0m",
      "\u001b[0;31mFileNotFoundError\u001b[0m                         Traceback (most recent call last)",
      "\u001b[0;32m~/Documents/Code_Git/openmr2021-dataviz-workshop-python/venv/lib/python3.7/site-packages/nibabel/loadsave.py\u001b[0m in \u001b[0;36mload\u001b[0;34m(filename, **kwargs)\u001b[0m\n\u001b[1;32m     41\u001b[0m     \u001b[0;32mtry\u001b[0m\u001b[0;34m:\u001b[0m\u001b[0;34m\u001b[0m\u001b[0;34m\u001b[0m\u001b[0m\n\u001b[0;32m---> 42\u001b[0;31m         \u001b[0mstat_result\u001b[0m \u001b[0;34m=\u001b[0m \u001b[0mos\u001b[0m\u001b[0;34m.\u001b[0m\u001b[0mstat\u001b[0m\u001b[0;34m(\u001b[0m\u001b[0mfilename\u001b[0m\u001b[0;34m)\u001b[0m\u001b[0;34m\u001b[0m\u001b[0;34m\u001b[0m\u001b[0m\n\u001b[0m\u001b[1;32m     43\u001b[0m     \u001b[0;32mexcept\u001b[0m \u001b[0mOSError\u001b[0m\u001b[0;34m:\u001b[0m\u001b[0;34m\u001b[0m\u001b[0;34m\u001b[0m\u001b[0m\n",
      "\u001b[0;31mFileNotFoundError\u001b[0m: [Errno 2] No such file or directory: '/Users/sdenissen/Documents/Code_Git/openmr2021-dataviz-workshop-python/inputs/ds003542/sub-01/anat/sub-01_T1w.nii.gz'",
      "\nDuring handling of the above exception, another exception occurred:\n",
      "\u001b[0;31mFileNotFoundError\u001b[0m                         Traceback (most recent call last)",
      "\u001b[0;32m<ipython-input-6-c7ddd154cc5a>\u001b[0m in \u001b[0;36m<module>\u001b[0;34m\u001b[0m\n\u001b[0;32m----> 1\u001b[0;31m \u001b[0mt1w_file\u001b[0m \u001b[0;34m=\u001b[0m \u001b[0mnib\u001b[0m\u001b[0;34m.\u001b[0m\u001b[0mload\u001b[0m\u001b[0;34m(\u001b[0m\u001b[0mt1w_path\u001b[0m\u001b[0;34m)\u001b[0m  \u001b[0;31m# Upload the nifti file with nibabel. The path indicates the Nifti's location.\u001b[0m\u001b[0;34m\u001b[0m\u001b[0;34m\u001b[0m\u001b[0m\n\u001b[0m\u001b[1;32m      2\u001b[0m \u001b[0mt1w_image\u001b[0m \u001b[0;34m=\u001b[0m \u001b[0;34m(\u001b[0m\u001b[0mt1w_file\u001b[0m\u001b[0;34m.\u001b[0m\u001b[0mget_fdata\u001b[0m\u001b[0;34m(\u001b[0m\u001b[0;34m)\u001b[0m\u001b[0;34m)\u001b[0m  \u001b[0;31m# Get the 3D numpy array that contains grey values of the voxels\u001b[0m\u001b[0;34m\u001b[0m\u001b[0;34m\u001b[0m\u001b[0m\n",
      "\u001b[0;32m~/Documents/Code_Git/openmr2021-dataviz-workshop-python/venv/lib/python3.7/site-packages/nibabel/loadsave.py\u001b[0m in \u001b[0;36mload\u001b[0;34m(filename, **kwargs)\u001b[0m\n\u001b[1;32m     42\u001b[0m         \u001b[0mstat_result\u001b[0m \u001b[0;34m=\u001b[0m \u001b[0mos\u001b[0m\u001b[0;34m.\u001b[0m\u001b[0mstat\u001b[0m\u001b[0;34m(\u001b[0m\u001b[0mfilename\u001b[0m\u001b[0;34m)\u001b[0m\u001b[0;34m\u001b[0m\u001b[0;34m\u001b[0m\u001b[0m\n\u001b[1;32m     43\u001b[0m     \u001b[0;32mexcept\u001b[0m \u001b[0mOSError\u001b[0m\u001b[0;34m:\u001b[0m\u001b[0;34m\u001b[0m\u001b[0;34m\u001b[0m\u001b[0m\n\u001b[0;32m---> 44\u001b[0;31m         \u001b[0;32mraise\u001b[0m \u001b[0mFileNotFoundError\u001b[0m\u001b[0;34m(\u001b[0m\u001b[0;34mf\"No such file or no access: '{filename}'\"\u001b[0m\u001b[0;34m)\u001b[0m\u001b[0;34m\u001b[0m\u001b[0;34m\u001b[0m\u001b[0m\n\u001b[0m\u001b[1;32m     45\u001b[0m     \u001b[0;32mif\u001b[0m \u001b[0mstat_result\u001b[0m\u001b[0;34m.\u001b[0m\u001b[0mst_size\u001b[0m \u001b[0;34m<=\u001b[0m \u001b[0;36m0\u001b[0m\u001b[0;34m:\u001b[0m\u001b[0;34m\u001b[0m\u001b[0;34m\u001b[0m\u001b[0m\n\u001b[1;32m     46\u001b[0m         \u001b[0;32mraise\u001b[0m \u001b[0mImageFileError\u001b[0m\u001b[0;34m(\u001b[0m\u001b[0;34mf\"Empty file: '{filename}'\"\u001b[0m\u001b[0;34m)\u001b[0m\u001b[0;34m\u001b[0m\u001b[0;34m\u001b[0m\u001b[0m\n",
      "\u001b[0;31mFileNotFoundError\u001b[0m: No such file or no access: '/Users/sdenissen/Documents/Code_Git/openmr2021-dataviz-workshop-python/inputs/ds003542/sub-01/anat/sub-01_T1w.nii.gz'"
     ]
    },
    {
     "data": {
      "application/javascript": [
       "\n",
       "            setTimeout(function() {\n",
       "                var nbb_cell_id = 6;\n",
       "                var nbb_unformatted_code = \"t1w_file = nib.load(t1w_path)  # Upload the nifti file with nibabel. The path indicates the Nifti's location.\\nt1w_image = (t1w_file.get_fdata())  # Get the 3D numpy array that contains grey values of the voxels\";\n",
       "                var nbb_formatted_code = \"t1w_file = nib.load(\\n    t1w_path\\n)  # Upload the nifti file with nibabel. The path indicates the Nifti's location.\\nt1w_image = (\\n    t1w_file.get_fdata()\\n)  # Get the 3D numpy array that contains grey values of the voxels\";\n",
       "                var nbb_cells = Jupyter.notebook.get_cells();\n",
       "                for (var i = 0; i < nbb_cells.length; ++i) {\n",
       "                    if (nbb_cells[i].input_prompt_number == nbb_cell_id) {\n",
       "                        if (nbb_cells[i].get_text() == nbb_unformatted_code) {\n",
       "                             nbb_cells[i].set_text(nbb_formatted_code);\n",
       "                        }\n",
       "                        break;\n",
       "                    }\n",
       "                }\n",
       "            }, 500);\n",
       "            "
      ],
      "text/plain": [
       "<IPython.core.display.Javascript object>"
      ]
     },
     "metadata": {},
     "output_type": "display_data"
    }
   ],
   "source": [
    "t1w_file = nib.load(t1w_path)  # Upload the nifti file with nibabel. The path indicates the Nifti's location.\n",
    "t1w_image = (t1w_file.get_fdata())  # Get the 3D numpy array that contains grey values of the voxels"
   ]
  },
  {
   "cell_type": "markdown",
   "metadata": {},
   "source": [
    "### 1.2.2 What are the dimensions of the numpy array?"
   ]
  },
  {
   "cell_type": "code",
   "execution_count": null,
   "metadata": {},
   "outputs": [],
   "source": [
    "t1w_shape = ...\n",
    "print(f\"Shape of the 3D numpy array: {...}\")\n",
    "print(f\"- # Medio-lateral voxels: {...}\")\n",
    "print(f\"- # Antero-posterior voxels: {...}\")\n",
    "print(f\"- # Cranio-caudal voxels: {...}\")"
   ]
  },
  {
   "cell_type": "markdown",
   "metadata": {},
   "source": [
    "Solution:"
   ]
  },
  {
   "cell_type": "code",
   "execution_count": null,
   "metadata": {
    "jupyter": {
     "source_hidden": true
    }
   },
   "outputs": [],
   "source": [
    "t1w_shape = t1w_image.shape\n",
    "print(f\"Shape of the 3D numpy array: {t1w_shape}\")\n",
    "print(f\"- # Medio-lateral voxels: {t1w_shape[0]}\")\n",
    "print(f\"- # Antero-posterior voxels: {t1w_shape[1]}\")\n",
    "print(f\"- # Cranio-caudal voxels: {t1w_shape[2]}\")"
   ]
  },
  {
   "cell_type": "markdown",
   "metadata": {},
   "source": [
    "### 1.2.3 Let's show a single slice of the 3D numpy array.\n",
    "To do this, we can index the object, for which step 2 will help us!\\\n",
    "We want to extract axial slice 150. \n",
    "\n",
    "Hint: indexing of the `t1w_image` object will be as follows: `t1w_image[ML_direction, AP_direction, CC_direction]`, with each element consisting of either a single value, or a range (e.g. `5:9`). To select everyting along an axis, just pass `:`. ML = Medio-lateral, AP = Antero-posterior, CC = Cranio-caudal."
   ]
  },
  {
   "cell_type": "code",
   "execution_count": null,
   "metadata": {},
   "outputs": [],
   "source": [
    "t1w_slice = t1w_image[:, :, 150]\n",
    "fig, ax = plt.subplots()\n",
    "ax.imshow(t1w_slice.T, cmap=\"gray\", origin=\"lower\")"
   ]
  },
  {
   "cell_type": "markdown",
   "metadata": {},
   "source": [
    "Solution:"
   ]
  },
  {
   "cell_type": "markdown",
   "metadata": {},
   "source": [
    "- All voxels in the Medio-lateral direction must be selected, so `:` in the fist position\n",
    "- All voxels in the Antero-posterior direction must be selected, so `:` in the second position\n",
    "- Only voxel number 150 must be selected in Cranio-caudal direction, so `150` in the second position\n",
    "\n",
    "Hence, we will index the image as follows: `[:,:,150]`"
   ]
  },
  {
   "cell_type": "markdown",
   "metadata": {},
   "source": [
    "We have also created a function (`show_anatomical_slice`) for you to easily investigate your T1w image. You can consult the source code in the `functions.py` file. \n",
    "\n",
    "To use it, just run `show_anatomical_slice(image = t1w_image, orientation = 'axial', slice_nr = 150)` in the next cell. Play around with the `orientation` and `slice_nr` parameters at will!"
   ]
  },
  {
   "cell_type": "markdown",
   "metadata": {},
   "source": [
    "**REMARK: Defacing**\\\n",
    "Run the following code block in a new cell: `show_anatomical_slice(t1_image, 'sagittal', 100)`.\\\n",
    "In this slice, you can nicely see that this nifti image has been \"defaced\", to ensure anonimity. This essentially means that, inside the 3D numpy array, all values that relate to the face were set to 0 (black)!"
   ]
  },
  {
   "cell_type": "markdown",
   "metadata": {},
   "source": [
    "## 1.3 Functional MRI (fMRI)"
   ]
  },
  {
   "cell_type": "markdown",
   "metadata": {},
   "source": [
    "First things first: a functional MRI image has a fourth dimension, time!\\\n",
    "Hence, a nifti file is a 4D numpy array, with the first 3 dimensions being spatial (x: medio-lateral, y: antero-posterior and z: craniocaudal), and the 4th being time!"
   ]
  },
  {
   "cell_type": "markdown",
   "metadata": {},
   "source": [
    "EXTRA: For the most fancy experience, you can replace the `color_map` parameter inside the `show_functional_slice` and `track_voxel` functions with one of the options listed in [this link](https://matplotlib.org/stable/tutorials/colors/colormaps.html). This will change the colors of your image, check it out! :) "
   ]
  },
  {
   "cell_type": "markdown",
   "metadata": {},
   "source": [
    "### 1.3.1 Let's first search for the nifti file in our directory! "
   ]
  },
  {
   "cell_type": "code",
   "execution_count": null,
   "metadata": {},
   "outputs": [],
   "source": [
    "bold_file = nib.load(bold_path)  # Upload the nifti file with nibabel\n",
    "bold_image = (bold_file.get_fdata())  # Get the 3D numpy array that contains grey values of the voxels"
   ]
  },
  {
   "cell_type": "markdown",
   "metadata": {},
   "source": [
    "### 1.3.2 What are the dimensions of the numpy array?"
   ]
  },
  {
   "cell_type": "code",
   "execution_count": null,
   "metadata": {},
   "outputs": [],
   "source": [
    "bold_shape = ...\n",
    "print(f\"Shape of the 3D numpy array: {...}\")\n",
    "print(f\"- # Medio-lateral voxels: {...}\")\n",
    "print(f\"- # Antero-posterior voxels: {...}\")\n",
    "print(f\"- # Cranio-caudal voxels: {...}\")\n",
    "print(f\"- # Timepoints: {...}\")"
   ]
  },
  {
   "cell_type": "markdown",
   "metadata": {},
   "source": [
    "Solution:"
   ]
  },
  {
   "cell_type": "code",
   "execution_count": null,
   "metadata": {
    "jupyter": {
     "source_hidden": true
    }
   },
   "outputs": [],
   "source": [
    "bold_shape = bold_image.shape\n",
    "print(f\"Shape of the 3D numpy array: {bold_shape}\")\n",
    "print(f\"- # Medio-lateral voxels: {bold_shape[0]}\")\n",
    "print(f\"- # Antero-posterior voxels: {bold_shape[1]}\")\n",
    "print(f\"- # Cranio-caudal voxels: {bold_shape[2]}\")\n",
    "print(f\"- # Timepoints: {bold_shape[3]}\")"
   ]
  },
  {
   "cell_type": "markdown",
   "metadata": {},
   "source": [
    "### 1.3.3 Let's show a single slice again!\n",
    "You can use your answer to section 1.2.3 to answer this one. We want to visualize axial slice 10."
   ]
  },
  {
   "cell_type": "code",
   "execution_count": null,
   "metadata": {},
   "outputs": [],
   "source": []
  },
  {
   "cell_type": "markdown",
   "metadata": {},
   "source": [
    "Solution:"
   ]
  },
  {
   "cell_type": "markdown",
   "metadata": {},
   "source": [
    "- All voxels in the Medio-lateral direction must be selected, so `:` in the fist position\n",
    "- All voxels in the Medio-lateral direction must be selected, so `:` in the second position\n",
    "- Only voxel number 150 must be selected in Cranio-caudal direction, so `10` in the second position\n",
    "- We consider the first timepoint, so the last dimension (time) should be indexed as `0`\n",
    "\n",
    "Hence, we will index the image as follows: `[:,:,10,0]`"
   ]
  },
  {
   "cell_type": "code",
   "execution_count": null,
   "metadata": {
    "jupyter": {
     "source_hidden": true
    }
   },
   "outputs": [],
   "source": [
    "bold_slice = bold_image[:, :, 10, 0]\n",
    "fig, ax = plt.subplots()\n",
    "ax.imshow(bold_slice.T, cmap=\"gray\", origin=\"lower\")"
   ]
  },
  {
   "cell_type": "markdown",
   "metadata": {},
   "source": [
    "Question: When looking at the spatial dimensions and compare it to the T1w image, what do you notice?"
   ]
  },
  {
   "cell_type": "markdown",
   "metadata": {},
   "source": [
    "Answer:"
   ]
  },
  {
   "cell_type": "markdown",
   "metadata": {},
   "source": [
    "We see that the resolution of the fMRI is far less than the T1w image! This is why we chose axial slice 20 instead of 150 (which was the case for T1w); slice 150 doesn't exist in this fMRI image!"
   ]
  },
  {
   "cell_type": "markdown",
   "metadata": {},
   "source": [
    "We have also created a function (`show_functional_slice`) for you to easily investigate your fMRI image. You can consult the source code in the `functions.py` file. \n",
    "\n",
    "To use it, just run `show_functional_slice(image = bold_image, orientation = 'axial', slice_nr = 10, timepoint = 0)` in the next cell. Play around with the `orientation`, `slice_nr` and `timepoint` parameters at will!"
   ]
  },
  {
   "cell_type": "markdown",
   "metadata": {},
   "source": [
    "### 1.3.4 Let's track a voxel over time!\n",
    "\n",
    "In this step, we will explore how we track a single voxel over time. This will show how the BOLD value inside the voxel in a T2* image changes over the 4th dimension, time. We want to visualize the voxel with the following spatial characteristics:\n",
    "- Medio-lateral position: 30\n",
    "- Antero-posterior position: 53\n",
    "- Cranio-caudal position 20\n",
    "\n",
    "Hint: Use matplotlib (already loaded). The following functions might be useful: `fig,ax = plt.subplots()` and `ax.plot()`"
   ]
  },
  {
   "cell_type": "markdown",
   "metadata": {},
   "source": [
    "Solution:"
   ]
  },
  {
   "cell_type": "code",
   "execution_count": null,
   "metadata": {
    "jupyter": {
     "source_hidden": true
    }
   },
   "outputs": [],
   "source": [
    "fig, ax = plt.subplots()\n",
    "voxel_BOLD_vector = bold_image[30, 53, 20, :]\n",
    "ax.plot(voxel_BOLD_vector)\n",
    "plt.show()"
   ]
  },
  {
   "cell_type": "markdown",
   "metadata": {},
   "source": [
    "Perhaps it might be nice to see the spatial location of the tracked voxel in 3 different planes of the MRI image. Run the following code block in a next cell reveal its location: `track_voxel(bold_image, 30, 53, 20, voxel_color='lightgreen')`."
   ]
  },
  {
   "cell_type": "markdown",
   "metadata": {},
   "source": [
    "***"
   ]
  },
  {
   "cell_type": "markdown",
   "metadata": {},
   "source": [
    "# 2. Visualisation on a dataframe"
   ]
  },
  {
   "cell_type": "markdown",
   "metadata": {},
   "source": [
    "We will first upload the following: \n",
    "- data: `participants.tsv`\n",
    "- description of the data: `participants.json`"
   ]
  },
  {
   "cell_type": "code",
   "execution_count": 12,
   "metadata": {},
   "outputs": [
    {
     "data": {
      "application/javascript": [
       "\n",
       "            setTimeout(function() {\n",
       "                var nbb_cell_id = 12;\n",
       "                var nbb_unformatted_code = \"# Data. This is a .tsv (tab-separated) file\\ntable_path = os.path.join(data_folder, \\\"participants.tsv\\\")\\ndf = pd.read_csv(table_path, sep=\\\"\\\\t\\\") # Separator \\\"\\\\t\\\" since it is a .tsv file\\ndf['sex'] = df['sex'].apply(lambda x: x.replace(' ', ''))  # Remove the space after M and F\\n\\n# Data description. This is within a \\nwith open(os.path.join(data_folder, \\\"participants.json\\\")) as json_file:\\n    df_description = json.load(json_file)\\n    df_description = pd.DataFrame(df_description)\\n    df_description = df_description.drop(\\\"TermURL\\\", axis=0)\";\n",
       "                var nbb_formatted_code = \"# Data. This is a .tsv (tab-separated) file\\ntable_path = os.path.join(data_folder, \\\"participants.tsv\\\")\\ndf = pd.read_csv(table_path, sep=\\\"\\\\t\\\")  # Separator \\\"\\\\t\\\" since it is a .tsv file\\ndf[\\\"sex\\\"] = df[\\\"sex\\\"].apply(\\n    lambda x: x.replace(\\\" \\\", \\\"\\\")\\n)  # Remove the space after M and F\\n\\n# Data description. This is within a\\nwith open(os.path.join(data_folder, \\\"participants.json\\\")) as json_file:\\n    df_description = json.load(json_file)\\n    df_description = pd.DataFrame(df_description)\\n    df_description = df_description.drop(\\\"TermURL\\\", axis=0)\";\n",
       "                var nbb_cells = Jupyter.notebook.get_cells();\n",
       "                for (var i = 0; i < nbb_cells.length; ++i) {\n",
       "                    if (nbb_cells[i].input_prompt_number == nbb_cell_id) {\n",
       "                        if (nbb_cells[i].get_text() == nbb_unformatted_code) {\n",
       "                             nbb_cells[i].set_text(nbb_formatted_code);\n",
       "                        }\n",
       "                        break;\n",
       "                    }\n",
       "                }\n",
       "            }, 500);\n",
       "            "
      ],
      "text/plain": [
       "<IPython.core.display.Javascript object>"
      ]
     },
     "metadata": {},
     "output_type": "display_data"
    }
   ],
   "source": [
    "# Data. This is a .tsv (tab-separated) file\n",
    "table_path = os.path.join(data_folder, \"participants.tsv\")\n",
    "df = pd.read_csv(table_path, sep=\"\\t\") # Separator \"\\t\" since it is a .tsv file\n",
    "df['sex'] = df['sex'].apply(lambda x: x.replace(' ', ''))  # Remove the space after M and F\n",
    "\n",
    "# Data description. This is within a \n",
    "with open(os.path.join(data_folder, \"participants.json\")) as json_file:\n",
    "    df_description = json.load(json_file)\n",
    "    df_description = pd.DataFrame(df_description)\n",
    "    df_description = df_description.drop(\"TermURL\", axis=0)"
   ]
  },
  {
   "cell_type": "markdown",
   "metadata": {},
   "source": [
    "Additionally, we are going to add some artificial data. We will calculate whole brain and gray matter volume, for which we will use the following regression equations (calculated on segmented open source healthy control data):\n",
    "\n",
    "$$WholeBrain = 1696.06 - 3.34Age$$\n",
    "$$GrayMatter = 1041.07 - 2.84Age$$\n",
    "\n",
    "We will also add some Gaussian noise to both data vectors. We will use the pandas `.apply()` function, applied to a pandas Series object. The `simulate_volume` function will be applied, passing 2 extra arguments, being the `intercept` and the `slope` of the regression equation. The first argument, `age`, will be provided by the Series object."
   ]
  },
  {
   "cell_type": "code",
   "execution_count": 15,
   "metadata": {},
   "outputs": [
    {
     "data": {
      "application/javascript": [
       "\n",
       "            setTimeout(function() {\n",
       "                var nbb_cell_id = 15;\n",
       "                var nbb_unformatted_code = \"df['whole_brain'] = df['age'].apply(simulate_volume, args = (1696.06, -3.34))\\ndf['gray_matter'] = df['age'].apply(simulate_volume, args = (1041.07, -2.84))\";\n",
       "                var nbb_formatted_code = \"df[\\\"whole_brain\\\"] = df[\\\"age\\\"].apply(simulate_volume, args=(1696.06, -3.34))\\ndf[\\\"gray_matter\\\"] = df[\\\"age\\\"].apply(simulate_volume, args=(1041.07, -2.84))\";\n",
       "                var nbb_cells = Jupyter.notebook.get_cells();\n",
       "                for (var i = 0; i < nbb_cells.length; ++i) {\n",
       "                    if (nbb_cells[i].input_prompt_number == nbb_cell_id) {\n",
       "                        if (nbb_cells[i].get_text() == nbb_unformatted_code) {\n",
       "                             nbb_cells[i].set_text(nbb_formatted_code);\n",
       "                        }\n",
       "                        break;\n",
       "                    }\n",
       "                }\n",
       "            }, 500);\n",
       "            "
      ],
      "text/plain": [
       "<IPython.core.display.Javascript object>"
      ]
     },
     "metadata": {},
     "output_type": "display_data"
    }
   ],
   "source": [
    "df['whole_brain'] = df['age'].apply(simulate_volume, args = (1696.06, -3.34))\n",
    "df['gray_matter'] = df['age'].apply(simulate_volume, args = (1041.07, -2.84))"
   ]
  },
  {
   "cell_type": "markdown",
   "metadata": {},
   "source": [
    "# 2.1 Explore the dataframes quantitatively"
   ]
  },
  {
   "cell_type": "markdown",
   "metadata": {},
   "source": [
    "Get a sneak preview of the data `df.head()` and the full data description `df_description`"
   ]
  },
  {
   "cell_type": "markdown",
   "metadata": {},
   "source": [
    "Get a quick insight in the distribution of the data. For this, you can use e.g. `df.describe()` and `df.info()`"
   ]
  },
  {
   "cell_type": "code",
   "execution_count": null,
   "metadata": {},
   "outputs": [],
   "source": []
  },
  {
   "cell_type": "markdown",
   "metadata": {},
   "source": [
    "## 2.2 Basic visualisation with matplotlib"
   ]
  },
  {
   "cell_type": "markdown",
   "metadata": {},
   "source": [
    "Let's go through the basics of matplotlib first in order to visualize how your data is distributed. We will use matplotlib.pyplot, which we will import under the name `plt`. Thus, make sure to run this command: `import matplotlib.pyplot as plt`. A general way to start plotting:\n",
    "1. Initiate a figure instance: `fig = plt.Figure()`\n",
    "2. Add the desired plot. In this case, we will add a histogram: `plt.hist(x)`, x being the data vector to show (e.g. a column).\n",
    "3. Tidy up your figure. Quick note: you can change the font sizes with an extra argument (`fontsize = ...`) to all of the functions below. Some quick things we can change (examples: x axis, same applies to y):\n",
    "    - Labels: `plt.xlabel('label')`\n",
    "    - Ticklabels sizes: `plt.xticks(fontsize = ...)`\n",
    "    - Title: `plt.title('title')`\n",
    "4. End with `plt.show()` to show the figure"
   ]
  },
  {
   "cell_type": "markdown",
   "metadata": {},
   "source": [
    "Now it's up to you! Plot the distribution of the `age` column with a histogram."
   ]
  },
  {
   "cell_type": "code",
   "execution_count": null,
   "metadata": {},
   "outputs": [],
   "source": []
  },
  {
   "cell_type": "markdown",
   "metadata": {},
   "source": [
    "Solution:"
   ]
  },
  {
   "cell_type": "code",
   "execution_count": 16,
   "metadata": {},
   "outputs": [
    {
     "data": {
      "image/png": "[encoded data removed]",
      "text/plain": [
       "<Figure size 432x288 with 1 Axes>"
      ]
     },
     "metadata": {
      "needs_background": "light"
     },
     "output_type": "display_data"
    },
    {
     "data": {
      "application/javascript": [
       "\n",
       "            setTimeout(function() {\n",
       "                var nbb_cell_id = 16;\n",
       "                var nbb_unformatted_code = \"import matplotlib.pyplot as plt\\nfig = plt.Figure()\\nplt.hist(df['age'])\\nplt.xlabel('Age [years]', fontsize = 18)\\nplt.ylabel('Count', fontsize = 18)\\nplt.xticks(fontsize = 14)\\nplt.yticks(fontsize = 14)\\nplt.title('Age distribution', fontsize = 18)\\nplt.show()\";\n",
       "                var nbb_formatted_code = \"import matplotlib.pyplot as plt\\n\\nfig = plt.Figure()\\nplt.hist(df[\\\"age\\\"])\\nplt.xlabel(\\\"Age [years]\\\", fontsize=18)\\nplt.ylabel(\\\"Count\\\", fontsize=18)\\nplt.xticks(fontsize=14)\\nplt.yticks(fontsize=14)\\nplt.title(\\\"Age distribution\\\", fontsize=18)\\nplt.show()\";\n",
       "                var nbb_cells = Jupyter.notebook.get_cells();\n",
       "                for (var i = 0; i < nbb_cells.length; ++i) {\n",
       "                    if (nbb_cells[i].input_prompt_number == nbb_cell_id) {\n",
       "                        if (nbb_cells[i].get_text() == nbb_unformatted_code) {\n",
       "                             nbb_cells[i].set_text(nbb_formatted_code);\n",
       "                        }\n",
       "                        break;\n",
       "                    }\n",
       "                }\n",
       "            }, 500);\n",
       "            "
      ],
      "text/plain": [
       "<IPython.core.display.Javascript object>"
      ]
     },
     "metadata": {},
     "output_type": "display_data"
    }
   ],
   "source": [
    "import matplotlib.pyplot as plt\n",
    "fig = plt.Figure()\n",
    "plt.hist(df['age'])\n",
    "plt.xlabel('Age [years]', fontsize = 18)\n",
    "plt.ylabel('Count', fontsize = 18)\n",
    "plt.xticks(fontsize = 14)\n",
    "plt.yticks(fontsize = 14)\n",
    "plt.title('Age distribution', fontsize = 18)\n",
    "plt.show()"
   ]
  },
  {
   "cell_type": "markdown",
   "metadata": {},
   "source": [
    "Now, we will plot the histogram per sex, one for male, one for female, side by side. For this, instead of `fig = plt.Figure()`, we will make use of `fig, ax = plt.subplots()`. By default, the effect is the same as the former approach, however, this option will allow you to plot multiple plots.\n",
    "- Initiate fig and ax instance `fig, ax = plt.subplots(nrows = ..., ncols = ..., figsize = ())`\n",
    "- Use the ax instance to manipulate the figure, instead of fig. However, we might have to index now:\n",
    "    - `nrows` = 1, `ncols` = 1: no indexing necessary\n",
    "    - `nrows` > 1, `ncols` = 1: 1 index necessary: ax[...]\n",
    "    - `nrows` = 1, `ncols` > 1: 1 index necessary: ax[...]\n",
    "    - `nrows` > 1, `ncols` > 1: 2 indices necessary: ax[..., ...]\n",
    "- Many options that we saw before in the `fig = plt.Figure()` case will now have an additional `set_`. E.g. `fig.xlabel()` is now `ax.set_xlabel()`.\n",
    "\n",
    "Optional: Choose the amount of bins with the `bins` argument. You can also give it a nice colour with the `color` argument (str object).\n",
    "\n",
    "Good luck!!"
   ]
  },
  {
   "cell_type": "code",
   "execution_count": null,
   "metadata": {},
   "outputs": [],
   "source": []
  },
  {
   "cell_type": "markdown",
   "metadata": {},
   "source": [
    "Solution:"
   ]
  },
  {
   "cell_type": "code",
   "execution_count": 17,
   "metadata": {},
   "outputs": [
    {
     "data": {
      "image/png": "[encoded data removed]",
      "text/plain": [
       "<Figure size 720x288 with 2 Axes>"
      ]
     },
     "metadata": {
      "needs_background": "light"
     },
     "output_type": "display_data"
    },
    {
     "data": {
      "application/javascript": [
       "\n",
       "            setTimeout(function() {\n",
       "                var nbb_cell_id = 17;\n",
       "                var nbb_unformatted_code = \"fig,ax = plt.subplots(nrows = 1, ncols = 2, figsize = (10,4)) # (10,4) chosen since it looks nice\\n# Left figure (indexing 0)\\nax[0].hist(df['age'][df['sex'] == 'M'], color = 'blue')\\nax[0].set_xlabel('Age [years]')\\nax[0].set_ylabel('Count')\\nax[0].set_title('Male')\\n\\n# Right figure (indexing 0)\\nax[1].hist(df['age'][df['sex'] == 'F'], color = 'red')\\nax[1].set_xlabel('Age [years]')\\nax[1].set_ylabel('Count')\\nax[1].set_title('Female')\\n\\n# Common title:\\nplt.suptitle('Histograms')\\nplt.show()\";\n",
       "                var nbb_formatted_code = \"fig, ax = plt.subplots(\\n    nrows=1, ncols=2, figsize=(10, 4)\\n)  # (10,4) chosen since it looks nice\\n# Left figure (indexing 0)\\nax[0].hist(df[\\\"age\\\"][df[\\\"sex\\\"] == \\\"M\\\"], color=\\\"blue\\\")\\nax[0].set_xlabel(\\\"Age [years]\\\")\\nax[0].set_ylabel(\\\"Count\\\")\\nax[0].set_title(\\\"Male\\\")\\n\\n# Right figure (indexing 0)\\nax[1].hist(df[\\\"age\\\"][df[\\\"sex\\\"] == \\\"F\\\"], color=\\\"red\\\")\\nax[1].set_xlabel(\\\"Age [years]\\\")\\nax[1].set_ylabel(\\\"Count\\\")\\nax[1].set_title(\\\"Female\\\")\\n\\n# Common title:\\nplt.suptitle(\\\"Histograms\\\")\\nplt.show()\";\n",
       "                var nbb_cells = Jupyter.notebook.get_cells();\n",
       "                for (var i = 0; i < nbb_cells.length; ++i) {\n",
       "                    if (nbb_cells[i].input_prompt_number == nbb_cell_id) {\n",
       "                        if (nbb_cells[i].get_text() == nbb_unformatted_code) {\n",
       "                             nbb_cells[i].set_text(nbb_formatted_code);\n",
       "                        }\n",
       "                        break;\n",
       "                    }\n",
       "                }\n",
       "            }, 500);\n",
       "            "
      ],
      "text/plain": [
       "<IPython.core.display.Javascript object>"
      ]
     },
     "metadata": {},
     "output_type": "display_data"
    }
   ],
   "source": [
    "fig,ax = plt.subplots(nrows = 1, ncols = 2, figsize = (10,4)) # (10,4) chosen since it looks nice\n",
    "# Left figure (indexing 0)\n",
    "ax[0].hist(df['age'][df['sex'] == 'M'], color = 'blue')\n",
    "ax[0].set_xlabel('Age [years]')\n",
    "ax[0].set_ylabel('Count')\n",
    "ax[0].set_title('Male')\n",
    "\n",
    "# Right figure (indexing 0)\n",
    "ax[1].hist(df['age'][df['sex'] == 'F'], color = 'red')\n",
    "ax[1].set_xlabel('Age [years]')\n",
    "ax[1].set_ylabel('Count')\n",
    "ax[1].set_title('Female')\n",
    "\n",
    "# Common title:\n",
    "plt.suptitle('Histograms')\n",
    "plt.show()"
   ]
  },
  {
   "cell_type": "markdown",
   "metadata": {},
   "source": [
    "## 2.3 Introducing: Seaborn"
   ]
  },
  {
   "cell_type": "markdown",
   "metadata": {},
   "source": [
    "Potentially this already felt a bit cumbersome. Indeed, matplotlib provides you a lot of freedom, but to really get a publishable figure, we would need to write many lines of code.\n",
    "\n",
    "Hene, sometimes it is nice to benefit from other packages that have built upon matplotlib! Let's touch upon one in particular: `Seaborn`. Import it under the name `sns`, since this is, like `plt`, a consensus in the python language. It will be handy on stackoverflow! However, you can name it any way you want. For now, run: `import seaborn as sns`.\n",
    "\n",
    "Let's again plot a histogram. We will, however, use some knowledge we have gained on matplotlib:\n",
    "1. Initiage a subplot instance: `fig, ax = plt.subplots()`\n",
    "2. Assign a seaborn histogram to the ax object. Do this by assiging your `ax` object to the `ax` argument of the function: `sns.histplot(x, ax = ax)`. `x` is your data vector."
   ]
  },
  {
   "cell_type": "markdown",
   "metadata": {},
   "source": [
    "Solution:"
   ]
  },
  {
   "cell_type": "code",
   "execution_count": 47,
   "metadata": {},
   "outputs": [
    {
     "data": {
      "image/png": "[encoded data removed]",
      "text/plain": [
       "<Figure size 432x288 with 1 Axes>"
      ]
     },
     "metadata": {
      "needs_background": "light"
     },
     "output_type": "display_data"
    },
    {
     "data": {
      "application/javascript": [
       "\n",
       "            setTimeout(function() {\n",
       "                var nbb_cell_id = 47;\n",
       "                var nbb_unformatted_code = \"import seaborn as sns\\nfig, ax = plt.subplots()\\nsns.histplot(df['age'], ax = ax)\\nplt.show()\";\n",
       "                var nbb_formatted_code = \"import seaborn as sns\\n\\nfig, ax = plt.subplots()\\nsns.histplot(df[\\\"age\\\"], ax=ax)\\nplt.show()\";\n",
       "                var nbb_cells = Jupyter.notebook.get_cells();\n",
       "                for (var i = 0; i < nbb_cells.length; ++i) {\n",
       "                    if (nbb_cells[i].input_prompt_number == nbb_cell_id) {\n",
       "                        if (nbb_cells[i].get_text() == nbb_unformatted_code) {\n",
       "                             nbb_cells[i].set_text(nbb_formatted_code);\n",
       "                        }\n",
       "                        break;\n",
       "                    }\n",
       "                }\n",
       "            }, 500);\n",
       "            "
      ],
      "text/plain": [
       "<IPython.core.display.Javascript object>"
      ]
     },
     "metadata": {},
     "output_type": "display_data"
    }
   ],
   "source": [
    "import seaborn as sns\n",
    "fig, ax = plt.subplots()\n",
    "sns.histplot(df['age'], ax = ax)\n",
    "plt.show()"
   ]
  },
  {
   "cell_type": "markdown",
   "metadata": {},
   "source": [
    "Noticed something? \n",
    "- Seaborn works well with pandas! The columnnames are used as labels by default.\n",
    "- The figure doesn't exactly match the previous one. Let's set `bins` to 10. Now you can compare them :)"
   ]
  },
  {
   "cell_type": "markdown",
   "metadata": {},
   "source": [
    "Let's integrate what we have learned! Can you make the plot with following descriptions:\n",
    "- 2 plots above each other\n",
    "- The upper is the distribution of the `whole_brain` column. Instead of a histogram, plot the Kernel Density Estimation (KDE) with `sns.kdeplot()`.\n",
    "- The lower is a scatterplot between `age` (x) and `whole_brain` (y). HINT: use `sns.scatterplot()` or `sns.regplot()` (adds regression line).\n",
    "- All plots should be red"
   ]
  },
  {
   "cell_type": "code",
   "execution_count": null,
   "metadata": {},
   "outputs": [],
   "source": []
  },
  {
   "cell_type": "markdown",
   "metadata": {},
   "source": [
    "Solution:"
   ]
  },
  {
   "cell_type": "code",
   "execution_count": 48,
   "metadata": {},
   "outputs": [
    {
     "data": {
      "image/png": "[encoded data removed]",
      "text/plain": [
       "<Figure size 864x576 with 2 Axes>"
      ]
     },
     "metadata": {
      "needs_background": "light"
     },
     "output_type": "display_data"
    },
    {
     "data": {
      "application/javascript": [
       "\n",
       "            setTimeout(function() {\n",
       "                var nbb_cell_id = 48;\n",
       "                var nbb_unformatted_code = \"fig, ax = plt.subplots(nrows = 2, figsize = (12,8))\\nsns.kdeplot(df['whole_brain'], ax = ax[0], color = 'red')\\nsns.regplot(x = df['age'], y = df['whole_brain'], color = 'red')\\nplt.show()\";\n",
       "                var nbb_formatted_code = \"fig, ax = plt.subplots(nrows=2, figsize=(12, 8))\\nsns.kdeplot(df[\\\"whole_brain\\\"], ax=ax[0], color=\\\"red\\\")\\nsns.regplot(x=df[\\\"age\\\"], y=df[\\\"whole_brain\\\"], color=\\\"red\\\")\\nplt.show()\";\n",
       "                var nbb_cells = Jupyter.notebook.get_cells();\n",
       "                for (var i = 0; i < nbb_cells.length; ++i) {\n",
       "                    if (nbb_cells[i].input_prompt_number == nbb_cell_id) {\n",
       "                        if (nbb_cells[i].get_text() == nbb_unformatted_code) {\n",
       "                             nbb_cells[i].set_text(nbb_formatted_code);\n",
       "                        }\n",
       "                        break;\n",
       "                    }\n",
       "                }\n",
       "            }, 500);\n",
       "            "
      ],
      "text/plain": [
       "<IPython.core.display.Javascript object>"
      ]
     },
     "metadata": {},
     "output_type": "display_data"
    }
   ],
   "source": [
    "fig, ax = plt.subplots(nrows = 2, figsize = (12,8))\n",
    "sns.kdeplot(df['whole_brain'], ax = ax[0], color = 'red')\n",
    "sns.regplot(x = df['age'], y = df['whole_brain'], color = 'red')\n",
    "plt.show()"
   ]
  },
  {
   "cell_type": "markdown",
   "metadata": {},
   "source": [
    "Nice figure eh? Only 4 lines of code!"
   ]
  },
  {
   "cell_type": "markdown",
   "metadata": {},
   "source": [
    "## 2.4 Manipulating an ax object in a function"
   ]
  },
  {
   "cell_type": "markdown",
   "metadata": {},
   "source": [
    "Say that we have a figure with 3x3 subplots, and we want to plot all possible relations between the following features:\n",
    "- `age`: amount of years from birth\n",
    "- `whole_brain`: Whole brain volume \n",
    "- `Ln`: Performance on the new language being learned\n",
    "\n",
    "It will be quite cumbersome to plot everything manually, so why not write a function? Let's go through the steps:\n",
    "- Create an empty grid with `plt.subplots()`\n",
    "- Write a function `add_regplot` that takes an `ax` object as argument. Within that function, manipulate the `ax` object to your preferences. Return the ax object afterwards.\n",
    "- Write a nested for loop, with both loops looping over the same features stated above. HINT: the `enumerate()` function allows you to keep track of a \"counter\". E.g. `for index, feature in enumerate(['age', 'whole_brain', 'Ln'])` will assign the list elements to the `feature` variable, while `index` takes `0`, `1` and `2` for iteration 1, 2 and 3 respectively.\n",
    "- Extract the column for each feature by `df[feature]`. Pass these, along with the subplot you want to plot it on (remember to index your `ax` object!) to the function and assign it to the same subplot."
   ]
  },
  {
   "cell_type": "code",
   "execution_count": null,
   "metadata": {},
   "outputs": [],
   "source": []
  },
  {
   "cell_type": "markdown",
   "metadata": {},
   "source": [
    "Solution:"
   ]
  },
  {
   "cell_type": "code",
   "execution_count": 49,
   "metadata": {},
   "outputs": [
    {
     "data": {
      "application/javascript": [
       "\n",
       "            setTimeout(function() {\n",
       "                var nbb_cell_id = 49;\n",
       "                var nbb_unformatted_code = \"def add_regplot(ax, x, y):\\n    sns.regplot(ax = ax, x = x, y = y)\\n    return ax\";\n",
       "                var nbb_formatted_code = \"def add_regplot(ax, x, y):\\n    sns.regplot(ax=ax, x=x, y=y)\\n    return ax\";\n",
       "                var nbb_cells = Jupyter.notebook.get_cells();\n",
       "                for (var i = 0; i < nbb_cells.length; ++i) {\n",
       "                    if (nbb_cells[i].input_prompt_number == nbb_cell_id) {\n",
       "                        if (nbb_cells[i].get_text() == nbb_unformatted_code) {\n",
       "                             nbb_cells[i].set_text(nbb_formatted_code);\n",
       "                        }\n",
       "                        break;\n",
       "                    }\n",
       "                }\n",
       "            }, 500);\n",
       "            "
      ],
      "text/plain": [
       "<IPython.core.display.Javascript object>"
      ]
     },
     "metadata": {},
     "output_type": "display_data"
    }
   ],
   "source": [
    "def add_regplot(ax, x, y):\n",
    "    sns.regplot(ax = ax, x = x, y = y)\n",
    "    return ax"
   ]
  },
  {
   "cell_type": "code",
   "execution_count": 50,
   "metadata": {},
   "outputs": [
    {
     "data": {
      "image/png": "[encoded data removed]",
      "text/plain": [
       "<Figure size 648x648 with 9 Axes>"
      ]
     },
     "metadata": {
      "needs_background": "light"
     },
     "output_type": "display_data"
    },
    {
     "data": {
      "application/javascript": [
       "\n",
       "            setTimeout(function() {\n",
       "                var nbb_cell_id = 50;\n",
       "                var nbb_unformatted_code = \"fig,ax = plt.subplots(nrows=3,ncols=3, figsize = (9,9))\\nfor col_nr, feature_1 in enumerate(['age', 'whole_brain', 'Ln']):\\n    for row_nr, feature_2 in enumerate(['age', 'whole_brain', 'Ln']):\\n        ax[row_nr, col_nr] = add_regplot(ax = ax[row_nr, col_nr], x = df[feature_1], y = df[feature_2])\";\n",
       "                var nbb_formatted_code = \"fig, ax = plt.subplots(nrows=3, ncols=3, figsize=(9, 9))\\nfor col_nr, feature_1 in enumerate([\\\"age\\\", \\\"whole_brain\\\", \\\"Ln\\\"]):\\n    for row_nr, feature_2 in enumerate([\\\"age\\\", \\\"whole_brain\\\", \\\"Ln\\\"]):\\n        ax[row_nr, col_nr] = add_regplot(\\n            ax=ax[row_nr, col_nr], x=df[feature_1], y=df[feature_2]\\n        )\";\n",
       "                var nbb_cells = Jupyter.notebook.get_cells();\n",
       "                for (var i = 0; i < nbb_cells.length; ++i) {\n",
       "                    if (nbb_cells[i].input_prompt_number == nbb_cell_id) {\n",
       "                        if (nbb_cells[i].get_text() == nbb_unformatted_code) {\n",
       "                             nbb_cells[i].set_text(nbb_formatted_code);\n",
       "                        }\n",
       "                        break;\n",
       "                    }\n",
       "                }\n",
       "            }, 500);\n",
       "            "
      ],
      "text/plain": [
       "<IPython.core.display.Javascript object>"
      ]
     },
     "metadata": {},
     "output_type": "display_data"
    }
   ],
   "source": [
    "fig,ax = plt.subplots(nrows=3,ncols=3, figsize = (9,9))\n",
    "for col_nr, feature_1 in enumerate(['age', 'whole_brain', 'Ln']):\n",
    "    for row_nr, feature_2 in enumerate(['age', 'whole_brain', 'Ln']):\n",
    "        ax[row_nr, col_nr] = add_regplot(ax = ax[row_nr, col_nr], x = df[feature_1], y = df[feature_2])"
   ]
  },
  {
   "cell_type": "markdown",
   "metadata": {},
   "source": [
    "## 2.5 Visualisation options for data exploration"
   ]
  },
  {
   "cell_type": "markdown",
   "metadata": {},
   "source": [
    "Congratulations! With some adaptations on the former figure, you would get to what is called a **\"pairplot\"**. The diagonal figures are not that useful right? In a pairplot, the diagonal is the distribution of that feature, which maximizes the information inside the plot. \n",
    "\n",
    "Seaborn has one too: `sns.pairplot()`, and it works very well with pandas. Try it yourself! Use the function and give a pandas dataframe as argument. To reduce the size of the pairplot: Only select some columns of the dataframe.\n",
    "- NOTE: There are many adaptations possible to pairplots to adapt it to your preferences (add regression lines, textboxes (bit more advanced though), change the diagonal to KDE plots, ...). For example, try changing some parameters such as `kind` and `scatter_kws`, like suggested in the following [post](https://stackoverflow.com/questions/50722972/change-the-regression-line-colour-of-seaborns-pairplot). Also, the `hue` parameter allows you to change colors based on a categorical/dichotomous variable! Try adding `hue = 'sex'` to the pairplot (CAVE: you then also need to add that column to the column selection of your dataframe)."
   ]
  },
  {
   "cell_type": "code",
   "execution_count": null,
   "metadata": {},
   "outputs": [],
   "source": []
  },
  {
   "cell_type": "markdown",
   "metadata": {},
   "source": [
    "Solution:"
   ]
  },
  {
   "cell_type": "code",
   "execution_count": 51,
   "metadata": {},
   "outputs": [
    {
     "data": {
      "text/plain": [
       "<seaborn.axisgrid.PairGrid at 0x12c4239b0>"
      ]
     },
     "execution_count": 51,
     "metadata": {},
     "output_type": "execute_result"
    },
    {
     "data": {
      "image/png": "[encoded data removed]",
      "text/plain": [
       "<Figure size 584.625x540 with 12 Axes>"
      ]
     },
     "metadata": {
      "needs_background": "light"
     },
     "output_type": "display_data"
    },
    {
     "data": {
      "application/javascript": [
       "\n",
       "            setTimeout(function() {\n",
       "                var nbb_cell_id = 51;\n",
       "                var nbb_unformatted_code = \"sns.pairplot(df[['age', 'whole_brain', 'Ln', 'sex']], diag_kind = 'kde', hue = 'sex')\";\n",
       "                var nbb_formatted_code = \"sns.pairplot(df[[\\\"age\\\", \\\"whole_brain\\\", \\\"Ln\\\", \\\"sex\\\"]], diag_kind=\\\"kde\\\", hue=\\\"sex\\\")\";\n",
       "                var nbb_cells = Jupyter.notebook.get_cells();\n",
       "                for (var i = 0; i < nbb_cells.length; ++i) {\n",
       "                    if (nbb_cells[i].input_prompt_number == nbb_cell_id) {\n",
       "                        if (nbb_cells[i].get_text() == nbb_unformatted_code) {\n",
       "                             nbb_cells[i].set_text(nbb_formatted_code);\n",
       "                        }\n",
       "                        break;\n",
       "                    }\n",
       "                }\n",
       "            }, 500);\n",
       "            "
      ],
      "text/plain": [
       "<IPython.core.display.Javascript object>"
      ]
     },
     "metadata": {},
     "output_type": "display_data"
    }
   ],
   "source": [
    "sns.pairplot(df[['age', 'whole_brain', 'Ln', 'sex']], diag_kind = 'kde', hue = 'sex')"
   ]
  },
  {
   "cell_type": "markdown",
   "metadata": {},
   "source": [
    "A pairplot is a nice tool for data exploration. But what if we have a lot of variables? Wouldn't our pairplot become huge? Exactly. That is why you can also use a nice [heatmap](https://seaborn.pydata.org/generated/seaborn.heatmap.html) with `sns.heatmap()`. Again, this works nice with pandas, this time e.g. with the `.corr()` function applied to the dataframe. The latter function will return an n x n square matrix, with 1's on the diagonal (perfectly correlated), and the upper and lower triangle mirrored. Recognize the pairplot in this structure? Bet you did :) \n",
    "\n",
    "Let's make one with the desired variables!"
   ]
  },
  {
   "cell_type": "code",
   "execution_count": null,
   "metadata": {},
   "outputs": [],
   "source": []
  },
  {
   "cell_type": "markdown",
   "metadata": {},
   "source": [
    "Solution:"
   ]
  },
  {
   "cell_type": "code",
   "execution_count": 45,
   "metadata": {},
   "outputs": [
    {
     "data": {
      "text/plain": [
       "<AxesSubplot:>"
      ]
     },
     "execution_count": 45,
     "metadata": {},
     "output_type": "execute_result"
    },
    {
     "data": {
      "image/png": "[encoded data removed]",
      "text/plain": [
       "<Figure size 432x288 with 2 Axes>"
      ]
     },
     "metadata": {
      "needs_background": "light"
     },
     "output_type": "display_data"
    },
    {
     "data": {
      "application/javascript": [
       "\n",
       "            setTimeout(function() {\n",
       "                var nbb_cell_id = 45;\n",
       "                var nbb_unformatted_code = \"sns.heatmap(df.corr(), annot = True)\";\n",
       "                var nbb_formatted_code = \"sns.heatmap(df.corr(), annot=True)\";\n",
       "                var nbb_cells = Jupyter.notebook.get_cells();\n",
       "                for (var i = 0; i < nbb_cells.length; ++i) {\n",
       "                    if (nbb_cells[i].input_prompt_number == nbb_cell_id) {\n",
       "                        if (nbb_cells[i].get_text() == nbb_unformatted_code) {\n",
       "                             nbb_cells[i].set_text(nbb_formatted_code);\n",
       "                        }\n",
       "                        break;\n",
       "                    }\n",
       "                }\n",
       "            }, 500);\n",
       "            "
      ],
      "text/plain": [
       "<IPython.core.display.Javascript object>"
      ]
     },
     "metadata": {},
     "output_type": "display_data"
    }
   ],
   "source": [
    "sns.heatmap(df.corr(), annot = True)"
   ]
  },
  {
   "cell_type": "markdown",
   "metadata": {},
   "source": [
    "# Acknowledgement and Data source"
   ]
  },
  {
   "cell_type": "markdown",
   "metadata": {},
   "source": [
    "## References for use of this data"
   ]
  },
  {
   "cell_type": "code",
   "execution_count": 222,
   "metadata": {},
   "outputs": [
    {
     "data": {
      "application/javascript": [
       "\n",
       "            setTimeout(function() {\n",
       "                var nbb_cell_id = 222;\n",
       "                var nbb_unformatted_code = \"# print(references)\\n\\n# layout.description['ReferencesAndLinks']\";\n",
       "                var nbb_formatted_code = \"# print(references)\\n\\n# layout.description['ReferencesAndLinks']\";\n",
       "                var nbb_cells = Jupyter.notebook.get_cells();\n",
       "                for (var i = 0; i < nbb_cells.length; ++i) {\n",
       "                    if (nbb_cells[i].input_prompt_number == nbb_cell_id) {\n",
       "                        if (nbb_cells[i].get_text() == nbb_unformatted_code) {\n",
       "                             nbb_cells[i].set_text(nbb_formatted_code);\n",
       "                        }\n",
       "                        break;\n",
       "                    }\n",
       "                }\n",
       "            }, 500);\n",
       "            "
      ],
      "text/plain": [
       "<IPython.core.display.Javascript object>"
      ]
     },
     "metadata": {},
     "output_type": "display_data"
    }
   ],
   "source": [
    "print(references)\n",
    "\n",
    "layout.description['ReferencesAndLinks']\n"
   ]
  },
  {
   "cell_type": "markdown",
   "metadata": {},
   "source": [
    "## Contact information of owners of the datasets"
   ]
  },
  {
   "cell_type": "code",
   "execution_count": null,
   "metadata": {},
   "outputs": [],
   "source": [
    "print(contact)"
   ]
  }
 ],
 "metadata": {
  "kernelspec": {
   "display_name": "tutorial_venv",
   "language": "python",
   "name": "tutorial_venv"
  },
  "language_info": {
   "codemirror_mode": {
    "name": "ipython",
    "version": 3
   },
   "file_extension": ".py",
   "mimetype": "text/x-python",
   "name": "python",
   "nbconvert_exporter": "python",
   "pygments_lexer": "ipython3",
   "version": "3.7.2"
  }
 },
 "nbformat": 4,
 "nbformat_minor": 4
}
