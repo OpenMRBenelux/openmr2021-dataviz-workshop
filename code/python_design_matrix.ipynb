{
 "cells": [
  {
   "cell_type": "code",
   "execution_count": 1,
   "metadata": {},
   "outputs": [
    {
     "data": {
      "application/javascript": [
       "\n",
       "            setTimeout(function() {\n",
       "                var nbb_cell_id = 1;\n",
       "                var nbb_unformatted_code = \"%matplotlib inline\\n%load_ext nb_black\";\n",
       "                var nbb_formatted_code = \"%matplotlib inline\\n%load_ext nb_black\";\n",
       "                var nbb_cells = Jupyter.notebook.get_cells();\n",
       "                for (var i = 0; i < nbb_cells.length; ++i) {\n",
       "                    if (nbb_cells[i].input_prompt_number == nbb_cell_id) {\n",
       "                        if (nbb_cells[i].get_text() == nbb_unformatted_code) {\n",
       "                             nbb_cells[i].set_text(nbb_formatted_code);\n",
       "                        }\n",
       "                        break;\n",
       "                    }\n",
       "                }\n",
       "            }, 500);\n",
       "            "
      ],
      "text/plain": [
       "<IPython.core.display.Javascript object>"
      ]
     },
     "metadata": {},
     "output_type": "display_data"
    }
   ],
   "source": [
    "%matplotlib inline\n",
    "%load_ext nb_black"
   ]
  },
  {
   "cell_type": "markdown",
   "metadata": {},
   "source": [
    "\n",
    "# Examples of design matrices\n",
    "\n",
    "Three examples of design matrices specification and computation for first-level\n",
    "fMRI data analysis (event-related design, block design, FIR design).\n",
    "\n",
    "This examples requires matplotlib.\n"
   ]
  },
  {
   "cell_type": "code",
   "execution_count": 2,
   "metadata": {},
   "outputs": [
    {
     "data": {
      "application/javascript": [
       "\n",
       "            setTimeout(function() {\n",
       "                var nbb_cell_id = 2;\n",
       "                var nbb_unformatted_code = \"try:\\n    import matplotlib.pyplot as plt\\nexcept ImportError:\\n    raise RuntimeError(\\\"This script needs the matplotlib library\\\")\";\n",
       "                var nbb_formatted_code = \"try:\\n    import matplotlib.pyplot as plt\\nexcept ImportError:\\n    raise RuntimeError(\\\"This script needs the matplotlib library\\\")\";\n",
       "                var nbb_cells = Jupyter.notebook.get_cells();\n",
       "                for (var i = 0; i < nbb_cells.length; ++i) {\n",
       "                    if (nbb_cells[i].input_prompt_number == nbb_cell_id) {\n",
       "                        if (nbb_cells[i].get_text() == nbb_unformatted_code) {\n",
       "                             nbb_cells[i].set_text(nbb_formatted_code);\n",
       "                        }\n",
       "                        break;\n",
       "                    }\n",
       "                }\n",
       "            }, 500);\n",
       "            "
      ],
      "text/plain": [
       "<IPython.core.display.Javascript object>"
      ]
     },
     "metadata": {},
     "output_type": "display_data"
    }
   ],
   "source": [
    "try:\n",
    "    import matplotlib.pyplot as plt\n",
    "except ImportError:\n",
    "    raise RuntimeError(\"This script needs the matplotlib library\")"
   ]
  },
  {
   "cell_type": "markdown",
   "metadata": {},
   "source": [
    "## Define parameters\n",
    "At first, we define parameters related to the images acquisition.\n",
    "\n"
   ]
  },
  {
   "cell_type": "code",
   "execution_count": 3,
   "metadata": {},
   "outputs": [
    {
     "data": {
      "application/javascript": [
       "\n",
       "            setTimeout(function() {\n",
       "                var nbb_cell_id = 3;\n",
       "                var nbb_unformatted_code = \"import numpy as np\\ntr = 1.0  # repetition time is 1 second\\nn_scans = 128  # the acquisition comprises 128 scans\\nframe_times = np.arange(n_scans) * tr  # here are the correspoding frame times\";\n",
       "                var nbb_formatted_code = \"import numpy as np\\n\\ntr = 1.0  # repetition time is 1 second\\nn_scans = 128  # the acquisition comprises 128 scans\\nframe_times = np.arange(n_scans) * tr  # here are the correspoding frame times\";\n",
       "                var nbb_cells = Jupyter.notebook.get_cells();\n",
       "                for (var i = 0; i < nbb_cells.length; ++i) {\n",
       "                    if (nbb_cells[i].input_prompt_number == nbb_cell_id) {\n",
       "                        if (nbb_cells[i].get_text() == nbb_unformatted_code) {\n",
       "                             nbb_cells[i].set_text(nbb_formatted_code);\n",
       "                        }\n",
       "                        break;\n",
       "                    }\n",
       "                }\n",
       "            }, 500);\n",
       "            "
      ],
      "text/plain": [
       "<IPython.core.display.Javascript object>"
      ]
     },
     "metadata": {},
     "output_type": "display_data"
    }
   ],
   "source": [
    "import numpy as np\n",
    "\n",
    "tr = 1.0  # repetition time is 1 second\n",
    "n_scans = 128  # the acquisition comprises 128 scans\n",
    "frame_times = np.arange(n_scans) * tr  # here are the correspoding frame times"
   ]
  },
  {
   "cell_type": "markdown",
   "metadata": {},
   "source": [
    "Then we define parameters related to the experimental design.\n",
    "\n"
   ]
  },
  {
   "cell_type": "code",
   "execution_count": 6,
   "metadata": {},
   "outputs": [
    {
     "data": {
      "application/javascript": [
       "\n",
       "            setTimeout(function() {\n",
       "                var nbb_cell_id = 6;\n",
       "                var nbb_unformatted_code = \"# these are the types of the different trials\\nconditions = [\\\"c0\\\", \\\"c0\\\", \\\"c0\\\", \\\"c1\\\", \\\"c1\\\", \\\"c1\\\", \\\"c3\\\", \\\"c3\\\", \\\"c3\\\"]\\nduration = [1.0, 1.0, 1.0, 1.0, 1.0, 1.0, 1.0, 1.0, 1.0]\\n\\n# these are the corresponding onset times\\nonsets = [30.0, 70.0, 100.0, 10.0, 30.0, 90.0, 30.0, 40.0, 60.0]\\n\\n# Next, we simulate 6 motion parameters jointly observed with fMRI acquisitions\\nmotion = np.cumsum(np.random.randn(n_scans, 6), 0)\\n\\n# The 6 parameters correspond to three translations and three\\n# rotations describing rigid body motion\\nadd_reg_names = [\\\"tx\\\", \\\"ty\\\", \\\"tz\\\", \\\"rx\\\", \\\"ry\\\", \\\"rz\\\"]\";\n",
       "                var nbb_formatted_code = \"# these are the types of the different trials\\nconditions = [\\\"c0\\\", \\\"c0\\\", \\\"c0\\\", \\\"c1\\\", \\\"c1\\\", \\\"c1\\\", \\\"c3\\\", \\\"c3\\\", \\\"c3\\\"]\\nduration = [1.0, 1.0, 1.0, 1.0, 1.0, 1.0, 1.0, 1.0, 1.0]\\n\\n# these are the corresponding onset times\\nonsets = [30.0, 70.0, 100.0, 10.0, 30.0, 90.0, 30.0, 40.0, 60.0]\\n\\n# Next, we simulate 6 motion parameters jointly observed with fMRI acquisitions\\nmotion = np.cumsum(np.random.randn(n_scans, 6), 0)\\n\\n# The 6 parameters correspond to three translations and three\\n# rotations describing rigid body motion\\nadd_reg_names = [\\\"tx\\\", \\\"ty\\\", \\\"tz\\\", \\\"rx\\\", \\\"ry\\\", \\\"rz\\\"]\";\n",
       "                var nbb_cells = Jupyter.notebook.get_cells();\n",
       "                for (var i = 0; i < nbb_cells.length; ++i) {\n",
       "                    if (nbb_cells[i].input_prompt_number == nbb_cell_id) {\n",
       "                        if (nbb_cells[i].get_text() == nbb_unformatted_code) {\n",
       "                             nbb_cells[i].set_text(nbb_formatted_code);\n",
       "                        }\n",
       "                        break;\n",
       "                    }\n",
       "                }\n",
       "            }, 500);\n",
       "            "
      ],
      "text/plain": [
       "<IPython.core.display.Javascript object>"
      ]
     },
     "metadata": {},
     "output_type": "display_data"
    }
   ],
   "source": [
    "# these are the types of the different trials\n",
    "conditions = [\"c0\", \"c0\", \"c0\", \"c1\", \"c1\", \"c1\", \"c3\", \"c3\", \"c3\"]\n",
    "duration = [1.0, 1.0, 1.0, 1.0, 1.0, 1.0, 1.0, 1.0, 1.0]\n",
    "\n",
    "# these are the corresponding onset times\n",
    "onsets = [30.0, 70.0, 100.0, 10.0, 30.0, 90.0, 30.0, 40.0, 60.0]\n",
    "\n",
    "# Next, we simulate 6 motion parameters jointly observed with fMRI acquisitions\n",
    "motion = np.cumsum(np.random.randn(n_scans, 6), 0)\n",
    "\n",
    "# The 6 parameters correspond to three translations and three\n",
    "# rotations describing rigid body motion\n",
    "add_reg_names = [\"tx\", \"ty\", \"tz\", \"rx\", \"ry\", \"rz\"]"
   ]
  },
  {
   "cell_type": "code",
   "execution_count": 21,
   "metadata": {},
   "outputs": [
    {
     "data": {
      "application/javascript": [
       "\n",
       "            setTimeout(function() {\n",
       "                var nbb_cell_id = 21;\n",
       "                var nbb_unformatted_code = \"np.cumsum?\";\n",
       "                var nbb_formatted_code = \"np.cumsum?\";\n",
       "                var nbb_cells = Jupyter.notebook.get_cells();\n",
       "                for (var i = 0; i < nbb_cells.length; ++i) {\n",
       "                    if (nbb_cells[i].input_prompt_number == nbb_cell_id) {\n",
       "                        if (nbb_cells[i].get_text() == nbb_unformatted_code) {\n",
       "                             nbb_cells[i].set_text(nbb_formatted_code);\n",
       "                        }\n",
       "                        break;\n",
       "                    }\n",
       "                }\n",
       "            }, 500);\n",
       "            "
      ],
      "text/plain": [
       "<IPython.core.display.Javascript object>"
      ]
     },
     "metadata": {},
     "output_type": "display_data"
    }
   ],
   "source": [
    "np.cumsum?"
   ]
  },
  {
   "cell_type": "markdown",
   "metadata": {},
   "source": [
    "## Create design matrices\n",
    "The same parameters allow us to obtain a variety of design matrices.\n",
    "We first create an events object.\n",
    "\n"
   ]
  },
  {
   "cell_type": "code",
   "execution_count": 7,
   "metadata": {},
   "outputs": [
    {
     "data": {
      "application/javascript": [
       "\n",
       "            setTimeout(function() {\n",
       "                var nbb_cell_id = 7;\n",
       "                var nbb_unformatted_code = \"import pandas as pd\\nevents = pd.DataFrame({'trial_type': conditions, 'onset': onsets,\\n                       'duration': duration})\";\n",
       "                var nbb_formatted_code = \"import pandas as pd\\n\\nevents = pd.DataFrame({\\\"trial_type\\\": conditions, \\\"onset\\\": onsets, \\\"duration\\\": duration})\";\n",
       "                var nbb_cells = Jupyter.notebook.get_cells();\n",
       "                for (var i = 0; i < nbb_cells.length; ++i) {\n",
       "                    if (nbb_cells[i].input_prompt_number == nbb_cell_id) {\n",
       "                        if (nbb_cells[i].get_text() == nbb_unformatted_code) {\n",
       "                             nbb_cells[i].set_text(nbb_formatted_code);\n",
       "                        }\n",
       "                        break;\n",
       "                    }\n",
       "                }\n",
       "            }, 500);\n",
       "            "
      ],
      "text/plain": [
       "<IPython.core.display.Javascript object>"
      ]
     },
     "metadata": {},
     "output_type": "display_data"
    }
   ],
   "source": [
    "import pandas as pd\n",
    "\n",
    "events = pd.DataFrame({\"trial_type\": conditions, \"onset\": onsets, \"duration\": duration})"
   ]
  },
  {
   "cell_type": "markdown",
   "metadata": {},
   "source": [
    "We sample the events into a design matrix, also including additional\n",
    "regressors.\n",
    "\n"
   ]
  },
  {
   "cell_type": "code",
   "execution_count": 17,
   "metadata": {},
   "outputs": [
    {
     "data": {
      "application/javascript": [
       "\n",
       "            setTimeout(function() {\n",
       "                var nbb_cell_id = 17;\n",
       "                var nbb_unformatted_code = \"from nilearn.glm.first_level import make_first_level_design_matrix\\n\\nhrf_model = \\\"spm\\\"\\n\\nX1 = make_first_level_design_matrix(\\n    frame_times,\\n    events,\\n    drift_model=\\\"polynomial\\\",\\n    drift_order=3,\\n    add_regs=motion,\\n    add_reg_names=add_reg_names,\\n    hrf_model=hrf_model,\\n)\";\n",
       "                var nbb_formatted_code = \"from nilearn.glm.first_level import make_first_level_design_matrix\\n\\nhrf_model = \\\"spm\\\"\\n\\nX1 = make_first_level_design_matrix(\\n    frame_times,\\n    events,\\n    drift_model=\\\"polynomial\\\",\\n    drift_order=3,\\n    add_regs=motion,\\n    add_reg_names=add_reg_names,\\n    hrf_model=hrf_model,\\n)\";\n",
       "                var nbb_cells = Jupyter.notebook.get_cells();\n",
       "                for (var i = 0; i < nbb_cells.length; ++i) {\n",
       "                    if (nbb_cells[i].input_prompt_number == nbb_cell_id) {\n",
       "                        if (nbb_cells[i].get_text() == nbb_unformatted_code) {\n",
       "                             nbb_cells[i].set_text(nbb_formatted_code);\n",
       "                        }\n",
       "                        break;\n",
       "                    }\n",
       "                }\n",
       "            }, 500);\n",
       "            "
      ],
      "text/plain": [
       "<IPython.core.display.Javascript object>"
      ]
     },
     "metadata": {},
     "output_type": "display_data"
    }
   ],
   "source": [
    "from nilearn.glm.first_level import make_first_level_design_matrix\n",
    "\n",
    "hrf_model = \"spm\"\n",
    "\n",
    "X1 = make_first_level_design_matrix(\n",
    "    frame_times,\n",
    "    events,\n",
    "    drift_model=\"polynomial\",\n",
    "    drift_order=3,\n",
    "    add_regs=motion,\n",
    "    add_reg_names=add_reg_names,\n",
    "    hrf_model=hrf_model,\n",
    ")"
   ]
  },
  {
   "cell_type": "markdown",
   "metadata": {},
   "source": [
    "Now we compute a block design matrix. We add duration to create the blocks.\n",
    "For this we first define an event structure that includes the duration\n",
    "parameter.\n",
    "\n"
   ]
  },
  {
   "cell_type": "code",
   "execution_count": 18,
   "metadata": {},
   "outputs": [
    {
     "data": {
      "application/javascript": [
       "\n",
       "            setTimeout(function() {\n",
       "                var nbb_cell_id = 18;\n",
       "                var nbb_unformatted_code = \"duration = 7.0 * np.ones(len(conditions))\\nevents = pd.DataFrame({\\\"trial_type\\\": conditions, \\\"onset\\\": onsets, \\\"duration\\\": duration})\";\n",
       "                var nbb_formatted_code = \"duration = 7.0 * np.ones(len(conditions))\\nevents = pd.DataFrame({\\\"trial_type\\\": conditions, \\\"onset\\\": onsets, \\\"duration\\\": duration})\";\n",
       "                var nbb_cells = Jupyter.notebook.get_cells();\n",
       "                for (var i = 0; i < nbb_cells.length; ++i) {\n",
       "                    if (nbb_cells[i].input_prompt_number == nbb_cell_id) {\n",
       "                        if (nbb_cells[i].get_text() == nbb_unformatted_code) {\n",
       "                             nbb_cells[i].set_text(nbb_formatted_code);\n",
       "                        }\n",
       "                        break;\n",
       "                    }\n",
       "                }\n",
       "            }, 500);\n",
       "            "
      ],
      "text/plain": [
       "<IPython.core.display.Javascript object>"
      ]
     },
     "metadata": {},
     "output_type": "display_data"
    }
   ],
   "source": [
    "duration = 7.0 * np.ones(len(conditions))\n",
    "events = pd.DataFrame({\"trial_type\": conditions, \"onset\": onsets, \"duration\": duration})"
   ]
  },
  {
   "cell_type": "markdown",
   "metadata": {},
   "source": [
    "Then we sample the design matrix.\n",
    "\n"
   ]
  },
  {
   "cell_type": "code",
   "execution_count": 19,
   "metadata": {},
   "outputs": [
    {
     "data": {
      "application/javascript": [
       "\n",
       "            setTimeout(function() {\n",
       "                var nbb_cell_id = 19;\n",
       "                var nbb_unformatted_code = \"X2 = make_first_level_design_matrix(\\n    frame_times, events, drift_model=\\\"polynomial\\\", drift_order=3, hrf_model=hrf_model\\n)\";\n",
       "                var nbb_formatted_code = \"X2 = make_first_level_design_matrix(\\n    frame_times, events, drift_model=\\\"polynomial\\\", drift_order=3, hrf_model=hrf_model\\n)\";\n",
       "                var nbb_cells = Jupyter.notebook.get_cells();\n",
       "                for (var i = 0; i < nbb_cells.length; ++i) {\n",
       "                    if (nbb_cells[i].input_prompt_number == nbb_cell_id) {\n",
       "                        if (nbb_cells[i].get_text() == nbb_unformatted_code) {\n",
       "                             nbb_cells[i].set_text(nbb_formatted_code);\n",
       "                        }\n",
       "                        break;\n",
       "                    }\n",
       "                }\n",
       "            }, 500);\n",
       "            "
      ],
      "text/plain": [
       "<IPython.core.display.Javascript object>"
      ]
     },
     "metadata": {},
     "output_type": "display_data"
    }
   ],
   "source": [
    "X2 = make_first_level_design_matrix(\n",
    "    frame_times, events, drift_model=\"polynomial\", drift_order=3, hrf_model=hrf_model\n",
    ")"
   ]
  },
  {
   "cell_type": "markdown",
   "metadata": {},
   "source": [
    "Finally we compute a FIR model\n",
    "\n"
   ]
  },
  {
   "cell_type": "code",
   "execution_count": 13,
   "metadata": {},
   "outputs": [
    {
     "data": {
      "application/javascript": [
       "\n",
       "            setTimeout(function() {\n",
       "                var nbb_cell_id = 13;\n",
       "                var nbb_unformatted_code = \"events = pd.DataFrame({\\\"trial_type\\\": conditions, \\\"onset\\\": onsets, \\\"duration\\\": duration})\\n\\nhrf_model = \\\"FIR\\\"\\n\\nX3 = make_first_level_design_matrix(\\n    frame_times,\\n    events,\\n    hrf_model=\\\"fir\\\",\\n    drift_model=\\\"polynomial\\\",\\n    drift_order=3,\\n    fir_delays=np.arange(1, 6),\\n)\";\n",
       "                var nbb_formatted_code = \"events = pd.DataFrame({\\\"trial_type\\\": conditions, \\\"onset\\\": onsets, \\\"duration\\\": duration})\\n\\nhrf_model = \\\"FIR\\\"\\n\\nX3 = make_first_level_design_matrix(\\n    frame_times,\\n    events,\\n    hrf_model=\\\"fir\\\",\\n    drift_model=\\\"polynomial\\\",\\n    drift_order=3,\\n    fir_delays=np.arange(1, 6),\\n)\";\n",
       "                var nbb_cells = Jupyter.notebook.get_cells();\n",
       "                for (var i = 0; i < nbb_cells.length; ++i) {\n",
       "                    if (nbb_cells[i].input_prompt_number == nbb_cell_id) {\n",
       "                        if (nbb_cells[i].get_text() == nbb_unformatted_code) {\n",
       "                             nbb_cells[i].set_text(nbb_formatted_code);\n",
       "                        }\n",
       "                        break;\n",
       "                    }\n",
       "                }\n",
       "            }, 500);\n",
       "            "
      ],
      "text/plain": [
       "<IPython.core.display.Javascript object>"
      ]
     },
     "metadata": {},
     "output_type": "display_data"
    }
   ],
   "source": [
    "events = pd.DataFrame({\"trial_type\": conditions, \"onset\": onsets, \"duration\": duration})\n",
    "\n",
    "hrf_model = \"FIR\"\n",
    "\n",
    "X3 = make_first_level_design_matrix(\n",
    "    frame_times,\n",
    "    events,\n",
    "    hrf_model=\"fir\",\n",
    "    drift_model=\"polynomial\",\n",
    "    drift_order=3,\n",
    "    fir_delays=np.arange(1, 6),\n",
    ")"
   ]
  },
  {
   "cell_type": "markdown",
   "metadata": {},
   "source": [
    "Here are the three designs side by side.\n",
    "\n"
   ]
  },
  {
   "cell_type": "code",
   "execution_count": 15,
   "metadata": {},
   "outputs": [
    {
     "data": {
      "text/plain": [
       "Text(0.5, 1.0, 'FIR design matrix')"
      ]
     },
     "execution_count": 15,
     "metadata": {},
     "output_type": "execute_result"
    },
    {
     "data": {
      "image/png": "[encoded data removed]",
      "text/plain": [
       "<Figure size 720x432 with 3 Axes>"
      ]
     },
     "metadata": {
      "needs_background": "light"
     },
     "output_type": "display_data"
    },
    {
     "data": {
      "application/javascript": [
       "\n",
       "            setTimeout(function() {\n",
       "                var nbb_cell_id = 15;\n",
       "                var nbb_unformatted_code = \"from nilearn.plotting import plot_design_matrix\\n\\nfig, (ax1, ax2, ax3) = plt.subplots(figsize=(10, 6), nrows=1, ncols=3)\\n\\nplot_design_matrix(X1, ax=ax1)\\nax1.set_title(\\\"Event-related design matrix\\\", fontsize=12)\\n\\nplot_design_matrix(X2, ax=ax2)\\nax2.set_title(\\\"Block design matrix\\\", fontsize=12)\\n\\nplot_design_matrix(X3, ax=ax3)\\nax3.set_title(\\\"FIR design matrix\\\", fontsize=12)\";\n",
       "                var nbb_formatted_code = \"from nilearn.plotting import plot_design_matrix\\n\\nfig, (ax1, ax2, ax3) = plt.subplots(figsize=(10, 6), nrows=1, ncols=3)\\n\\nplot_design_matrix(X1, ax=ax1)\\nax1.set_title(\\\"Event-related design matrix\\\", fontsize=12)\\n\\nplot_design_matrix(X2, ax=ax2)\\nax2.set_title(\\\"Block design matrix\\\", fontsize=12)\\n\\nplot_design_matrix(X3, ax=ax3)\\nax3.set_title(\\\"FIR design matrix\\\", fontsize=12)\";\n",
       "                var nbb_cells = Jupyter.notebook.get_cells();\n",
       "                for (var i = 0; i < nbb_cells.length; ++i) {\n",
       "                    if (nbb_cells[i].input_prompt_number == nbb_cell_id) {\n",
       "                        if (nbb_cells[i].get_text() == nbb_unformatted_code) {\n",
       "                             nbb_cells[i].set_text(nbb_formatted_code);\n",
       "                        }\n",
       "                        break;\n",
       "                    }\n",
       "                }\n",
       "            }, 500);\n",
       "            "
      ],
      "text/plain": [
       "<IPython.core.display.Javascript object>"
      ]
     },
     "metadata": {},
     "output_type": "display_data"
    }
   ],
   "source": [
    "from nilearn.plotting import plot_design_matrix\n",
    "\n",
    "fig, (ax1, ax2, ax3) = plt.subplots(figsize=(10, 6), nrows=1, ncols=3)\n",
    "\n",
    "plot_design_matrix(X1, ax=ax1)\n",
    "ax1.set_title(\"Event-related design matrix\", fontsize=12)\n",
    "\n",
    "plot_design_matrix(X2, ax=ax2)\n",
    "ax2.set_title(\"Block design matrix\", fontsize=12)\n",
    "\n",
    "plot_design_matrix(X3, ax=ax3)\n",
    "ax3.set_title(\"FIR design matrix\", fontsize=12)"
   ]
  },
  {
   "cell_type": "markdown",
   "metadata": {},
   "source": [
    "Let's improve the layout and show the result.\n",
    "\n"
   ]
  },
  {
   "cell_type": "code",
   "execution_count": 16,
   "metadata": {},
   "outputs": [
    {
     "data": {
      "text/plain": [
       "<Figure size 432x288 with 0 Axes>"
      ]
     },
     "metadata": {},
     "output_type": "display_data"
    },
    {
     "data": {
      "application/javascript": [
       "\n",
       "            setTimeout(function() {\n",
       "                var nbb_cell_id = 16;\n",
       "                var nbb_unformatted_code = \"plt.subplots_adjust(left=0.08, top=0.9, bottom=0.21, right=0.96, wspace=0.3)\\nplt.show()\";\n",
       "                var nbb_formatted_code = \"plt.subplots_adjust(left=0.08, top=0.9, bottom=0.21, right=0.96, wspace=0.3)\\nplt.show()\";\n",
       "                var nbb_cells = Jupyter.notebook.get_cells();\n",
       "                for (var i = 0; i < nbb_cells.length; ++i) {\n",
       "                    if (nbb_cells[i].input_prompt_number == nbb_cell_id) {\n",
       "                        if (nbb_cells[i].get_text() == nbb_unformatted_code) {\n",
       "                             nbb_cells[i].set_text(nbb_formatted_code);\n",
       "                        }\n",
       "                        break;\n",
       "                    }\n",
       "                }\n",
       "            }, 500);\n",
       "            "
      ],
      "text/plain": [
       "<IPython.core.display.Javascript object>"
      ]
     },
     "metadata": {},
     "output_type": "display_data"
    }
   ],
   "source": [
    "plt.subplots_adjust(left=0.08, top=0.9, bottom=0.21, right=0.96, wspace=0.3)\n",
    "plt.show()"
   ]
  }
 ],
 "metadata": {
  "kernelspec": {
   "display_name": "Python 3",
   "language": "python",
   "name": "python3"
  },
  "language_info": {
   "codemirror_mode": {
    "name": "ipython",
    "version": 3
   },
   "file_extension": ".py",
   "mimetype": "text/x-python",
   "name": "python",
   "nbconvert_exporter": "python",
   "pygments_lexer": "ipython3",
   "version": "3.6.9"
  }
 },
 "nbformat": 4,
 "nbformat_minor": 1
}
