{
 "cells": [
  {
   "cell_type": "markdown",
   "metadata": {},
   "source": [
    "<img src=\"../inputs/section_header.png\">"
   ]
  },
  {
   "cell_type": "markdown",
   "metadata": {},
   "source": [
    "# Octave Visualisation Tutorial\n",
    "\n",
    "Hello there, and welcome to our visualisation workshop!\n",
    "\n",
    "This tutorial is entirely dedicated to offer useful tools to get started with visualisations in Octave (a free version of Matlab), with examples on neuro-imaging data. \n",
    "\n",
    "The data that we will explore today is part of an [open source repository](https://openneuro.org/datasets/ds003542) on adult language learners. We express our sincere gratitude to Kshipra Gurunandan, Manuel Carreiras and Pedro M. Paz-Alonso for making this data open source, and thus allowing us to make this tutorial.\n",
    "\n",
    "## Wait, what ...? A Jupyter notebook?\n",
    "\n",
    "Never worked with jupyter notebooks before? Don't worry! We'll guide you through it step by step.\n",
    "\n",
    "A **jupyter notebook** \n",
    "- is a convenient way to combine code with neat documentation, allowing others to easily follow a project that uses code\n",
    "- works with so-called \"blocks\", which can either be a \"code block\" or a \"markdown block\"\n",
    "    - *Markdown block*: You are reading one right now! It is a block that understands the markdown language, an easy language to create text, similar to HTML and LaTeX.\n",
    "    - *Code block*: A code block in a jupyter notebook understands the Python language by default. If applicable, output is printed below the code block, such as images and text. You can also change the kernel of code blocks; in this way you can use other programming languages in the code blocks like Octave, Julia... ! Read more about this [here](https://jupyter4edu.github.io/jupyter-edu-book/jupyter.html).\n",
    "- Allows to \"hide\" blocks, which will be visible with 3 dots (...). Solutions are hidden this way, but first try to find the solution yourself in the empty block above!\n",
    "- has some nice shortcuts:\n",
    "\n",
    "|Operation|Shortcut|\n",
    "|---|---|\n",
    "|Run a cell|shift + enter / ctrl + enter|\n",
    "|Add cell above | \"a\" (first click left of the cell)|\n",
    "|Add cell below | \"b\" (first click left of the cell)|\n",
    "|Copy cell: | \"c\" (first click left of the cell)|\n",
    "|Cut cell: | \"x\" (first click left of the cell)|\n",
    "|Paste cell | \"v\" (first click left of the cell)|\n",
    "|Delete cell | \"dd\" (first click left of the cell)|\n",
    "|Comment out code | select code and press ctrl + / or cmd + /|\n",
    "|Uncomment code| select code and press ctrl + / or cmd + /|\n",
    "|Help and documentation| type `?` or `help()` in a code cell|\n",
    "\n",
    "Last note: If you want to install additional python packages, you can call upon the terminal with an exclamation mark (!) before a command. \n",
    "\n",
    "So, installing a new Python package will be the following structure inside a code cell: \n",
    "\n",
    "```\n",
    "!pip install my-package\n",
    "```\n",
    "\n",
    "Additonal Octave packages can be loaded with:\n",
    "\n",
    "```\n",
    "pkg load statistics\n",
    "```\n",
    "\n",
    "---"
   ]
  },
  {
   "cell_type": "markdown",
   "metadata": {},
   "source": [
    "If you are trying to run this jupyter notebook locally you need to have [SPM12 installed](https://www.fil.ion.ucl.ac.uk/spm/software/download/) on your computer and in the following cell you are adding SPM to the Octave path as you would in Matlab."
   ]
  },
  {
   "cell_type": "code",
   "execution_count": null,
   "metadata": {},
   "outputs": [],
   "source": [
    "% when running localy\n",
    "path_to_spm = '/home/remi/matlab/SPM/spm12/';\n",
    "addpath(path_to_spm)"
   ]
  },
  {
   "cell_type": "markdown",
   "metadata": {},
   "source": [
    "There are few additional functions that are in the `octave` folder where you can find this notebook. We also need to add them to the path."
   ]
  },
  {
   "cell_type": "code",
   "execution_count": null,
   "metadata": {},
   "outputs": [],
   "source": [
    "addpath(fullfile(pwd, 'octave'))"
   ]
  },
  {
   "cell_type": "markdown",
   "metadata": {},
   "source": [
    "We then specify where we can find the MRI data that we will be using for this workshop.\n",
    "\n",
    "The data has already been downloaded into this binder so we don't have to download it.\n",
    "\n",
    "We also mention which subject's data we want to use for this workshop."
   ]
  },
  {
   "cell_type": "code",
   "execution_count": null,
   "metadata": {},
   "outputs": [],
   "source": [
    "data_folder = fullfile(pwd, '..', 'inputs', 'ds003542');\n",
    "subject = '01';"
   ]
  },
  {
   "cell_type": "markdown",
   "metadata": {},
   "source": [
    "---\n",
    "\n",
    "# The project where the data originates:\n",
    "\n",
    "Below, we will first print the README file that contains the explanation about the objective of this study.\n",
    "\n",
    "When can use `cat` from the command line to do that.\n",
    "\n",
    "Rememner to put a `!` before any linux command line you want to execute within a notebook."
   ]
  },
  {
   "cell_type": "code",
   "execution_count": null,
   "metadata": {
    "scrolled": true
   },
   "outputs": [],
   "source": [
    "!cat ../inputs/ds003542/README"
   ]
  },
  {
   "cell_type": "markdown",
   "metadata": {},
   "source": [
    "---\n",
    "\n",
    "<img src=\"../inputs/section_header.png\">"
   ]
  },
  {
   "cell_type": "markdown",
   "metadata": {},
   "source": [
    "<div id=\"section_1\"></div>\n",
    "\n",
    "# 1. Visualising neuro-imaging data"
   ]
  },
  {
   "cell_type": "markdown",
   "metadata": {},
   "source": [
    "The data was downloaded from OpenNeuro, [project ds003542](https://openneuro.org/datasets/ds003542/versions/1.0.0), which originates from a study on **language learners**. For the neuro-imaging data part, we only extracted data from subject 1. Hence, the data is present in the \"inputs/ds00352\" folder, subdirectory \"sub-01\":\n",
    "- **Anatomical MRI:** \"anat\" subfolder\n",
    "- **Functional MRI:** \"func\" subfolder\n",
    "\n",
    "Let's define the paths. We use dataset organized as Brain Imaging Data Structure (BIDS) for this workshop. In short, BIDS aims to uniformise neuro-imaging (meta)data organisation: essentially it allows neuroscientists to speak the same language when it comes to neuro-imaging data!"
   ]
  },
  {
   "cell_type": "markdown",
   "metadata": {},
   "source": [
    "SPM12 has a function (`spm_BIDS`) that allows to query and look for specific information and files in this dataset."
   ]
  },
  {
   "cell_type": "code",
   "execution_count": null,
   "metadata": {},
   "outputs": [],
   "source": [
    "BIDS = spm_BIDS(data_folder);"
   ]
  },
  {
   "cell_type": "markdown",
   "metadata": {},
   "source": [
    "Now we get the fullpath to the anatomical (T1w) and 1 functional image (bold) of subject 1."
   ]
  },
  {
   "cell_type": "code",
   "execution_count": null,
   "metadata": {},
   "outputs": [],
   "source": [
    "t1w_path = spm_BIDS(BIDS, 'data', ...\n",
    "                    'sub', subject, ...\n",
    "                    'type', 'T1w')\n",
    "bold_path = spm_BIDS(BIDS, 'data', \n",
    "                    'sub', subject, \n",
    "                    'task', 'compL1', \n",
    "                    'run', '1', \n",
    "                    'type', 'bold')"
   ]
  },
  {
   "cell_type": "markdown",
   "metadata": {},
   "source": [
    "SPM tends to prefer to work with unzipped data and the images we have been \"gunzipped\": as you see from the `.gz` extension in the file name.\n",
    "\n",
    "So we first need to unzip the data we will be working and let's move the data into a different \"derivatives\" folder to keep the original dataset clean."
   ]
  },
  {
   "cell_type": "code",
   "execution_count": null,
   "metadata": {},
   "outputs": [],
   "source": [
    "output_dir = fullfile(data_folder, 'derivatives','spm12')\n",
    "\n",
    "% create the new directories\n",
    "spm_mkdir(output_dir, ['sub-' subject], {'anat', 'func'});"
   ]
  },
  {
   "cell_type": "markdown",
   "metadata": {},
   "source": [
    "Now we use a little function we built `set_batch_gunzip` to create a batch that SPM can use to run certain tasks."
   ]
  },
  {
   "cell_type": "code",
   "execution_count": null,
   "metadata": {},
   "outputs": [],
   "source": [
    "matlabbatch = set_batch_gunzip(t1w_path, ...\n",
    "                               fullfile(output_dir, ['sub-' subject], 'anat'));\n",
    "spm_jobman('run', matlabbatch);\n",
    "\n",
    "matlabbatch = set_batch_gunzip(bold_path, ...\n",
    "                               fullfile(output_dir, ['sub-' subject], 'func'));\n",
    "spm_jobman('run', matlabbatch);"
   ]
  },
  {
   "cell_type": "markdown",
   "metadata": {},
   "source": [
    "Now we update the path to our images by telling SPM to select the files that are in the dericatives folder."
   ]
  },
  {
   "cell_type": "code",
   "execution_count": null,
   "metadata": {},
   "outputs": [],
   "source": [
    "t1w_path = spm_select('FPlistrec', output_dir, '.*_T1w.nii')\n",
    "bold_path = spm_select('FPlistrec', output_dir, '.*_bold.nii')"
   ]
  },
  {
   "cell_type": "markdown",
   "metadata": {},
   "source": [
    "<div id=\"section_1.1\"></div>\n",
    "\n",
    "## 1.1 What is a NIfTI (.nii)?"
   ]
  },
  {
   "cell_type": "markdown",
   "metadata": {},
   "source": [
    "For a thorough explanation on the origin and objective of NIfTI, we refer to [this webpage](https://NIfTI.nimh.nih.gov/). As you will notice in this notebook, NIfTI is a very nice informatic tool for neuro-imaging data, and easy to work with."
   ]
  },
  {
   "cell_type": "markdown",
   "metadata": {},
   "source": [
    "## 1.2 Anatomical MRI - T1w\n",
    "\n",
    "We load the \"header\" of a nifti file with `spm_vol` and then we can acces the content of that image by passing that header to `spm_read_vols`.\n",
    "\n",
    "Note that this anatomical T1w NIfTI is a 3D image, with each dimension being a spatial dimension (x, y and z), corresponding to a body axis (medio-lateral, antero-posterior and cranio-caudal)."
   ]
  },
  {
   "cell_type": "code",
   "execution_count": null,
   "metadata": {},
   "outputs": [],
   "source": [
    "t1w_file = spm_vol(t1w_path);\n",
    "t1w_image = spm_read_vols(t1w_file);"
   ]
  },
  {
   "cell_type": "markdown",
   "metadata": {},
   "source": [
    "### What are the dimensions of the numpy array?\n",
    "\n",
    "The dimension of the image are stored in the `dim` field of the header."
   ]
  },
  {
   "cell_type": "code",
   "execution_count": null,
   "metadata": {
    "scrolled": true
   },
   "outputs": [],
   "source": [
    "fprintf('Dimension of the image: \\n %s \\n\\n', t1w_file.fname)\n",
    "fprintf(' - # Medio-lateral voxels: %i \\n', t1w_file.dim(1))\n",
    "fprintf(' - # Antero-posterior voxels: %i \\n',  t1w_file.dim(2))\n",
    "fprintf(' - # Cranio-caudal voxels: %i \\n',  t1w_file.dim(3))"
   ]
  },
  {
   "cell_type": "markdown",
   "metadata": {},
   "source": [
    "### Let's show a single slice of the 3D volume\n",
    "\n",
    "To do this, we can index the image, for which the previous step will help us!\n",
    "We want to extract axial slice 150. Call this variable `t1w_slice`.\n",
    "\n",
    "Hint: indexing of the `t1w_image` object will be as follows: \n",
    "\n",
    "```\n",
    "t1w_image(ML_direction, AP_direction, CC_direction)\n",
    "```\n",
    "\n",
    "with each element consisting of either a single value, or a range (e.g. `5:9`). To select everyting along an axis, just pass `:`. \n",
    "\n",
    "ML = Medio-lateral, AP = Antero-posterior, CC = Cranio-caudal."
   ]
  },
  {
   "cell_type": "code",
   "execution_count": null,
   "metadata": {
    "scrolled": true
   },
   "outputs": [],
   "source": [
    "% select the slice\n",
    "t1w_slice = t1w_image(:, :, 150);\n",
    "\n",
    "% display it\n",
    "% you can try to remove rot90 if you want and see the result\n",
    "imagesc(rot90(t1w_slice))\n",
    "\n",
    "% update the axis and change the color scale\n",
    "axis image\n",
    "colormap gray"
   ]
  },
  {
   "cell_type": "markdown",
   "metadata": {},
   "source": [
    "We have also created a function (`show_slice_from_volume`) for you to easily investigate your 3D volume image. \n",
    "\n",
    "You can consult the source code in the `octave/show_slice_from_volume.m` file. \n",
    "\n",
    "To use it, just run `show_anatomical_slice(image, orientation, slice_nr)` in the next cell. \n",
    "\n",
    "Play around with the `orientation` and `slice_nr` parameters at will!"
   ]
  },
  {
   "cell_type": "code",
   "execution_count": null,
   "metadata": {
    "scrolled": false
   },
   "outputs": [],
   "source": [
    "orientation = 'sagittal';\n",
    "slice_nr = 150;\n",
    "\n",
    "show_slice_from_volume(t1w_image, orientation, slice_nr);"
   ]
  },
  {
   "cell_type": "markdown",
   "metadata": {},
   "source": [
    "**REMARK: Defacing**\n",
    "\n",
    "Run the following code block in a new cell: \n",
    "\n",
    "```\n",
    "show_slice_from_volume(t1w_image, 'sagittal', 100);\n",
    "```\n",
    "\n",
    "In this slice, you can nicely see that this NIfTI image has been \"defaced\", to ensure anonimity. The face part is entirely black. Inside the 3D volmume, all values that relate to the face were set to 0 (black) here!"
   ]
  },
  {
   "cell_type": "markdown",
   "metadata": {},
   "source": [
    "## 1.3 Functional MRI (fMRI)"
   ]
  },
  {
   "cell_type": "markdown",
   "metadata": {},
   "source": [
    "First things first: a functional MRI image has a fourth dimension, time!\n",
    "\n",
    "Hence, a NIfTI file is a 4D image, with the first 3 dimensions being spatial (x: medio-lateral, y: antero-posterior and z: craniocaudal), and the 4th being time!"
   ]
  },
  {
   "cell_type": "markdown",
   "metadata": {},
   "source": [
    "We can load the header and the content of this 4D image as we did before."
   ]
  },
  {
   "cell_type": "code",
   "execution_count": null,
   "metadata": {},
   "outputs": [],
   "source": [
    "bold_file = spm_vol(bold_path);\n",
    "bold_image = spm_read_vols(bold_file);"
   ]
  },
  {
   "cell_type": "markdown",
   "metadata": {},
   "source": [
    "And we can also inspect its dimension. Though in this case the number of time points is given to us by the number of elements (`numel`) in the header."
   ]
  },
  {
   "cell_type": "code",
   "execution_count": null,
   "metadata": {
    "scrolled": true
   },
   "outputs": [],
   "source": [
    "fprintf('Dimension of the image: \\n %s \\n\\n', bold_file(1).fname)\n",
    "fprintf(' - # Medio-lateral voxels: %i \\n', bold_file(1).dim(1))\n",
    "fprintf(' - # Antero-posterior voxels: %i \\n',  bold_file(1).dim(2))\n",
    "fprintf(' - # Cranio-caudal voxels: %i \\n',  bold_file(1).dim(3))\n",
    "fprintf(' - # Timepoints: %i \\n',  numel(bold_file))"
   ]
  },
  {
   "cell_type": "markdown",
   "metadata": {},
   "source": [
    "As we did before we can view a single slice but now we need to specify a 4th dimension: \n",
    "\n",
    "```\n",
    "bold_image(x, y, z, time)\n",
    "```\n"
   ]
  },
  {
   "cell_type": "code",
   "execution_count": null,
   "metadata": {
    "scrolled": true
   },
   "outputs": [],
   "source": [
    "bold_slice = bold_image(:, :, 10, 1);\n",
    "imagesc(rot90(bold_slice))\n",
    "axis image\n",
    "colormap gray"
   ]
  },
  {
   "cell_type": "markdown",
   "metadata": {},
   "source": [
    "We also created a function that can plot that any slice from any timepoint.\n",
    "\n",
    "To see how to use it you can use the help function\n",
    "\n",
    "```\n",
    "help show_slice_from_timeseries\n",
    "```"
   ]
  },
  {
   "cell_type": "code",
   "execution_count": null,
   "metadata": {},
   "outputs": [],
   "source": [
    "orientation = 'axial';\n",
    "slice_nr = 10;\n",
    "timepoint = 1;\n",
    "show_slice_from_timeseries(bold_image, orientation, slice_nr, timepoint)"
   ]
  },
  {
   "cell_type": "markdown",
   "metadata": {},
   "source": [
    "---\n",
    "\n",
    "<img src=\"../inputs/section_header.png\">"
   ]
  },
  {
   "cell_type": "markdown",
   "metadata": {},
   "source": [
    "<div id=\"section_2\"></div>\n",
    "\n",
    "# 2. Let's track a voxel over time!\n"
   ]
  },
  {
   "cell_type": "markdown",
   "metadata": {},
   "source": [
    "In the preivous section, we visualised a slice of the functional imaging data. Now, let's try to do something more challenging. We will track how the BOLD value inside the voxel in a T2* image changes over the 4th dimension, time. We will also plot the location of the voxel on a slice of choice. Say we want to plot it on a sagittal slice.\n",
    "\n",
    "We want to visualize the voxel with the following spatial characteristics:\n",
    "- x position: 31\n",
    "- y position: 54\n",
    "- z position: 21 "
   ]
  },
  {
   "cell_type": "code",
   "execution_count": null,
   "metadata": {
    "scrolled": true
   },
   "outputs": [],
   "source": [
    "x=31;\n",
    "y=54;\n",
    "z=21;\n",
    "\n",
    "% We take all the time points so we use \":\"\n",
    "voxel_BOLD_vector = bold_image(x, y, z, :);\n",
    "\n",
    "% We plot the time course and use squeeze to only \"keep\" the 4th dimension\n",
    "plot(squeeze(voxel_BOLD_vector))"
   ]
  },
  {
   "cell_type": "markdown",
   "metadata": {},
   "source": [
    "We created a function that actually allows you to display the time course of a specific voxel and its location in the brain.\n",
    "\n",
    "This only reuses things that you have seen so far.\n",
    "\n",
    "You can view its code in the `octave/track_voxel.m`"
   ]
  },
  {
   "cell_type": "code",
   "execution_count": null,
   "metadata": {
    "scrolled": true
   },
   "outputs": [],
   "source": [
    "track_voxel(bold_image, x, y, z)"
   ]
  },
  {
   "cell_type": "markdown",
   "metadata": {},
   "source": [
    "# 3. Visualisation on a \"dataframe\""
   ]
  },
  {
   "cell_type": "markdown",
   "metadata": {},
   "source": [
    "Most BIDS datasets come with extra data\n",
    "  - `participants.tsv` to give additional information about the subjects in the dataset.\n",
    "  - `participants.json` is the metadata for `participants.tsv`: for example it explains what each column means."
   ]
  },
  {
   "cell_type": "markdown",
   "metadata": {},
   "source": [
    "The `participants.tsv` data was already loaded when we used `spm_BIDS`."
   ]
  },
  {
   "cell_type": "markdown",
   "metadata": {},
   "source": [
    "Additionally, we are going to create some synthetic data. We will calculate whole brain and gray matter volume, for which we will use the following regression equations (calculated on segmented open source healthy control data):\n",
    "\n",
    "$$WholeBrain = 1700 - 3.5 age$$\n",
    "$$GrayMatter = 1100 - 3 age$$\n",
    "\n",
    "We will also add some Gaussian noise to both data vectors. \n",
    "\n",
    "The `simulate_volume` function (that we created) will be used, passing 2 extra arguments, being the `intercept` and the `slope` of the regression equation. \n",
    "\n",
    "The first argument, `age`, will be taken from the content of the `participants.tsv` file."
   ]
  },
  {
   "cell_type": "code",
   "execution_count": null,
   "metadata": {
    "scrolled": true
   },
   "outputs": [],
   "source": [
    "% volume = simulate_volume(age, intercept, slope)\n",
    "\n",
    "age = BIDS.participants.age;\n",
    "\n",
    "whole_brain = simulate_volume(age, 1700, -3.5);\n",
    "gray_matter = simulate_volume(age, 1100, -3);"
   ]
  },
  {
   "cell_type": "markdown",
   "metadata": {},
   "source": [
    "<div id=\"section_3.1\"></div>\n",
    "\n",
    "## 3.1 Basic visualisation"
   ]
  },
  {
   "cell_type": "code",
   "execution_count": null,
   "metadata": {},
   "outputs": [],
   "source": [
    "% we set the font size we want to use on our plots\n",
    "font_size=18;"
   ]
  },
  {
   "cell_type": "code",
   "execution_count": null,
   "metadata": {
    "scrolled": true
   },
   "outputs": [],
   "source": [
    "% plot a histogram\n",
    "hist(age)\n",
    "\n",
    "% modify the labels\n",
    "xlabel('Age [years]', 'fontSize', font_size);\n",
    "ylabel('Count', 'fontSize', font_size);\n",
    "\n",
    "% add a title\n",
    "title('Age distribution', 'fontSize', font_size);\n",
    "\n",
    "% set the font size of the axis\n",
    "set(gca, 'fontSize', 14);\n",
    "\n",
    "% Note that many of the \"arguments\" are NOT case sensitive.\n",
    "% The following you work equally well.\n",
    "\n",
    "% set(gca, 'fontsize', 14);\n",
    "% set(gca, 'Fontsize', 14);\n",
    "% set(gca, 'FontSize', 14);\n"
   ]
  },
  {
   "cell_type": "markdown",
   "metadata": {},
   "source": [
    "You can also filter the data we have based on some other information present in the `participants.tsv`.\n",
    "\n",
    "Here we can create 2 histograms side by side for the \"male\" and \"female\" in the sample."
   ]
  },
  {
   "cell_type": "code",
   "execution_count": null,
   "metadata": {},
   "outputs": [],
   "source": [
    "sex = BIDS.participants.sex;\n",
    "sex = deblank(sex);"
   ]
  },
  {
   "cell_type": "markdown",
   "metadata": {},
   "source": [
    "Now we \"filter\" the age vector by only selecting the values whose corresponding `sex` is equal to `M`. \n",
    "\n",
    "We do this by comparing the strings ignore the case (**str**ing **c**o**m**pare **i**gnore)."
   ]
  },
  {
   "cell_type": "code",
   "execution_count": null,
   "metadata": {},
   "outputs": [],
   "source": [
    "age_male = age(strcmpi(sex, 'M');"
   ]
  },
  {
   "cell_type": "code",
   "execution_count": null,
   "metadata": {},
   "outputs": [],
   "source": [
    "% we create a subplot on a \"grid\" with 1 row, 2 columns, and we now draw on the subplot 1\n",
    "subplot(121)\n",
    "hist(age_male), ... \n",
    "     'faceColor', 'r');\n",
    "xlabel('Age [years]', 'fontSize', font_size);\n",
    "ylabel('Count', 'fontSize', font_size);\n",
    "title('Male', 'fontSize', font_size);\n",
    "set(gca, 'fontSize', 14);\n",
    "\n",
    "% we create a subplot on a \"grid\" with 1 row, 2 columns, and we now draw on the subplot 2\n",
    "subplot(122)\n",
    "hist(age(strcmpi(sex, 'F')));\n",
    "xlabel('Age [years]', 'fontSize', font_size);\n",
    "ylabel('Count', 'fontSize', font_size);\n",
    "title('Female', 'fontSize', font_size);\n",
    "set(gca, 'fontSize', 14);"
   ]
  },
  {
   "cell_type": "markdown",
   "metadata": {},
   "source": [
    "You can also view your data usign a scatter plot."
   ]
  },
  {
   "cell_type": "code",
   "execution_count": null,
   "metadata": {
    "scrolled": true
   },
   "outputs": [],
   "source": [
    "t = scatter(age, whole_brain, ...\n",
    "        'marker', 'o', ...\n",
    "        'lineWidth', 40);\n",
    "        \n",
    "set(t, 'markerfacecolor', 'r');\n",
    "\n",
    "xlabel('Age [years]', 'fontSize', font_size);\n",
    "ylabel('Whole brain', 'fontSize', font_size);\n",
    "\n",
    "set(gca, 'fontSize', 14);\n",
    "\n",
    "axis tight"
   ]
  }
 ],
 "metadata": {
  "kernelspec": {
   "display_name": "Octave",
   "language": "octave",
   "name": "octave"
  },
  "language_info": {
   "file_extension": ".m",
   "help_links": [
    {
     "text": "GNU Octave",
     "url": "https://www.gnu.org/software/octave/support.html"
    },
    {
     "text": "Octave Kernel",
     "url": "https://github.com/Calysto/octave_kernel"
    },
    {
     "text": "MetaKernel Magics",
     "url": "https://metakernel.readthedocs.io/en/latest/source/README.html"
    }
   ],
   "mimetype": "text/x-octave",
   "name": "octave",
   "version": "4.2.2"
  }
 },
 "nbformat": 4,
 "nbformat_minor": 4
}
