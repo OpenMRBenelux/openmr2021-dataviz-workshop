{
 "cells": [
  {
   "cell_type": "markdown",
   "metadata": {},
   "source": [
    "<img src=\"../inputs/section_header.png\">"
   ]
  },
  {
   "cell_type": "markdown",
   "metadata": {},
   "source": [
    "# Python Visualisation Tutorial"
   ]
  },
  {
   "cell_type": "markdown",
   "metadata": {},
   "source": [
    "Hello there, and welcome to our visualisation workshop!\n",
    "\n",
    "This tutorial is entirely dedicated to offer useful tools to get started with visualisations in Python, with examples on neuro-imaging data. \n",
    "\n",
    "The data that we will explore today is part of an [open source repository](https://openneuro.org/datasets/ds003542) on adult language learners. We express our sincere gratitude to Kshipra Gurunandan, Manuel Carreiras and Pedro M. Paz-Alonso for making this data open source, and thus allowing us to make this tutorial."
   ]
  },
  {
   "cell_type": "markdown",
   "metadata": {},
   "source": [
    "***"
   ]
  },
  {
   "cell_type": "markdown",
   "metadata": {},
   "source": [
    "## Wait, what ...? A Jupyter notebook?"
   ]
  },
  {
   "cell_type": "markdown",
   "metadata": {},
   "source": [
    "Never worked with jupyter notebooks before? Don't worry! We'll guide you through it step by step.\n",
    "\n",
    "A **jupyter notebook** \n",
    "- is a convenient way to combine code with neat documentation, allowing others to easily follow a project that uses code\n",
    "- works with so-called \"blocks\", which can either be a \"code block\" or a \"markdown block\"\n",
    "    - *Markdown block*: You are reading one right now! It is a block that understands the markdown language, an easy language to create text, similar to HTML and LaTeX.\n",
    "    - *Code block*: A code block in a jupyter notebook understands the Python language by default. If applicable, output is printed below the code block, such as images and text. You can also change the kernel of code blocks; in this way you can use other programming languages in the code blocks! Read more about this [here](https://jupyter4edu.github.io/jupyter-edu-book/jupyter.html).\n",
    "- Allows to \"hide\" blocks, which will be visible with 3 dots (...). Solutions are hidden this way, but first try to find the solution yourself in the empty block above!\n",
    "- has some nice shortcuts:\n",
    "\n",
    "|Operation|Shortcut|\n",
    "|---|---|\n",
    "|Run a cell|shift + enter / ctrl + enter|\n",
    "|Add cell above | \"a\" (first click left of the cell)|\n",
    "|Add cell below | \"b\" (first click left of the cell)|\n",
    "|Copy cell: | \"c\" (first click left of the cell)|\n",
    "|Cut cell: | \"x\" (first click left of the cell)|\n",
    "|Paste cell | \"v\" (first click left of the cell)|\n",
    "|Delete cell | \"dd\" (first click left of the cell)|\n",
    "|Comment out code | select code and press ctrl + / or cmd + /|\n",
    "|Uncomment code| select code and press ctrl + / or cmd + /|\n",
    "|Help and documentation| type `?` or `help()` in a code cell|\n",
    "\n",
    "Last note: If you want to install additional python packages, you can call upon the terminal with an exclamation mark (!) before a command. So, installing a new package will be the following structure inside a code cell: `!pip install my-package`"
   ]
  },
  {
   "cell_type": "markdown",
   "metadata": {},
   "source": [
    "<br />\n",
    "\n",
    "***\n",
    "\n",
    "<br />"
   ]
  },
  {
   "cell_type": "markdown",
   "metadata": {},
   "source": [
    "## Let's get started!\n",
    "### Table of contents\n",
    "[0. Preparations](#section_0)\n",
    "\n",
    "[1. Visualising neuro-imaging data](#section_1)\n",
    "    \n",
    "- [1.1 What is a NIfTI (.nii)?](#section_1.1)\n",
    "- [1.2 Anatomical MRI - T1w](#section_1.2)\n",
    "- [1.3 Functional MRI (fMRI)](#section_1.3)\n",
    "\n",
    "[2. Visualisations on dataframes](#section_2)\n",
    "- [2.1 Dataframe exploration](#section_2.1)\n",
    "- [2.2 Basic visualisation with Matplotlib](#section_2.2)\n",
    "- [2.3 Seaborn](#section_2.3)\n",
    "- [2.4 Using functions to manipulate a plot](#section_2.4)\n",
    "- [2.5 Visualisation options for data exploration](#section_2.5)\n",
    "\n",
    "[3. Integration exercise](#section_3)\n",
    "\n",
    "[4. Additional plots to consider](#section_4)\n",
    "\n",
    "[Funny Note :)](#section_funny_note)\n",
    "\n",
    "[Acknowledgements and References](#section_ack_ref)"
   ]
  },
  {
   "cell_type": "markdown",
   "metadata": {},
   "source": [
    "<br />\n",
    "\n",
    "***"
   ]
  },
  {
   "cell_type": "markdown",
   "metadata": {},
   "source": [
    "<div id=\"section_0\"></div>\n",
    "\n",
    "# 0. Preparations"
   ]
  },
  {
   "cell_type": "markdown",
   "metadata": {},
   "source": [
    "Import some packages and functions. The self-written functions can be consulted in the subdirectory python/functions.py"
   ]
  },
  {
   "cell_type": "code",
   "execution_count": 23,
   "metadata": {
    "scrolled": true
   },
   "outputs": [],
   "source": [
    "# Required packages for this notebook\n",
    "import os\n",
    "from bids import BIDSLayout      # BIDS: For neat neuro-imaging data organisation --> https://bids.neuroimaging.io/\n",
    "import pandas as pd              # Data handling\n",
    "import numpy as np               # Linear algebra package\n",
    "import matplotlib.pyplot as plt  # Visualisation package\n",
    "import seaborn as sns            # Visualisation package\n",
    "import json                      # To import json files\n",
    "import nibabel as nib            # Neuro-imaging library to work with NI data\n",
    "import nilearn                   # Neuro-imaging library to work with NI data\n",
    "\n",
    "# Self-made functions\n",
    "from python.functions import show_slice, track_voxel, simulate_volume"
   ]
  },
  {
   "cell_type": "markdown",
   "metadata": {},
   "source": [
    "Some notebook settings"
   ]
  },
  {
   "cell_type": "code",
   "execution_count": 24,
   "metadata": {},
   "outputs": [
    {
     "data": {
      "application/javascript": [
       "\n",
       "            setTimeout(function() {\n",
       "                var nbb_cell_id = 24;\n",
       "                var nbb_unformatted_code = \"# Set matplotlib inline to view images below the cell in this notebook\\n%matplotlib inline \\n\\n# To prettify python code (python syntax is already pretty of course ;) ) --> https://pypi.org/project/nb-black/\\n%load_ext nb_black \";\n",
       "                var nbb_formatted_code = \"# Set matplotlib inline to view images below the cell in this notebook\\n%matplotlib inline\\n\\n# To prettify python code (python syntax is already pretty of course ;) ) --> https://pypi.org/project/nb-black/\\n%load_ext nb_black\";\n",
       "                var nbb_cells = Jupyter.notebook.get_cells();\n",
       "                for (var i = 0; i < nbb_cells.length; ++i) {\n",
       "                    if (nbb_cells[i].input_prompt_number == nbb_cell_id) {\n",
       "                        if (nbb_cells[i].get_text() == nbb_unformatted_code) {\n",
       "                             nbb_cells[i].set_text(nbb_formatted_code);\n",
       "                        }\n",
       "                        break;\n",
       "                    }\n",
       "                }\n",
       "            }, 500);\n",
       "            "
      ],
      "text/plain": [
       "<IPython.core.display.Javascript object>"
      ]
     },
     "metadata": {},
     "output_type": "display_data"
    }
   ],
   "source": [
    "# Set matplotlib inline to view images below the cell in this notebook\n",
    "%matplotlib inline \n",
    "\n",
    "# To prettify python code (python syntax is already pretty of course ;) ) --> https://pypi.org/project/nb-black/\n",
    "%load_ext nb_black "
   ]
  },
  {
   "cell_type": "markdown",
   "metadata": {},
   "source": [
    "Preparations for data imports"
   ]
  },
  {
   "cell_type": "code",
   "execution_count": 51,
   "metadata": {},
   "outputs": [
    {
     "data": {
      "application/javascript": [
       "\n",
       "            setTimeout(function() {\n",
       "                var nbb_cell_id = 51;\n",
       "                var nbb_unformatted_code = \"# data_folder = \\\"../inputs/ds003542\\\"\\n# layout = BIDSLayout(data_folder)\\n\\n# # Description of the project\\n# with open(os.path.join(data_folder, \\\"README\\\")) as txt_file:\\n#     README_sections = txt_file.read().split(f'{\\\"-\\\"*34}')\\n#     project_description = README_sections[0]\\n#     references = README_sections[1]\\n#     contact = README_sections[3]\";\n",
       "                var nbb_formatted_code = \"# data_folder = \\\"../inputs/ds003542\\\"\\n# layout = BIDSLayout(data_folder)\\n\\n# # Description of the project\\n# with open(os.path.join(data_folder, \\\"README\\\")) as txt_file:\\n#     README_sections = txt_file.read().split(f'{\\\"-\\\"*34}')\\n#     project_description = README_sections[0]\\n#     references = README_sections[1]\\n#     contact = README_sections[3]\";\n",
       "                var nbb_cells = Jupyter.notebook.get_cells();\n",
       "                for (var i = 0; i < nbb_cells.length; ++i) {\n",
       "                    if (nbb_cells[i].input_prompt_number == nbb_cell_id) {\n",
       "                        if (nbb_cells[i].get_text() == nbb_unformatted_code) {\n",
       "                             nbb_cells[i].set_text(nbb_formatted_code);\n",
       "                        }\n",
       "                        break;\n",
       "                    }\n",
       "                }\n",
       "            }, 500);\n",
       "            "
      ],
      "text/plain": [
       "<IPython.core.display.Javascript object>"
      ]
     },
     "metadata": {},
     "output_type": "display_data"
    }
   ],
   "source": [
    "data_folder = \"../inputs/ds003542\"\n",
    "layout = BIDSLayout(data_folder)\n",
    "\n",
    "# Description of the project\n",
    "with open(os.path.join(data_folder, \"README\")) as txt_file:\n",
    "    README_sections = txt_file.read().split(f'{\"-\"*34}')\n",
    "    project_description = README_sections[0]\n",
    "    references = README_sections[1]\n",
    "    contact = README_sections[3]"
   ]
  },
  {
   "cell_type": "markdown",
   "metadata": {},
   "source": [
    "***"
   ]
  },
  {
   "cell_type": "markdown",
   "metadata": {},
   "source": [
    "# The project where the data originates:"
   ]
  },
  {
   "cell_type": "markdown",
   "metadata": {},
   "source": [
    "Below, we will first print the README file that contains the explanation about the objective of this study."
   ]
  },
  {
   "cell_type": "code",
   "execution_count": 115,
   "metadata": {},
   "outputs": [
    {
     "data": {
      "application/javascript": [
       "\n",
       "            setTimeout(function() {\n",
       "                var nbb_cell_id = 115;\n",
       "                var nbb_unformatted_code = \"# print('Original project description:')\\n# print('-'*30)\\n# print(project_description)\";\n",
       "                var nbb_formatted_code = \"# print('Original project description:')\\n# print('-'*30)\\n# print(project_description)\";\n",
       "                var nbb_cells = Jupyter.notebook.get_cells();\n",
       "                for (var i = 0; i < nbb_cells.length; ++i) {\n",
       "                    if (nbb_cells[i].input_prompt_number == nbb_cell_id) {\n",
       "                        if (nbb_cells[i].get_text() == nbb_unformatted_code) {\n",
       "                             nbb_cells[i].set_text(nbb_formatted_code);\n",
       "                        }\n",
       "                        break;\n",
       "                    }\n",
       "                }\n",
       "            }, 500);\n",
       "            "
      ],
      "text/plain": [
       "<IPython.core.display.Javascript object>"
      ]
     },
     "metadata": {},
     "output_type": "display_data"
    }
   ],
   "source": [
    "print(\"Description from the project's README:\")\n",
    "print('-'*30)\n",
    "print(project_description)"
   ]
  },
  {
   "cell_type": "markdown",
   "metadata": {},
   "source": [
    "***"
   ]
  },
  {
   "cell_type": "markdown",
   "metadata": {},
   "source": [
    "<img src=\"../inputs/section_header.png\">"
   ]
  },
  {
   "cell_type": "markdown",
   "metadata": {},
   "source": [
    "<div id=\"section_1\"></div>\n",
    "\n",
    "# 1. Visualising neuro-imaging data"
   ]
  },
  {
   "cell_type": "markdown",
   "metadata": {},
   "source": [
    "The data was downloaded from OpenNeuro, [project ds003542](https://openneuro.org/datasets/ds003542/versions/1.0.0), which originates from a study on **language learners**. For the neuro-imaging data part, we only extracted data from subject 1. Hence, the data is present in the \"inputs/ds00352\" folder, subdirectory \"sub-01\":\n",
    "- **Anatomical MRI:** \"anat\" subfolder\n",
    "- **Functional MRI:** \"func\" subfolder\n",
    "\n",
    "Let's define the paths. We use the [BIDS data organisation](https://bids.neuroimaging.io/) to get the BIDS dataset from the data folder. In short, BIDS aims to uniformise neuro-imaging (meta)data organisation and sharing; essentially speaking the same language when it comes to neuro-imaging data! In Python, we use the package called `pybids` (check [this link](https://pypi.org/project/pybids/)) to facilitate working with BIDS. "
   ]
  },
  {
   "cell_type": "code",
   "execution_count": 33,
   "metadata": {},
   "outputs": [
    {
     "data": {
      "application/javascript": [
       "\n",
       "            setTimeout(function() {\n",
       "                var nbb_cell_id = 33;\n",
       "                var nbb_unformatted_code = \"# Index [0] at the end: to get the string from the 1-element vector.\\nt1w_path = layout.get(\\n    subject=\\\"01\\\", suffix=\\\"T1w\\\", extension=\\\".nii.gz\\\", return_type=\\\"filename\\\"\\n)[0]\\nbold_path = layout.get(\\n    subject=\\\"01\\\",\\n    task=\\\"compL1\\\",\\n    run=\\\"1\\\",\\n    suffix=\\\"bold\\\",\\n    extension=\\\".nii.gz\\\",\\n    return_type=\\\"filename\\\",\\n)[0]\";\n",
       "                var nbb_formatted_code = \"# Index [0] at the end: to get the string from the 1-element vector.\\nt1w_path = layout.get(\\n    subject=\\\"01\\\", suffix=\\\"T1w\\\", extension=\\\".nii.gz\\\", return_type=\\\"filename\\\"\\n)[0]\\nbold_path = layout.get(\\n    subject=\\\"01\\\",\\n    task=\\\"compL1\\\",\\n    run=\\\"1\\\",\\n    suffix=\\\"bold\\\",\\n    extension=\\\".nii.gz\\\",\\n    return_type=\\\"filename\\\",\\n)[0]\";\n",
       "                var nbb_cells = Jupyter.notebook.get_cells();\n",
       "                for (var i = 0; i < nbb_cells.length; ++i) {\n",
       "                    if (nbb_cells[i].input_prompt_number == nbb_cell_id) {\n",
       "                        if (nbb_cells[i].get_text() == nbb_unformatted_code) {\n",
       "                             nbb_cells[i].set_text(nbb_formatted_code);\n",
       "                        }\n",
       "                        break;\n",
       "                    }\n",
       "                }\n",
       "            }, 500);\n",
       "            "
      ],
      "text/plain": [
       "<IPython.core.display.Javascript object>"
      ]
     },
     "metadata": {},
     "output_type": "display_data"
    }
   ],
   "source": [
    "# Index [0] at the end: to get the string from the 1-element vector.\n",
    "t1w_path = layout.get(\n",
    "    subject=\"01\", suffix=\"T1w\", extension=\".nii.gz\", return_type=\"filename\"\n",
    ")[0]\n",
    "bold_path = layout.get(\n",
    "    subject=\"01\",\n",
    "    task=\"compL1\",\n",
    "    run=\"1\",\n",
    "    suffix=\"bold\",\n",
    "    extension=\".nii.gz\",\n",
    "    return_type=\"filename\",\n",
    ")[0]"
   ]
  },
  {
   "cell_type": "markdown",
   "metadata": {},
   "source": [
    "<div id=\"section_1.1\"></div>\n",
    "\n",
    "## 1.1 What is a NIfTI (.nii)?"
   ]
  },
  {
   "cell_type": "markdown",
   "metadata": {},
   "source": [
    "For a thorough explanation on the origin and objective of NIfTI, we refer to [this webpage](https://NIfTI.nimh.nih.gov/). In short however, the NIfTI file format has been proposed to "
   ]
  },
  {
   "cell_type": "markdown",
   "metadata": {},
   "source": [
    "<div id=\"section_1.2\"></div>\n",
    "\n",
    "## 1.2 Anatomical MRI - T1w"
   ]
  },
  {
   "cell_type": "markdown",
   "metadata": {},
   "source": [
    "Click [here](https://nipy.org/nibabel/coordinate_systems.html) for the source article in nibabel.\\\n",
    "Note that this anatomical T1w NIfTI is a 3D image, with each dimension being a spatial dimension (x, y and z), corresponding to a body axis (medio-lateral, antero-posterior and cranio-caudal)."
   ]
  },
  {
   "cell_type": "markdown",
   "metadata": {},
   "source": [
    "### Let's first search for the NIfTI file in our directory! "
   ]
  },
  {
   "cell_type": "code",
   "execution_count": 34,
   "metadata": {},
   "outputs": [
    {
     "data": {
      "application/javascript": [
       "\n",
       "            setTimeout(function() {\n",
       "                var nbb_cell_id = 34;\n",
       "                var nbb_unformatted_code = \"t1w_file = nib.load(t1w_path)  # Upload the NIfTI file with nibabel. The path indicates the NIfTI's location.\\nt1w_image = t1w_file.get_fdata()  # Get the 3D numpy array that contains grey values of the voxels\";\n",
       "                var nbb_formatted_code = \"t1w_file = nib.load(\\n    t1w_path\\n)  # Upload the NIfTI file with nibabel. The path indicates the NIfTI's location.\\nt1w_image = (\\n    t1w_file.get_fdata()\\n)  # Get the 3D numpy array that contains grey values of the voxels\";\n",
       "                var nbb_cells = Jupyter.notebook.get_cells();\n",
       "                for (var i = 0; i < nbb_cells.length; ++i) {\n",
       "                    if (nbb_cells[i].input_prompt_number == nbb_cell_id) {\n",
       "                        if (nbb_cells[i].get_text() == nbb_unformatted_code) {\n",
       "                             nbb_cells[i].set_text(nbb_formatted_code);\n",
       "                        }\n",
       "                        break;\n",
       "                    }\n",
       "                }\n",
       "            }, 500);\n",
       "            "
      ],
      "text/plain": [
       "<IPython.core.display.Javascript object>"
      ]
     },
     "metadata": {},
     "output_type": "display_data"
    }
   ],
   "source": [
    "t1w_file = nib.load(t1w_path)  # Upload the NIfTI file with nibabel. The path indicates the NIfTI's location.\n",
    "t1w_image = t1w_file.get_fdata()  # Get the 3D numpy array that contains grey values of the voxels"
   ]
  },
  {
   "cell_type": "markdown",
   "metadata": {},
   "source": [
    "### What are the dimensions of the numpy array?"
   ]
  },
  {
   "cell_type": "code",
   "execution_count": 38,
   "metadata": {},
   "outputs": [
    {
     "data": {
      "application/javascript": [
       "\n",
       "            setTimeout(function() {\n",
       "                var nbb_cell_id = 38;\n",
       "                var nbb_unformatted_code = \"# t1w_shape = ...\\n# print(f\\\"Shape of the 3D numpy array: {...}\\\")\\n# print(f\\\"- # Medio-lateral voxels: {...}\\\")\\n# print(f\\\"- # Antero-posterior voxels: {...}\\\")\\n# print(f\\\"- # Cranio-caudal voxels: {...}\\\")\";\n",
       "                var nbb_formatted_code = \"# t1w_shape = ...\\n# print(f\\\"Shape of the 3D numpy array: {...}\\\")\\n# print(f\\\"- # Medio-lateral voxels: {...}\\\")\\n# print(f\\\"- # Antero-posterior voxels: {...}\\\")\\n# print(f\\\"- # Cranio-caudal voxels: {...}\\\")\";\n",
       "                var nbb_cells = Jupyter.notebook.get_cells();\n",
       "                for (var i = 0; i < nbb_cells.length; ++i) {\n",
       "                    if (nbb_cells[i].input_prompt_number == nbb_cell_id) {\n",
       "                        if (nbb_cells[i].get_text() == nbb_unformatted_code) {\n",
       "                             nbb_cells[i].set_text(nbb_formatted_code);\n",
       "                        }\n",
       "                        break;\n",
       "                    }\n",
       "                }\n",
       "            }, 500);\n",
       "            "
      ],
      "text/plain": [
       "<IPython.core.display.Javascript object>"
      ]
     },
     "metadata": {},
     "output_type": "display_data"
    }
   ],
   "source": [
    "t1w_shape = ...\n",
    "print(f\"Shape of the 3D numpy array: {...}\")\n",
    "print(f\"- # Medio-lateral voxels: {...}\")\n",
    "print(f\"- # Antero-posterior voxels: {...}\")\n",
    "print(f\"- # Cranio-caudal voxels: {...}\")"
   ]
  },
  {
   "cell_type": "markdown",
   "metadata": {},
   "source": [
    "[<ins> Solution: click here</ins>](#solution_dim_anat)"
   ]
  },
  {
   "cell_type": "markdown",
   "metadata": {},
   "source": [
    "### Let's show a single slice of the 3D numpy array.\n",
    "To do this, we can index the object, for which step 2 will help us!\\\n",
    "We want to extract axial slice 150. Call this variable `t1w_slice`.\n",
    "\n",
    "Hint: indexing of the `t1w_image` object will be as follows: `t1w_image[ML_direction, AP_direction, CC_direction]`, with each element consisting of either a single value, or a range (e.g. `5:9`). To select everyting along an axis, just pass `:`. ML = Medio-lateral, AP = Antero-posterior, CC = Cranio-caudal."
   ]
  },
  {
   "cell_type": "code",
   "execution_count": null,
   "metadata": {},
   "outputs": [],
   "source": []
  },
  {
   "cell_type": "markdown",
   "metadata": {},
   "source": [
    "[<ins> Solution: click here</ins>](#solution_show_anat_slice)"
   ]
  },
  {
   "cell_type": "markdown",
   "metadata": {},
   "source": [
    "Let's show it!"
   ]
  },
  {
   "cell_type": "code",
   "execution_count": 44,
   "metadata": {},
   "outputs": [
    {
     "data": {
      "application/javascript": [
       "\n",
       "            setTimeout(function() {\n",
       "                var nbb_cell_id = 44;\n",
       "                var nbb_unformatted_code = \"# fig, ax = plt.subplots()\\n# ax.imshow(t1w_slice.T, cmap=\\\"gray\\\", origin=\\\"lower\\\")\";\n",
       "                var nbb_formatted_code = \"# fig, ax = plt.subplots()\\n# ax.imshow(t1w_slice.T, cmap=\\\"gray\\\", origin=\\\"lower\\\")\";\n",
       "                var nbb_cells = Jupyter.notebook.get_cells();\n",
       "                for (var i = 0; i < nbb_cells.length; ++i) {\n",
       "                    if (nbb_cells[i].input_prompt_number == nbb_cell_id) {\n",
       "                        if (nbb_cells[i].get_text() == nbb_unformatted_code) {\n",
       "                             nbb_cells[i].set_text(nbb_formatted_code);\n",
       "                        }\n",
       "                        break;\n",
       "                    }\n",
       "                }\n",
       "            }, 500);\n",
       "            "
      ],
      "text/plain": [
       "<IPython.core.display.Javascript object>"
      ]
     },
     "metadata": {},
     "output_type": "display_data"
    }
   ],
   "source": [
    "fig, ax = plt.subplots()\n",
    "ax.imshow(t1w_slice.T, cmap=\"gray\", origin=\"lower\")"
   ]
  },
  {
   "cell_type": "markdown",
   "metadata": {},
   "source": [
    "**A bit more explanation**\n",
    "\n",
    "The code block that you just ran will partly be covered in [section 2](#section_2). In short:\n",
    "- The `imshow` function on the ax object will plot the `t1w_slice` on an `ax` object. \n",
    "- The `.T` means that you transpose the 2D numpy array, essentially \"flipping\" the grey values in the 2D matrix. Try removing it and rerunning the cell, you'll see what it does! \n",
    "- `cmap` is the color map. Depending on the value, the shade will range from white to black; a good way to visualise an anatomical image!"
   ]
  },
  {
   "cell_type": "markdown",
   "metadata": {},
   "source": [
    "We have also created a function (`show_slice`) for you to easily investigate your T1w image. You can consult the source code in the `functions.py` file. \n",
    "\n",
    "To use it, just run `show_slice(image = t1w_image, orientation = 'axial', slice_nr = 150)` in the next cell. Play around with the `orientation` and `slice_nr` parameters at will!"
   ]
  },
  {
   "cell_type": "markdown",
   "metadata": {},
   "source": [
    "**REMARK: Defacing**\\\n",
    "Run the following code block in a new cell: `show_slice(image = t1w_image, orientation = 'sagittal', slice_nr = 100)`.\\\n",
    "In this slice, you can nicely see that this NIfTI image has been \"defaced\", to ensure anonimity. The face part is entirely black. Inside the 3D numpy array, all values that relate to the face were set to 0 (black) here!"
   ]
  },
  {
   "cell_type": "markdown",
   "metadata": {},
   "source": [
    "<div id=\"section_1.3\"></div>\n",
    "\n",
    "## 1.3 Functional MRI (fMRI)"
   ]
  },
  {
   "cell_type": "markdown",
   "metadata": {},
   "source": [
    "First things first: a functional MRI image has a fourth dimension, time!\\\n",
    "Hence, a NIfTI file is a 4D numpy array, with the first 3 dimensions being spatial (x: medio-lateral, y: antero-posterior and z: craniocaudal), and the 4th being time!"
   ]
  },
  {
   "cell_type": "markdown",
   "metadata": {},
   "source": [
    "EXTRA: For the most fancy experience, you can replace the `color_map` parameter inside the `show_functional_slice` and `track_voxel` functions with one of the options listed in [this link](https://matplotlib.org/stable/tutorials/colors/colormaps.html). This will change the colors of your image, check it out! :) "
   ]
  },
  {
   "cell_type": "markdown",
   "metadata": {},
   "source": [
    "### Let's first search for the NIfTI file in our directory! "
   ]
  },
  {
   "cell_type": "markdown",
   "metadata": {},
   "source": [
    "Try to upload the files yourself! Check section 1.2 for this. Call your variables `bold_file` and `bold_image` to work with the rest of the notebook."
   ]
  },
  {
   "cell_type": "markdown",
   "metadata": {},
   "source": [
    "[<ins> Solution: click here </ins>](#solution_upload_bold_file)"
   ]
  },
  {
   "cell_type": "code",
   "execution_count": null,
   "metadata": {},
   "outputs": [],
   "source": []
  },
  {
   "cell_type": "markdown",
   "metadata": {},
   "source": [
    "### What are the dimensions of the numpy array?"
   ]
  },
  {
   "cell_type": "markdown",
   "metadata": {},
   "source": [
    "Try to do this using the similar code block of section 1.2. Remember that the data has a fourth dimension!"
   ]
  },
  {
   "cell_type": "code",
   "execution_count": null,
   "metadata": {},
   "outputs": [],
   "source": []
  },
  {
   "cell_type": "markdown",
   "metadata": {},
   "source": [
    "[<ins> Solution: click here </ins>](#solution_dim_array_func)"
   ]
  },
  {
   "cell_type": "markdown",
   "metadata": {},
   "source": [
    "### Let's show a single slice again!\n",
    "Get inspiration from section 1.2.3 and 1.3.2 to answer this one. We want to visualize axial slice 10."
   ]
  },
  {
   "cell_type": "code",
   "execution_count": null,
   "metadata": {},
   "outputs": [],
   "source": []
  },
  {
   "cell_type": "markdown",
   "metadata": {},
   "source": [
    "[<ins> Solution: click here </ins>](#solution_show_bold_image)"
   ]
  },
  {
   "cell_type": "markdown",
   "metadata": {},
   "source": [
    "Question: When looking at the spatial dimensions and compare it to the T1w image, what do you notice?"
   ]
  },
  {
   "cell_type": "markdown",
   "metadata": {},
   "source": []
  },
  {
   "cell_type": "markdown",
   "metadata": {},
   "source": [
    "[<ins> Solution: click here </ins>](#solution_show_bold_image_question)"
   ]
  },
  {
   "cell_type": "markdown",
   "metadata": {},
   "source": [
    "We have also created a function (`show_slice`) for you to easily investigate your fMRI image. You can consult the source code in the `functions.py` file. \n",
    "\n",
    "To use it, just run `show_slice(image = bold_image, orientation = 'axial', slice_nr = 10, timepoint = 0)` in the next cell. Play around with the `orientation`, `slice_nr` and `timepoint` parameters at will!"
   ]
  },
  {
   "cell_type": "markdown",
   "metadata": {},
   "source": [
    "### Additional neuro-imaging tools"
   ]
  },
  {
   "cell_type": "markdown",
   "metadata": {},
   "source": [
    "The \"Nilearn\" package offers quite some nice tools to visualise your data! Before getting started, let's import nilearn: `import nilearn`. Let's go over some nice options within the \"plotting\" section:\n",
    "- `nilearn.plotting.plot_anat(path)`: plot your anatomical image. Only a path to your NIfTI file is required (as can be read [here](http://nilearn.github.io/manipulating_images/input_output.html))! You can read more about the `plot_anat()` function [here](https://nilearn.github.io/modules/generated/nilearn.plotting.plot_anat.html#nilearn.plotting.plot_anat).\n",
    "- `nilearn.plotting.plot_carpet(path)`: A carpet plot allows you to see the BOLD values of your voxels over time. Later in this notebook, we will show how you can plot the value of a single voxel over time, but this immediately gives you the full picture! Moreover, it takes the time between slices into account, whereas the 4th dimension (time) of our 4D numpy array makes abstraction of this. You can read more about `plot_carpet()` [here](https://nilearn.github.io/auto_examples/01_plotting/plot_carpet.html)."
   ]
  },
  {
   "cell_type": "markdown",
   "metadata": {},
   "source": [
    "***"
   ]
  },
  {
   "cell_type": "markdown",
   "metadata": {},
   "source": [
    "<img src=\"../inputs/section_header.png\">"
   ]
  },
  {
   "cell_type": "markdown",
   "metadata": {},
   "source": [
    "<div id=\"section_2\"></div>\n",
    "\n",
    "# 2. Visualisation on a dataframe"
   ]
  },
  {
   "cell_type": "markdown",
   "metadata": {},
   "source": [
    "First some preparations. \n",
    "\n",
    "1. We will first upload the following: \n",
    "    - data: `participants.tsv`\n",
    "    - description of the data: `participants.json`"
   ]
  },
  {
   "cell_type": "code",
   "execution_count": 7,
   "metadata": {},
   "outputs": [],
   "source": [
    "# Data. This is a .tsv (tab-separated) file\n",
    "table_path = os.path.join(data_folder, \"participants.tsv\")\n",
    "df = pd.read_csv(table_path, sep=\"\\t\") # Separator \"\\t\" since it is a .tsv file\n",
    "df['sex'] = df['sex'].apply(lambda x: x.replace(' ', ''))  # Remove the space after M and F\n",
    "\n",
    "# Data description. This is within a json file, that needs a special way of reading:\n",
    "with open(os.path.join(data_folder, \"participants.json\")) as json_file:\n",
    "    df_description = json.load(json_file)\n",
    "    df_description = pd.DataFrame(df_description)\n",
    "    df_description = df_description.drop(\"TermURL\", axis=0)"
   ]
  },
  {
   "cell_type": "markdown",
   "metadata": {},
   "source": [
    "2. Additionally, we are going to add some synthetic data. We will calculate whole brain and gray matter volume, for which we will use the following regression equations (calculated on segmented open source healthy control data):\n",
    "$$WholeBrain = 1696.06 - 3.34Age$$\n",
    "$$GrayMatter = 1041.07 - 2.84Age$$\n",
    "We will also add some Gaussian noise to both data vectors. We will use the pandas `.apply()` function, applied to a pandas Series object. The `simulate_volume` function will be applied, passing 2 extra arguments, being the `intercept` and the `slope` of the regression equation. The first argument, `age`, will be provided by the Series object."
   ]
  },
  {
   "cell_type": "code",
   "execution_count": 8,
   "metadata": {},
   "outputs": [],
   "source": [
    "df['whole_brain'] = df['age'].apply(simulate_volume, args = (1696.06, -3.34))\n",
    "df['gray_matter'] = df['age'].apply(simulate_volume, args = (1041.07, -2.84))"
   ]
  },
  {
   "cell_type": "markdown",
   "metadata": {},
   "source": [
    "<div id=\"section_2.1\"></div>\n",
    "\n",
    "## 2.1 Explore the dataframes quantitatively"
   ]
  },
  {
   "cell_type": "markdown",
   "metadata": {},
   "source": [
    "Get a sneak preview of the data `df.head()` and the full data description `df_description`"
   ]
  },
  {
   "cell_type": "markdown",
   "metadata": {},
   "source": [
    "Get a quick insight in the distribution of the data. For this, you can use e.g. `df.describe()` and `df.info()`"
   ]
  },
  {
   "cell_type": "code",
   "execution_count": null,
   "metadata": {},
   "outputs": [],
   "source": []
  },
  {
   "cell_type": "markdown",
   "metadata": {},
   "source": [
    "<div id=\"section_2.2\"></div>\n",
    "\n",
    "## 2.2 Basic visualisation with matplotlib"
   ]
  },
  {
   "cell_type": "markdown",
   "metadata": {},
   "source": [
    "Let's go through the basics of matplotlib first in order to visualize how your data is distributed. We will use matplotlib.pyplot, which we will import under the name `plt`. Thus, make sure to run this command: `import matplotlib.pyplot as plt`. A general way to start plotting:\n",
    "1. Initiate a figure instance: `fig = plt.Figure()`\n",
    "2. Add the desired plot. In this case, we will add a histogram: `plt.hist(x)`, x being the data vector to show (e.g. a column).\n",
    "3. Tidy up your figure. Quick note: you can change the font sizes with an extra argument (`fontsize = ...`) to all of the functions below. Some quick things we can change (examples: x axis, same applies to y):\n",
    "    - Labels: `plt.xlabel('label')`\n",
    "    - Ticklabels sizes: `plt.xticks(fontsize = ...)`\n",
    "    - Title: `plt.title('title')`\n",
    "4. End with `plt.show()` to show the figure"
   ]
  },
  {
   "cell_type": "markdown",
   "metadata": {},
   "source": [
    "Now it's up to you! Plot the distribution of the `age` column with a histogram."
   ]
  },
  {
   "cell_type": "code",
   "execution_count": null,
   "metadata": {},
   "outputs": [],
   "source": []
  },
  {
   "cell_type": "markdown",
   "metadata": {},
   "source": [
    "[<ins> Solution: click here </ins>](#solution_first_plt_plot)"
   ]
  },
  {
   "cell_type": "markdown",
   "metadata": {},
   "source": [
    "Now, we will plot the histogram per sex, one for male, one for female, side by side. For this, instead of `fig = plt.Figure()`, we will make use of `fig, ax = plt.subplots()`. By default, the effect is the same as the former approach, however, this option will allow you to plot multiple plots.\n",
    "- Initiate fig and ax instance `fig, ax = plt.subplots(nrows = ..., ncols = ..., figsize = ())`\n",
    "- Use the ax instance to manipulate the figure, instead of fig. However, we might have to index now:\n",
    "    - `nrows` = 1, `ncols` = 1: no indexing necessary\n",
    "    - `nrows` > 1, `ncols` = 1: 1 index necessary: ax[...]\n",
    "    - `nrows` = 1, `ncols` > 1: 1 index necessary: ax[...]\n",
    "    - `nrows` > 1, `ncols` > 1: 2 indices necessary: ax[..., ...]\n",
    "- Many options that we saw before in the `fig = plt.Figure()` case will now have an additional `set_`. E.g. `fig.xlabel()` is now `ax.set_xlabel()`.\n",
    "\n",
    "Optional: Choose the amount of bins with the `bins` argument. You can also give it a nice colour with the `color` argument (str object).\n",
    "\n",
    "Good luck!!"
   ]
  },
  {
   "cell_type": "code",
   "execution_count": null,
   "metadata": {},
   "outputs": [],
   "source": []
  },
  {
   "cell_type": "markdown",
   "metadata": {},
   "source": [
    "[<ins> Solution: click here </ins>](#solution_first_plt_plot)"
   ]
  },
  {
   "cell_type": "markdown",
   "metadata": {},
   "source": [
    "<div id=\"section_2.3\"></div>\n",
    "\n",
    "## 2.3 Introducing: Seaborn"
   ]
  },
  {
   "cell_type": "markdown",
   "metadata": {},
   "source": [
    "Potentially this already felt a bit cumbersome. Indeed, matplotlib provides you a lot of freedom, but to really get a publishable figure, we would need to write many lines of code.\n",
    "\n",
    "Hene, sometimes it is nice to benefit from other packages that have built upon matplotlib! Let's touch upon one in particular: `Seaborn`. Import it under the name `sns`, since this is, like `plt`, a consensus in the python language. It will be handy on stackoverflow! However, you can name it any way you want. For now, run: `import seaborn as sns`.\n",
    "\n",
    "Let's again plot a histogram. We will, however, use some knowledge we have gained on matplotlib:\n",
    "1. Initiate a subplot instance: `fig, ax = plt.subplots()`\n",
    "2. Assign a seaborn histogram to the ax object. Do this by assiging your `ax` object to the `ax` argument of the function: `sns.histplot(x, ax = ax)`. `x` is your data vector."
   ]
  },
  {
   "cell_type": "code",
   "execution_count": null,
   "metadata": {},
   "outputs": [],
   "source": []
  },
  {
   "cell_type": "markdown",
   "metadata": {},
   "source": [
    "[<ins> Solution: click here </ins>](#solution_seaborn_histogram)"
   ]
  },
  {
   "cell_type": "markdown",
   "metadata": {},
   "source": [
    "Noticed something? \n",
    "- Seaborn works well with pandas! The columnnames are used as labels by default.\n",
    "- The figure doesn't exactly match the previous one. Try setting `bins` to 10 in the cell below. Now you can compare them :)"
   ]
  },
  {
   "cell_type": "code",
   "execution_count": null,
   "metadata": {},
   "outputs": [],
   "source": []
  },
  {
   "cell_type": "markdown",
   "metadata": {},
   "source": [
    "Let's integrate what we have learned! Can you make the plot with following descriptions:\n",
    "- 2 plots above each other\n",
    "- The upper is the distribution of the `whole_brain` column. Instead of a histogram, plot the Kernel Density Estimation (KDE) with `sns.kdeplot()`.\n",
    "- The lower is a scatterplot between `age` (x) and `whole_brain` (y). HINT: use `sns.scatterplot()` or `sns.regplot()` (adds regression line).\n",
    "- All plots should be red\n",
    "- Add x and y labels"
   ]
  },
  {
   "cell_type": "code",
   "execution_count": null,
   "metadata": {},
   "outputs": [],
   "source": []
  },
  {
   "cell_type": "markdown",
   "metadata": {},
   "source": [
    "[<ins> Solution: click here </ins>](#solution_seaborn_subplots)"
   ]
  },
  {
   "cell_type": "markdown",
   "metadata": {},
   "source": [
    "<div id=\"section_2.4\"></div>\n",
    "\n",
    "## 2.4 Manipulating an ax object in a function"
   ]
  },
  {
   "cell_type": "markdown",
   "metadata": {},
   "source": [
    "Say that we have a figure with 3x3 subplots, and we want to plot all possible relations between the following features:\n",
    "- `age`: amount of years from birth\n",
    "- `whole_brain`: Whole brain volume \n",
    "- `Ln`: Performance on the new language being learned\n",
    "\n",
    "It will be quite cumbersome to plot everything manually, so why not write a function? Let's go through the steps:\n",
    "- Create an empty grid with `plt.subplots()`\n",
    "- Write a function `add_regplot` that takes an `ax` object as argument. Within that function, manipulate the `ax` object to your preferences. Return the ax object afterwards.\n",
    "- Write a nested for loop, with both loops looping over the same features stated above. HINT: the `enumerate()` function allows you to keep track of a \"counter\". E.g. `for index, feature in enumerate(['age', 'whole_brain', 'Ln'])` will assign the list elements to the `feature` variable, while `index` takes `0`, `1` and `2` for iteration 1, 2 and 3 respectively.\n",
    "- Extract the column for each feature by `df[feature]`. Pass these, along with the subplot you want to plot it on (remember to index your `ax` object!) to the function and assign it to the same subplot."
   ]
  },
  {
   "cell_type": "code",
   "execution_count": null,
   "metadata": {},
   "outputs": [],
   "source": []
  },
  {
   "cell_type": "markdown",
   "metadata": {},
   "source": [
    "[<ins> Solution: click here </ins>](#solution_ax_with_function)"
   ]
  },
  {
   "cell_type": "markdown",
   "metadata": {},
   "source": [
    "<div id=\"section_2.5\"></div>\n",
    "\n",
    "## 2.5 Visualisation options for data exploration"
   ]
  },
  {
   "cell_type": "markdown",
   "metadata": {},
   "source": [
    "Congratulations! With some adaptations on the former figure, you would get to what is called a **\"pairplot\"**. The diagonal figures are not that useful right? In a pairplot, the diagonal is the distribution of that feature, which maximizes the information inside the plot. \n",
    "\n",
    "Seaborn has one too: `sns.pairplot()`, and it works very well with pandas. Try it yourself! Use the function and give a pandas dataframe as argument. To reduce the size of the pairplot: Only select some columns of the dataframe.\n",
    "- NOTE: There are many adaptations possible to pairplots to adapt it to your preferences (add regression lines, textboxes (bit more advanced though), change the diagonal to KDE plots, ...). For example, try changing some parameters such as `kind` and `scatter_kws`, like suggested in the following [post](https://stackoverflow.com/questions/50722972/change-the-regression-line-colour-of-seaborns-pairplot). Also, the `hue` parameter allows you to change colors based on a categorical/dichotomous variable! Try adding `hue = 'sex'` to the pairplot (CAVE: you then also need to add that column to the column selection of your dataframe)."
   ]
  },
  {
   "cell_type": "code",
   "execution_count": null,
   "metadata": {},
   "outputs": [],
   "source": []
  },
  {
   "cell_type": "markdown",
   "metadata": {},
   "source": [
    "[<ins> Solution: click here </ins>](#solution_pairplot)"
   ]
  },
  {
   "cell_type": "markdown",
   "metadata": {},
   "source": [
    "A pairplot is a nice tool for data exploration. But what if we have a lot of variables? Wouldn't our pairplot become huge? Exactly. That is why you can also use a nice [heatmap](https://seaborn.pydata.org/generated/seaborn.heatmap.html) with `sns.heatmap()`. Again, this works nice with pandas, this time e.g. with the `.corr()` function applied to the dataframe. The latter function will return an n x n square matrix, with 1's on the diagonal (perfectly correlated), and the upper and lower triangle mirrored. Recognize the pairplot in this structure? Bet you did :) \n",
    "\n",
    "Let's make one with the desired variables!"
   ]
  },
  {
   "cell_type": "code",
   "execution_count": null,
   "metadata": {},
   "outputs": [],
   "source": []
  },
  {
   "cell_type": "markdown",
   "metadata": {},
   "source": [
    "[<ins> Solution: click here </ins>](#solution_heatmap)"
   ]
  },
  {
   "cell_type": "markdown",
   "metadata": {},
   "source": [
    "***"
   ]
  },
  {
   "cell_type": "markdown",
   "metadata": {},
   "source": [
    "<img src=\"../inputs/section_header.png\">"
   ]
  },
  {
   "cell_type": "markdown",
   "metadata": {},
   "source": [
    "<div id=\"section_3\"></div>\n",
    "\n",
    "# 3. Let's track a voxel over time!"
   ]
  },
  {
   "cell_type": "markdown",
   "metadata": {},
   "source": [
    "In section 1.3, we visualised a slice of the functional imaging data. Now, let's try to do something more challenging. We will track how the BOLD value inside the voxel in a T2* image changes over the 4th dimension, time. We will also plot the location of the voxel on a slice of choice. Say we want to plot it on a sagittal slice.\n",
    "\n",
    "We want to visualize the voxel with the following spatial characteristics:\n",
    "- Medio-lateral position: 30\n",
    "- Antero-posterior position: 53\n",
    "- Cranio-caudal position: 20\n",
    "\n",
    "We will give you some hints on how to get started:\n",
    "- Use matplotlib `subplots`. Use 2 cols.\n",
    "- On the left figure (remember to use indexing here):\n",
    "    - Plot the slice. First get the slice using indexing. Take timepoint = 0. Use information from earlier in the notebook to do this.\n",
    "    - Use `ax.scatter()` to plot a dot on the correct location of the voxel. For `x` and `y`, you can just use a single number. Take a nice color to contrast the rest of the image.\n",
    "- On the right figure:\n",
    "    - Plot the voxel value over time. Try to index the image object correctly so that a 1D vector remains, containing the BOLD values of the specific voxel over time.\n",
    "    - Plot that vector using `ax.plot()`. "
   ]
  },
  {
   "cell_type": "code",
   "execution_count": null,
   "metadata": {},
   "outputs": [],
   "source": []
  },
  {
   "cell_type": "markdown",
   "metadata": {},
   "source": [
    "[<ins> Solution: click here </ins>](#solution_voxel_over_time)"
   ]
  },
  {
   "cell_type": "markdown",
   "metadata": {},
   "source": [
    "Perhaps it might be nice to see the spatial location of the tracked voxel in 3 different planes of the MRI image. Run the following code block in a next cell to reveal its location: `track_voxel(bold_image, 30, 53, 20, voxel_color='lightgreen')`."
   ]
  },
  {
   "cell_type": "markdown",
   "metadata": {},
   "source": [
    "***"
   ]
  },
  {
   "cell_type": "markdown",
   "metadata": {},
   "source": [
    "<img src=\"../inputs/section_header.png\">"
   ]
  },
  {
   "cell_type": "markdown",
   "metadata": {},
   "source": [
    "<div id=\"section_4\"></div>\n",
    "\n",
    "# 4. Additional plots to consider\n",
    "For a nice gallery of seaborn plots, click [here](https://seaborn.pydata.org/examples/index.html). Although the list is far to big to implement in 1 jupyter notebook, we will list some plots that you could consider. Perhaps you can try some of them out using the `df` of this notebook!\n",
    "- `sns.jointplot()`: A scatterplot that gives you insight about the distributions of both variables? A jointplot is such an extension. The distributions are shown alongside the x and y axes\n",
    "- Raincloud plot: a combination of a density plot (KDE) and a boxplot. A very nice alternative to a simple distribution with a histogram, kde plot or boxplot. This can be used via the \"ptitprince\" package, for which the documentation can be found [here](https://github.com/pog87/PtitPrince)."
   ]
  },
  {
   "cell_type": "code",
   "execution_count": null,
   "metadata": {},
   "outputs": [],
   "source": []
  },
  {
   "cell_type": "markdown",
   "metadata": {},
   "source": [
    "<br />\n",
    "\n",
    "***"
   ]
  },
  {
   "cell_type": "markdown",
   "metadata": {},
   "source": [
    "<div id=\"section_funny_note\"></div>\n",
    "\n",
    "# Funny note:\n",
    "\n",
    "Sometimes Seaborn appears to have opinions on which colormaps you can use :) Check it out [here](https://www.reddit.com/r/Python/comments/8psk37/til_that_seaborn_refuses_to_use_the_jet_color/)."
   ]
  },
  {
   "cell_type": "markdown",
   "metadata": {},
   "source": [
    "<br />\n",
    "\n",
    "***"
   ]
  },
  {
   "cell_type": "markdown",
   "metadata": {},
   "source": [
    "<div id=\"section_ack_ref\"></div>\n",
    "\n",
    "# Acknowledgements and References"
   ]
  },
  {
   "cell_type": "markdown",
   "metadata": {},
   "source": [
    "We express our sincere gratitude to Kshipra Gurunandan, Manuel Carreiras and Pedro M. Paz-Alonso for making this [data](https://openneuro.org/datasets/ds003542) open source, and thus allowing us to make this tutorial. References and contact details can be found below:"
   ]
  },
  {
   "cell_type": "markdown",
   "metadata": {},
   "source": [
    "## References for use of this data"
   ]
  },
  {
   "cell_type": "code",
   "execution_count": 49,
   "metadata": {},
   "outputs": [
    {
     "name": "stdout",
     "output_type": "stream",
     "text": [
      "\n",
      "\n",
      "Publications using this dataset:\n",
      "\n",
      "[1] Gurunandan, K., Carreiras, M., & Paz-Alonso, P.M. (2019). Functional plasticity associated with language learning in adults. NeuroImage, 201. Doi:10.1016/j.neuroimage.2019.116040\n",
      "- Data: comprehension task from this dataset.\n",
      "- Summary: In this work, we examined different dimensions of learning-dependent plasticity of reading and speech comprehension in intermediate and advanced adult language learners, i.e. after the initial effort of adult second language learning, do language networks continue to change with increasing proficiency?\n",
      "\n",
      "[2] Gurunandan, K., Arnaez-Telleria, J., Carreiras, M., & Paz-Alonso, P.M. (2020). Converging evidence for differential specialization and plasticity of language systems. Journal of Neuroscience, 40(50), 9715-9724. Doi:10.1523/JNEUROSCI.0851-20.2020\n",
      "- Data: comprehension and production tasks from this dataset + comprehension and production tasks from a longitudinal dataset (available at [add link]).\n",
      "- Summary: In this work, we put together cross-sectional and longitudinal studies in a comprehensive examination of the flexibility of lateralisation, i.e. is hemispheric lateralisation of language processing fixed in early childhood or can it change with later language learning?\n",
      "\n",
      "\n"
     ]
    }
   ],
   "source": [
    "print(references)\n",
    "# layout.description['ReferencesAndLinks']"
   ]
  },
  {
   "cell_type": "markdown",
   "metadata": {},
   "source": [
    "## Contact information of owners of the datasets"
   ]
  },
  {
   "cell_type": "code",
   "execution_count": 6,
   "metadata": {},
   "outputs": [
    {
     "name": "stdout",
     "output_type": "stream",
     "text": [
      "For any questions to the authors that made this dataset open-access to everyone:\n",
      "\n",
      "\n",
      "If you have any questions, please contact:\n",
      "- Kshipra Gurunandan k.gurunandan@bcbl.eu\n",
      "- Pedro M. Paz-Alonso p.pazalonso@bcbl.eu\n",
      "\n"
     ]
    }
   ],
   "source": [
    "print('For any questions to the authors that made this dataset open-access to everyone:')\n",
    "print(contact)"
   ]
  },
  {
   "cell_type": "markdown",
   "metadata": {},
   "source": [
    "***\n",
    "***"
   ]
  },
  {
   "cell_type": "markdown",
   "metadata": {},
   "source": [
    "<img src=\"../inputs/section_header.png\">"
   ]
  },
  {
   "cell_type": "markdown",
   "metadata": {},
   "source": [
    "# Solutions"
   ]
  },
  {
   "cell_type": "markdown",
   "metadata": {},
   "source": [
    "## Solutions section 1.2"
   ]
  },
  {
   "cell_type": "markdown",
   "metadata": {},
   "source": [
    "<div id=\"solution_dim_anat\"></div>\n",
    "<ins> Solution: </ins>"
   ]
  },
  {
   "cell_type": "code",
   "execution_count": null,
   "metadata": {},
   "outputs": [],
   "source": [
    "t1w_shape = t1w_image.shape\n",
    "print(f\"Shape of the 3D numpy array: {t1w_shape}\")\n",
    "print(f\"- # Medio-lateral voxels: {t1w_shape[0]}\")\n",
    "print(f\"- # Antero-posterior voxels: {t1w_shape[1]}\")\n",
    "print(f\"- # Cranio-caudal voxels: {t1w_shape[2]}\")"
   ]
  },
  {
   "cell_type": "markdown",
   "metadata": {},
   "source": [
    "<div id=\"solution_show_anat_slice\"></div>\n",
    "<ins> Solution: </ins>"
   ]
  },
  {
   "cell_type": "markdown",
   "metadata": {},
   "source": [
    "- All voxels in the Medio-lateral direction must be selected, so `:` in the fist position\n",
    "- All voxels in the Antero-posterior direction must be selected, so `:` in the second position\n",
    "- Only voxel number 150 must be selected in Cranio-caudal direction, so `150` in the second position\n",
    "\n",
    "Hence, we will index the image as follows: `[:,:,150]`"
   ]
  },
  {
   "cell_type": "code",
   "execution_count": 40,
   "metadata": {},
   "outputs": [
    {
     "data": {
      "application/javascript": [
       "\n",
       "            setTimeout(function() {\n",
       "                var nbb_cell_id = 40;\n",
       "                var nbb_unformatted_code = \"t1w_slice = t1w_image[:, :, 150]\";\n",
       "                var nbb_formatted_code = \"t1w_slice = t1w_image[:, :, 150]\";\n",
       "                var nbb_cells = Jupyter.notebook.get_cells();\n",
       "                for (var i = 0; i < nbb_cells.length; ++i) {\n",
       "                    if (nbb_cells[i].input_prompt_number == nbb_cell_id) {\n",
       "                        if (nbb_cells[i].get_text() == nbb_unformatted_code) {\n",
       "                             nbb_cells[i].set_text(nbb_formatted_code);\n",
       "                        }\n",
       "                        break;\n",
       "                    }\n",
       "                }\n",
       "            }, 500);\n",
       "            "
      ],
      "text/plain": [
       "<IPython.core.display.Javascript object>"
      ]
     },
     "metadata": {},
     "output_type": "display_data"
    }
   ],
   "source": [
    "t1w_slice = t1w_image[:, :, 150]"
   ]
  },
  {
   "cell_type": "markdown",
   "metadata": {},
   "source": [
    "## Solutions section 1.3"
   ]
  },
  {
   "cell_type": "markdown",
   "metadata": {},
   "source": [
    "<div id=\"solution_upload_bold_file\"></div>\n",
    "<ins> Solution: </ins>"
   ]
  },
  {
   "cell_type": "code",
   "execution_count": 47,
   "metadata": {},
   "outputs": [
    {
     "data": {
      "application/javascript": [
       "\n",
       "            setTimeout(function() {\n",
       "                var nbb_cell_id = 47;\n",
       "                var nbb_unformatted_code = \"bold_file = nib.load(bold_path)     # Upload the NIfTI file with nibabel\\nbold_image = bold_file.get_fdata()  # Get the 3D numpy array that contains grey values of the voxels\";\n",
       "                var nbb_formatted_code = \"bold_file = nib.load(bold_path)  # Upload the NIfTI file with nibabel\\nbold_image = (\\n    bold_file.get_fdata()\\n)  # Get the 3D numpy array that contains grey values of the voxels\";\n",
       "                var nbb_cells = Jupyter.notebook.get_cells();\n",
       "                for (var i = 0; i < nbb_cells.length; ++i) {\n",
       "                    if (nbb_cells[i].input_prompt_number == nbb_cell_id) {\n",
       "                        if (nbb_cells[i].get_text() == nbb_unformatted_code) {\n",
       "                             nbb_cells[i].set_text(nbb_formatted_code);\n",
       "                        }\n",
       "                        break;\n",
       "                    }\n",
       "                }\n",
       "            }, 500);\n",
       "            "
      ],
      "text/plain": [
       "<IPython.core.display.Javascript object>"
      ]
     },
     "metadata": {},
     "output_type": "display_data"
    }
   ],
   "source": [
    "bold_file = nib.load(bold_path)     # Upload the NIfTI file with nibabel\n",
    "bold_image = bold_file.get_fdata()  # Get the 3D numpy array that contains grey values of the voxels"
   ]
  },
  {
   "cell_type": "markdown",
   "metadata": {},
   "source": [
    "<div id=\"solution_dim_array_func\"></div>\n",
    "<ins> Solution: </ins>"
   ]
  },
  {
   "cell_type": "code",
   "execution_count": 54,
   "metadata": {},
   "outputs": [],
   "source": [
    "bold_shape = bold_image.shape\n",
    "print(f\"Shape of the 3D numpy array: {bold_shape}\")\n",
    "print(f\"- # Medio-lateral voxels: {bold_shape[0]}\")\n",
    "print(f\"- # Antero-posterior voxels: {bold_shape[1]}\")\n",
    "print(f\"- # Cranio-caudal voxels: {bold_shape[2]}\")\n",
    "print(f\"- # Timepoints: {bold_shape[3]}\")"
   ]
  },
  {
   "cell_type": "markdown",
   "metadata": {},
   "source": [
    "<div id=\"solution_show_bold_image\"></div>\n",
    "<ins> Solution: </ins>"
   ]
  },
  {
   "cell_type": "markdown",
   "metadata": {},
   "source": [
    "- All voxels in the Medio-lateral direction must be selected, so `:` in the fist position\n",
    "- All voxels in the Medio-lateral direction must be selected, so `:` in the second position\n",
    "- Only voxel number 150 must be selected in Cranio-caudal direction, so `10` in the second position\n",
    "- We consider the first timepoint, so the last dimension (time) should be indexed as `0`\n",
    "\n",
    "Hence, we will index the image as follows: `[:,:,10,0]`"
   ]
  },
  {
   "cell_type": "code",
   "execution_count": 40,
   "metadata": {},
   "outputs": [],
   "source": [
    "bold_slice = bold_image[:, :, 10, 0]\n",
    "fig, ax = plt.subplots()\n",
    "ax.imshow(bold_slice.T, cmap=\"coolwarm\", origin=\"lower\")"
   ]
  },
  {
   "cell_type": "markdown",
   "metadata": {},
   "source": [
    "<div id=\"solution_show_bold_image_question\"></div>\n",
    "<ins> Solution: </ins>"
   ]
  },
  {
   "cell_type": "markdown",
   "metadata": {},
   "source": [
    "We see that the resolution of the fMRI is far less than the T1w image! This is why we chose axial slice 20 instead of 150 (which was the case for T1w); slice 150 doesn't exist in this fMRI image!"
   ]
  },
  {
   "cell_type": "markdown",
   "metadata": {},
   "source": [
    "## Solutions section 2.2"
   ]
  },
  {
   "cell_type": "markdown",
   "metadata": {},
   "source": [
    "<div id=\"solution_first_plt_plot\"></div>\n",
    "<ins> Solution: </ins>"
   ]
  },
  {
   "cell_type": "code",
   "execution_count": 20,
   "metadata": {},
   "outputs": [],
   "source": [
    "import matplotlib.pyplot as plt\n",
    "\n",
    "fig = plt.Figure()\n",
    "plt.hist(df['age'])\n",
    "plt.xlabel('Age [years]', fontsize = 18)\n",
    "plt.ylabel('Count', fontsize = 18)\n",
    "plt.xticks(fontsize = 14)\n",
    "plt.yticks(fontsize = 14)\n",
    "plt.title('Age distribution', fontsize = 18)\n",
    "plt.show()"
   ]
  },
  {
   "cell_type": "markdown",
   "metadata": {},
   "source": [
    "<div id=\"solution_second_plt_plot\"></div>\n",
    "<ins> Solution: </ins>"
   ]
  },
  {
   "cell_type": "code",
   "execution_count": 19,
   "metadata": {},
   "outputs": [],
   "source": [
    "fig,ax = plt.subplots(nrows = 1, ncols = 2, figsize = (10,4)) # (10,4) chosen since it looks nice\n",
    "# Left figure (indexing 0)\n",
    "ax[0].hist(df['age'][df['sex'] == 'M'], color = 'red')\n",
    "ax[0].set_xlabel('Age [years]')\n",
    "ax[0].set_ylabel('Count')\n",
    "ax[0].set_title('Male')\n",
    "\n",
    "# Right figure (indexing 0)\n",
    "ax[1].hist(df['age'][df['sex'] == 'F'], color = 'green')\n",
    "ax[1].set_xlabel('Age [years]')\n",
    "ax[1].set_ylabel('Count')\n",
    "ax[1].set_title('Female')\n",
    "\n",
    "# Common title:\n",
    "plt.suptitle('Histograms')\n",
    "plt.show()"
   ]
  },
  {
   "cell_type": "markdown",
   "metadata": {},
   "source": [
    "## Solutions section 2.3"
   ]
  },
  {
   "cell_type": "markdown",
   "metadata": {},
   "source": [
    "<div id=\"solution_seaborn_histogram\"></div>\n",
    "<ins> Solution: </ins>"
   ]
  },
  {
   "cell_type": "code",
   "execution_count": 106,
   "metadata": {},
   "outputs": [
    {
     "data": {
      "application/javascript": [
       "\n",
       "            setTimeout(function() {\n",
       "                var nbb_cell_id = 106;\n",
       "                var nbb_unformatted_code = \"# import seaborn as sns\\n# fig, ax = plt.subplots()\\n# sns.histplot(df['age'], ax = ax)\\n# plt.show()\";\n",
       "                var nbb_formatted_code = \"# import seaborn as sns\\n# fig, ax = plt.subplots()\\n# sns.histplot(df['age'], ax = ax)\\n# plt.show()\";\n",
       "                var nbb_cells = Jupyter.notebook.get_cells();\n",
       "                for (var i = 0; i < nbb_cells.length; ++i) {\n",
       "                    if (nbb_cells[i].input_prompt_number == nbb_cell_id) {\n",
       "                        if (nbb_cells[i].get_text() == nbb_unformatted_code) {\n",
       "                             nbb_cells[i].set_text(nbb_formatted_code);\n",
       "                        }\n",
       "                        break;\n",
       "                    }\n",
       "                }\n",
       "            }, 500);\n",
       "            "
      ],
      "text/plain": [
       "<IPython.core.display.Javascript object>"
      ]
     },
     "metadata": {},
     "output_type": "display_data"
    }
   ],
   "source": [
    "import seaborn as sns\n",
    "fig, ax = plt.subplots()\n",
    "sns.histplot(df['age'], ax = ax)\n",
    "plt.show()"
   ]
  },
  {
   "cell_type": "markdown",
   "metadata": {},
   "source": [
    "<div id=\"solution_seaborn_subplots\"></div>\n",
    "<ins> Solution: </ins>"
   ]
  },
  {
   "cell_type": "code",
   "execution_count": 12,
   "metadata": {},
   "outputs": [],
   "source": [
    "fig, ax = plt.subplots(nrows = 2, figsize = (12,8))\n",
    "sns.kdeplot(df['whole_brain'], ax = ax[0], color = 'red')\n",
    "sns.regplot(x = df['age'], y = df['whole_brain'], color = 'red')\n",
    "plt.show()"
   ]
  },
  {
   "cell_type": "markdown",
   "metadata": {},
   "source": [
    "Nice figure eh? Only 4 lines of code!"
   ]
  },
  {
   "cell_type": "markdown",
   "metadata": {},
   "source": [
    "## Solutions section 2.4"
   ]
  },
  {
   "cell_type": "markdown",
   "metadata": {},
   "source": [
    "<div id=\"solution_ax_with_function\"></div>\n",
    "<ins> Solution: </ins>"
   ]
  },
  {
   "cell_type": "code",
   "execution_count": 15,
   "metadata": {},
   "outputs": [
    {
     "data": {
      "application/javascript": [
       "\n",
       "            setTimeout(function() {\n",
       "                var nbb_cell_id = 15;\n",
       "                var nbb_unformatted_code = \"def add_regplot(ax, x, y):\\n    sns.regplot(ax = ax, x = x, y = y)\\n    return ax\";\n",
       "                var nbb_formatted_code = \"def add_regplot(ax, x, y):\\n    sns.regplot(ax=ax, x=x, y=y)\\n    return ax\";\n",
       "                var nbb_cells = Jupyter.notebook.get_cells();\n",
       "                for (var i = 0; i < nbb_cells.length; ++i) {\n",
       "                    if (nbb_cells[i].input_prompt_number == nbb_cell_id) {\n",
       "                        if (nbb_cells[i].get_text() == nbb_unformatted_code) {\n",
       "                             nbb_cells[i].set_text(nbb_formatted_code);\n",
       "                        }\n",
       "                        break;\n",
       "                    }\n",
       "                }\n",
       "            }, 500);\n",
       "            "
      ],
      "text/plain": [
       "<IPython.core.display.Javascript object>"
      ]
     },
     "metadata": {},
     "output_type": "display_data"
    }
   ],
   "source": [
    "def add_regplot(ax, x, y):\n",
    "    sns.regplot(ax=ax, x=x, y=y)\n",
    "    return ax"
   ]
  },
  {
   "cell_type": "code",
   "execution_count": 49,
   "metadata": {},
   "outputs": [
    {
     "data": {
      "application/javascript": [
       "\n",
       "            setTimeout(function() {\n",
       "                var nbb_cell_id = 49;\n",
       "                var nbb_unformatted_code = \"# fig,ax = plt.subplots(nrows=3,ncols=3, figsize = (9,9))\\n# for col_nr, feature_1 in enumerate(['age', 'whole_brain', 'Ln']):\\n#     for row_nr, feature_2 in enumerate(['age', 'whole_brain', 'Ln']):\\n#         ax[row_nr, col_nr] = add_regplot(ax = ax[row_nr, col_nr], x = df[feature_1], y = df[feature_2])\\n# plt.show()\";\n",
       "                var nbb_formatted_code = \"# fig,ax = plt.subplots(nrows=3,ncols=3, figsize = (9,9))\\n# for col_nr, feature_1 in enumerate(['age', 'whole_brain', 'Ln']):\\n#     for row_nr, feature_2 in enumerate(['age', 'whole_brain', 'Ln']):\\n#         ax[row_nr, col_nr] = add_regplot(ax = ax[row_nr, col_nr], x = df[feature_1], y = df[feature_2])\\n# plt.show()\";\n",
       "                var nbb_cells = Jupyter.notebook.get_cells();\n",
       "                for (var i = 0; i < nbb_cells.length; ++i) {\n",
       "                    if (nbb_cells[i].input_prompt_number == nbb_cell_id) {\n",
       "                        if (nbb_cells[i].get_text() == nbb_unformatted_code) {\n",
       "                             nbb_cells[i].set_text(nbb_formatted_code);\n",
       "                        }\n",
       "                        break;\n",
       "                    }\n",
       "                }\n",
       "            }, 500);\n",
       "            "
      ],
      "text/plain": [
       "<IPython.core.display.Javascript object>"
      ]
     },
     "metadata": {},
     "output_type": "display_data"
    }
   ],
   "source": [
    "fig,ax = plt.subplots(nrows=3,ncols=3, figsize = (9,9))\n",
    "for col_nr, feature_1 in enumerate(['age', 'whole_brain', 'Ln']):\n",
    "    for row_nr, feature_2 in enumerate(['age', 'whole_brain', 'Ln']):\n",
    "        ax[row_nr, col_nr] = add_regplot(ax = ax[row_nr, col_nr], x = df[feature_1], y = df[feature_2])\n",
    "plt.show()"
   ]
  },
  {
   "cell_type": "markdown",
   "metadata": {},
   "source": [
    "## Solutions section 2.5"
   ]
  },
  {
   "cell_type": "markdown",
   "metadata": {},
   "source": [
    "<div id=\"solution_pairplot\"></div>\n",
    "<ins> Solution: </ins>"
   ]
  },
  {
   "cell_type": "code",
   "execution_count": 101,
   "metadata": {},
   "outputs": [
    {
     "data": {
      "application/javascript": [
       "\n",
       "            setTimeout(function() {\n",
       "                var nbb_cell_id = 101;\n",
       "                var nbb_unformatted_code = \"# sns.pairplot(df[['age', 'whole_brain', 'Ln', 'sex']], diag_kind = 'kde', hue = 'sex')\";\n",
       "                var nbb_formatted_code = \"# sns.pairplot(df[['age', 'whole_brain', 'Ln', 'sex']], diag_kind = 'kde', hue = 'sex')\";\n",
       "                var nbb_cells = Jupyter.notebook.get_cells();\n",
       "                for (var i = 0; i < nbb_cells.length; ++i) {\n",
       "                    if (nbb_cells[i].input_prompt_number == nbb_cell_id) {\n",
       "                        if (nbb_cells[i].get_text() == nbb_unformatted_code) {\n",
       "                             nbb_cells[i].set_text(nbb_formatted_code);\n",
       "                        }\n",
       "                        break;\n",
       "                    }\n",
       "                }\n",
       "            }, 500);\n",
       "            "
      ],
      "text/plain": [
       "<IPython.core.display.Javascript object>"
      ]
     },
     "metadata": {},
     "output_type": "display_data"
    }
   ],
   "source": [
    "sns.pairplot(df[['age', 'whole_brain', 'Ln', 'sex']], diag_kind = 'kde', hue = 'sex')"
   ]
  },
  {
   "cell_type": "markdown",
   "metadata": {},
   "source": [
    "<div id=\"solution_heatmap\"></div>\n",
    "<ins> Solution: </ins>"
   ]
  },
  {
   "cell_type": "code",
   "execution_count": 100,
   "metadata": {},
   "outputs": [
    {
     "data": {
      "application/javascript": [
       "\n",
       "            setTimeout(function() {\n",
       "                var nbb_cell_id = 100;\n",
       "                var nbb_unformatted_code = \"# sns.heatmap(df.corr(), annot = True, cmap = 'coolwarm')\";\n",
       "                var nbb_formatted_code = \"# sns.heatmap(df.corr(), annot = True, cmap = 'coolwarm')\";\n",
       "                var nbb_cells = Jupyter.notebook.get_cells();\n",
       "                for (var i = 0; i < nbb_cells.length; ++i) {\n",
       "                    if (nbb_cells[i].input_prompt_number == nbb_cell_id) {\n",
       "                        if (nbb_cells[i].get_text() == nbb_unformatted_code) {\n",
       "                             nbb_cells[i].set_text(nbb_formatted_code);\n",
       "                        }\n",
       "                        break;\n",
       "                    }\n",
       "                }\n",
       "            }, 500);\n",
       "            "
      ],
      "text/plain": [
       "<IPython.core.display.Javascript object>"
      ]
     },
     "metadata": {},
     "output_type": "display_data"
    }
   ],
   "source": [
    "sns.heatmap(df.corr(), annot = True, cmap = 'coolwarm')"
   ]
  },
  {
   "cell_type": "markdown",
   "metadata": {},
   "source": [
    "## Solutions section 3"
   ]
  },
  {
   "cell_type": "markdown",
   "metadata": {},
   "source": [
    "<div id=\"solution_voxel_over_time\"></div>\n",
    "<ins> Solution: </ins>"
   ]
  },
  {
   "cell_type": "code",
   "execution_count": 99,
   "metadata": {},
   "outputs": [
    {
     "data": {
      "application/javascript": [
       "\n",
       "            setTimeout(function() {\n",
       "                var nbb_cell_id = 99;\n",
       "                var nbb_unformatted_code = \"# fig, ax = plt.subplots(ncols = 2, figsize = (16,8))\\n\\n# # Get the vector with BOLD values over time.\\n# voxel_BOLD_vector = bold_image[30, 53, 20, :]\\n\\n# # Plot the upper plot: the slice\\n# bold_slice = bold_image[30,:,:,0]\\n# ax[0].imshow(bold_slice.T, cmap=\\\"coolwarm\\\", origin=\\\"lower\\\")\\n# ax[0].scatter(53, 20, color = 'black')\\n\\n# # Plot the bottom plot: the BOLD values\\n# ax[1].plot(voxel_BOLD_vector)\\n\\n# plt.show()\";\n",
       "                var nbb_formatted_code = \"# fig, ax = plt.subplots(ncols = 2, figsize = (16,8))\\n\\n# # Get the vector with BOLD values over time.\\n# voxel_BOLD_vector = bold_image[30, 53, 20, :]\\n\\n# # Plot the upper plot: the slice\\n# bold_slice = bold_image[30,:,:,0]\\n# ax[0].imshow(bold_slice.T, cmap=\\\"coolwarm\\\", origin=\\\"lower\\\")\\n# ax[0].scatter(53, 20, color = 'black')\\n\\n# # Plot the bottom plot: the BOLD values\\n# ax[1].plot(voxel_BOLD_vector)\\n\\n# plt.show()\";\n",
       "                var nbb_cells = Jupyter.notebook.get_cells();\n",
       "                for (var i = 0; i < nbb_cells.length; ++i) {\n",
       "                    if (nbb_cells[i].input_prompt_number == nbb_cell_id) {\n",
       "                        if (nbb_cells[i].get_text() == nbb_unformatted_code) {\n",
       "                             nbb_cells[i].set_text(nbb_formatted_code);\n",
       "                        }\n",
       "                        break;\n",
       "                    }\n",
       "                }\n",
       "            }, 500);\n",
       "            "
      ],
      "text/plain": [
       "<IPython.core.display.Javascript object>"
      ]
     },
     "metadata": {},
     "output_type": "display_data"
    }
   ],
   "source": [
    "fig, ax = plt.subplots(ncols = 2, figsize = (16,8))\n",
    "\n",
    "# Get the vector with BOLD values over time.\n",
    "voxel_BOLD_vector = bold_image[30, 53, 20, :]\n",
    "\n",
    "# Plot the upper plot: the slice\n",
    "bold_slice = bold_image[30,:,:,0]\n",
    "ax[0].imshow(bold_slice.T, cmap=\"coolwarm\", origin=\"lower\")\n",
    "ax[0].scatter(53, 20, color = 'black')\n",
    "\n",
    "# Plot the bottom plot: the BOLD values\n",
    "ax[1].plot(voxel_BOLD_vector)\n",
    "\n",
    "plt.show()"
   ]
  }
 ],
 "metadata": {
  "kernelspec": {
   "display_name": "tutorial_venv",
   "language": "python",
   "name": "tutorial_venv"
  },
  "language_info": {
   "codemirror_mode": {
    "name": "ipython",
    "version": 3
   },
   "file_extension": ".py",
   "mimetype": "text/x-python",
   "name": "python",
   "nbconvert_exporter": "python",
   "pygments_lexer": "ipython3",
   "version": "3.7.2"
  }
 },
 "nbformat": 4,
 "nbformat_minor": 4
}
