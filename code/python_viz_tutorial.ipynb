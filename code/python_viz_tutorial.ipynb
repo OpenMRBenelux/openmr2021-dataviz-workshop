{
 "cells": [
  {
   "cell_type": "markdown",
   "metadata": {},
   "source": [
    "<img src=\"https://raw.githubusercontent.com/OpenMRBenelux/openmrbenelux.github.io/afba2aa7c94cd7ad0f2757aca0efc18d8ee3154d/assets/ext_images/logo/openmr_benelux_2021_logo_regopen.svg\">"
   ]
  },
  {
   "cell_type": "markdown",
   "metadata": {},
   "source": [
    "# Python Visualisation Tutorial"
   ]
  },
  {
   "cell_type": "markdown",
   "metadata": {},
   "source": [
    "Hello there, and welcome to our visualisation workshop!\n",
    "\n",
    "This tutorial is entirely dedicated to offer useful tools to get started with visualisations in Python, with examples on neuro-imaging data. \n",
    "\n",
    "The data that we will explore today is part of an [open source repository](https://openneuro.org/datasets/ds003542) on adult language learners. We express our sincere gratitude to Kshipra Gurunandan, Manuel Carreiras and Pedro M. Paz-Alonso for making this data open source. Below, we will first print the README file that contains the explanation about the objective of this study."
   ]
  },
  {
   "cell_type": "code",
   "execution_count": 28,
   "metadata": {},
   "outputs": [
    {
     "name": "stdout",
     "output_type": "stream",
     "text": [
      "The nb_black extension is already loaded. To reload it, use:\n",
      "  %reload_ext nb_black\n"
     ]
    },
    {
     "data": {
      "application/javascript": [
       "\n",
       "            setTimeout(function() {\n",
       "                var nbb_cell_id = 28;\n",
       "                var nbb_unformatted_code = \"%load_ext nb_black\";\n",
       "                var nbb_formatted_code = \"%load_ext nb_black\";\n",
       "                var nbb_cells = Jupyter.notebook.get_cells();\n",
       "                for (var i = 0; i < nbb_cells.length; ++i) {\n",
       "                    if (nbb_cells[i].input_prompt_number == nbb_cell_id) {\n",
       "                        if (nbb_cells[i].get_text() == nbb_unformatted_code) {\n",
       "                             nbb_cells[i].set_text(nbb_formatted_code);\n",
       "                        }\n",
       "                        break;\n",
       "                    }\n",
       "                }\n",
       "            }, 500);\n",
       "            "
      ],
      "text/plain": [
       "<IPython.core.display.Javascript object>"
      ]
     },
     "metadata": {},
     "output_type": "display_data"
    }
   ],
   "source": [
    "%load_ext nb_black"
   ]
  },
  {
   "cell_type": "code",
   "execution_count": 29,
   "metadata": {},
   "outputs": [
    {
     "data": {
      "application/javascript": [
       "\n",
       "            setTimeout(function() {\n",
       "                var nbb_cell_id = 29;\n",
       "                var nbb_unformatted_code = \"import os\\n\\ndata_folder = \\\"../inputs/ds003542\\\"\\n\\n# Description of the project\\nwith open(os.path.join(data_folder, \\\"README\\\")) as txt_file:\\n    README_sections = txt_file.read().split(f'{\\\"-\\\"*34}')\\n    project_description = README_sections[0]\\n    references = README_sections[1]\\n    contact = README_sections[3]\";\n",
       "                var nbb_formatted_code = \"import os\\n\\ndata_folder = \\\"../inputs/ds003542\\\"\\n\\n# Description of the project\\nwith open(os.path.join(data_folder, \\\"README\\\")) as txt_file:\\n    README_sections = txt_file.read().split(f'{\\\"-\\\"*34}')\\n    project_description = README_sections[0]\\n    references = README_sections[1]\\n    contact = README_sections[3]\";\n",
       "                var nbb_cells = Jupyter.notebook.get_cells();\n",
       "                for (var i = 0; i < nbb_cells.length; ++i) {\n",
       "                    if (nbb_cells[i].input_prompt_number == nbb_cell_id) {\n",
       "                        if (nbb_cells[i].get_text() == nbb_unformatted_code) {\n",
       "                             nbb_cells[i].set_text(nbb_formatted_code);\n",
       "                        }\n",
       "                        break;\n",
       "                    }\n",
       "                }\n",
       "            }, 500);\n",
       "            "
      ],
      "text/plain": [
       "<IPython.core.display.Javascript object>"
      ]
     },
     "metadata": {},
     "output_type": "display_data"
    }
   ],
   "source": [
    "import os\n",
    "\n",
    "data_folder = \"../inputs/ds003542\"\n",
    "\n",
    "# Description of the project\n",
    "with open(os.path.join(data_folder, \"README\")) as txt_file:\n",
    "    README_sections = txt_file.read().split(f'{\"-\"*34}')\n",
    "    project_description = README_sections[0]\n",
    "    references = README_sections[1]\n",
    "    contact = README_sections[3]"
   ]
  },
  {
   "cell_type": "code",
   "execution_count": 30,
   "metadata": {},
   "outputs": [
    {
     "name": "stdout",
     "output_type": "stream",
     "text": [
      "Study design:\n",
      "\n",
      "34 adult language learners aged 20-70 were recruited from a language school. Subjects were at either intermediate or advanced levels of learning the same second language. Subjects performed semantic comprehension (reading and speech) and verbal production tasks in the MRI scanner in their native and new languages.\n",
      "\n",
      "\n"
     ]
    },
    {
     "data": {
      "application/javascript": [
       "\n",
       "            setTimeout(function() {\n",
       "                var nbb_cell_id = 30;\n",
       "                var nbb_unformatted_code = \"print(project_description)\";\n",
       "                var nbb_formatted_code = \"print(project_description)\";\n",
       "                var nbb_cells = Jupyter.notebook.get_cells();\n",
       "                for (var i = 0; i < nbb_cells.length; ++i) {\n",
       "                    if (nbb_cells[i].input_prompt_number == nbb_cell_id) {\n",
       "                        if (nbb_cells[i].get_text() == nbb_unformatted_code) {\n",
       "                             nbb_cells[i].set_text(nbb_formatted_code);\n",
       "                        }\n",
       "                        break;\n",
       "                    }\n",
       "                }\n",
       "            }, 500);\n",
       "            "
      ],
      "text/plain": [
       "<IPython.core.display.Javascript object>"
      ]
     },
     "metadata": {},
     "output_type": "display_data"
    }
   ],
   "source": [
    "print(project_description)"
   ]
  },
  {
   "cell_type": "markdown",
   "metadata": {},
   "source": [
    "***"
   ]
  },
  {
   "cell_type": "markdown",
   "metadata": {},
   "source": [
    "## Wait, what ...? A Jupyter notebook?"
   ]
  },
  {
   "cell_type": "markdown",
   "metadata": {},
   "source": [
    "Never worked with jupyter notebooks before? Don't worry! We'll guide you through it step by step.\n",
    "\n",
    "A **jupyter notebook** \n",
    "- is a convenient way to combine code with neat documentation, allowing others to easily follow a project that uses code\n",
    "- works with so-called \"blocks\", which can either be a \"code block\" or a \"markdown block\"\n",
    "    - *Markdown block*: You are reading one right now! It is a block that understands the markdown language, an easy language to create text, similar to HTML and LaTeX.\n",
    "    - *Code block*: A code block in a jupyter notebook understands the Python language by default. If applicable, output is printed below the code block, such as images and text. You can also change the kernel of code blocks; in this way you can use other programming languages in the code blocks! Read more about this [here](https://jupyter4edu.github.io/jupyter-edu-book/jupyter.html).\n",
    "- Allows to \"hide\" blocks, which will be visible with 3 dots (...). Solutions are hidden this way, but first try to find the solution yourself in the empty block above!\n",
    "- has some nice shortcuts:\n",
    "\n",
    "|Operation|Shortcut|\n",
    "|---|---|\n",
    "|Run a cell|shift-enter|\n",
    "|Add cell above | \"a\" (first click left of the cell)|\n",
    "|Add cell below | \"b\" (first click left of the cell)|\n",
    "|Copy cell: | \"c\" (first click left of the cell)|\n",
    "|Cut cell: | \"x\" (first click left of the cell)|\n",
    "|Paste cell | \"v\" (first click left of the cell)|\n",
    "|Delete cell | \"dd\" (first click left of the cell)|\n",
    "\n",
    "Last note: If you want to install additional python packages, you can call upon the terminal with an exclamation mark (!) before a command. So, installing a new package will be the following structure inside a code cell: `!pip install my-package`"
   ]
  },
  {
   "cell_type": "markdown",
   "metadata": {},
   "source": [
    "***"
   ]
  },
  {
   "cell_type": "markdown",
   "metadata": {},
   "source": [
    "## Let's get started!\n",
    "### Table of contents\n",
    "0. Preparations\n",
    "1. Visualising neuro-imaging data\n",
    "    - What is a nifti (.nii)?\n",
    "    - Anatomical MRI - T1w\n",
    "    - Functional MRI (fMRI)\n",
    "2. Visualisation on a dataframe\n",
    "3. Use a function to manipulate your figure"
   ]
  },
  {
   "cell_type": "markdown",
   "metadata": {},
   "source": [
    "***"
   ]
  },
  {
   "cell_type": "markdown",
   "metadata": {},
   "source": [
    "# 0. Preparations"
   ]
  },
  {
   "cell_type": "markdown",
   "metadata": {},
   "source": [
    "Set matplotlib inline to view images below the cell in this notebook"
   ]
  },
  {
   "cell_type": "code",
   "execution_count": 31,
   "metadata": {},
   "outputs": [
    {
     "data": {
      "application/javascript": [
       "\n",
       "            setTimeout(function() {\n",
       "                var nbb_cell_id = 31;\n",
       "                var nbb_unformatted_code = \"%matplotlib inline\";\n",
       "                var nbb_formatted_code = \"%matplotlib inline\";\n",
       "                var nbb_cells = Jupyter.notebook.get_cells();\n",
       "                for (var i = 0; i < nbb_cells.length; ++i) {\n",
       "                    if (nbb_cells[i].input_prompt_number == nbb_cell_id) {\n",
       "                        if (nbb_cells[i].get_text() == nbb_unformatted_code) {\n",
       "                             nbb_cells[i].set_text(nbb_formatted_code);\n",
       "                        }\n",
       "                        break;\n",
       "                    }\n",
       "                }\n",
       "            }, 500);\n",
       "            "
      ],
      "text/plain": [
       "<IPython.core.display.Javascript object>"
      ]
     },
     "metadata": {},
     "output_type": "display_data"
    }
   ],
   "source": [
    "%matplotlib inline"
   ]
  },
  {
   "cell_type": "markdown",
   "metadata": {},
   "source": [
    "Import packages necessary for the tutorial"
   ]
  },
  {
   "cell_type": "code",
   "execution_count": 32,
   "metadata": {
    "scrolled": true
   },
   "outputs": [
    {
     "data": {
      "application/javascript": [
       "\n",
       "            setTimeout(function() {\n",
       "                var nbb_cell_id = 32;\n",
       "                var nbb_unformatted_code = \"# Data handling\\nimport pandas as pd\\nimport numpy as np\\n\\n# Data description\\nimport json\\n\\n# Visualization\\nimport matplotlib.pyplot as plt\\nimport seaborn as sns\\n\\n# Neuro-imaging packages\\nimport nibabel as nib\\nimport nilearn as nil\\n\\n# Self-made functions\\nfrom python.functions import show_anatomical_slice, show_functional_slice, track_voxel\";\n",
       "                var nbb_formatted_code = \"# Data handling\\nimport pandas as pd\\nimport numpy as np\\n\\n# Data description\\nimport json\\n\\n# Visualization\\nimport matplotlib.pyplot as plt\\nimport seaborn as sns\\n\\n# Neuro-imaging packages\\nimport nibabel as nib\\nimport nilearn as nil\\n\\n# Self-made functions\\nfrom python.functions import show_anatomical_slice, show_functional_slice, track_voxel\";\n",
       "                var nbb_cells = Jupyter.notebook.get_cells();\n",
       "                for (var i = 0; i < nbb_cells.length; ++i) {\n",
       "                    if (nbb_cells[i].input_prompt_number == nbb_cell_id) {\n",
       "                        if (nbb_cells[i].get_text() == nbb_unformatted_code) {\n",
       "                             nbb_cells[i].set_text(nbb_formatted_code);\n",
       "                        }\n",
       "                        break;\n",
       "                    }\n",
       "                }\n",
       "            }, 500);\n",
       "            "
      ],
      "text/plain": [
       "<IPython.core.display.Javascript object>"
      ]
     },
     "metadata": {},
     "output_type": "display_data"
    }
   ],
   "source": [
    "# Data handling\n",
    "import pandas as pd\n",
    "import numpy as np\n",
    "\n",
    "# Data description\n",
    "import json\n",
    "\n",
    "# Visualization\n",
    "import matplotlib.pyplot as plt\n",
    "import seaborn as sns\n",
    "\n",
    "# Neuro-imaging packages\n",
    "import nibabel as nib\n",
    "import nilearn as nil\n",
    "\n",
    "# Self-made functions\n",
    "from python.functions import show_anatomical_slice, show_functional_slice, track_voxel"
   ]
  },
  {
   "cell_type": "markdown",
   "metadata": {},
   "source": [
    "***"
   ]
  },
  {
   "cell_type": "markdown",
   "metadata": {},
   "source": [
    "# 1. Visualising neuro-imaging data"
   ]
  },
  {
   "cell_type": "markdown",
   "metadata": {},
   "source": [
    "The data was downloaded from OpenNeuro, [project ds003542](https://openneuro.org/datasets/ds003542/versions/1.0.0), which originates from a study on language learners. We only extracted data from subject 1. Hence, the data is present in the \"ds00352-download\" folder, subdirectory \"sub-01\":\n",
    "- Anatomical MRI: \"anat\" subfolder\n",
    "- Functional MRI: \"func\" subfolder\n",
    "\n",
    "Let's define the paths:"
   ]
  },
  {
   "cell_type": "code",
   "execution_count": 40,
   "metadata": {},
   "outputs": [
    {
     "data": {
      "application/javascript": [
       "\n",
       "            setTimeout(function() {\n",
       "                var nbb_cell_id = 40;\n",
       "                var nbb_unformatted_code = \"t1w_path = os.path.join(data_folder, \\\"sub-01/anat/sub-01_T1w.nii.gz\\\")\\nbold_path = os.path.join(data_folder, \\\"sub-01/func/sub-01_task-compL1_run-1_bold.nii.gz\\\")\";\n",
       "                var nbb_formatted_code = \"t1w_path = os.path.join(data_folder, \\\"sub-01/anat/sub-01_T1w.nii.gz\\\")\\nbold_path = os.path.join(\\n    data_folder, \\\"sub-01/func/sub-01_task-compL1_run-1_bold.nii.gz\\\"\\n)\";\n",
       "                var nbb_cells = Jupyter.notebook.get_cells();\n",
       "                for (var i = 0; i < nbb_cells.length; ++i) {\n",
       "                    if (nbb_cells[i].input_prompt_number == nbb_cell_id) {\n",
       "                        if (nbb_cells[i].get_text() == nbb_unformatted_code) {\n",
       "                             nbb_cells[i].set_text(nbb_formatted_code);\n",
       "                        }\n",
       "                        break;\n",
       "                    }\n",
       "                }\n",
       "            }, 500);\n",
       "            "
      ],
      "text/plain": [
       "<IPython.core.display.Javascript object>"
      ]
     },
     "metadata": {},
     "output_type": "display_data"
    }
   ],
   "source": [
    "t1w_path = os.path.join(data_folder, \"sub-01/anat/sub-01_T1w.nii.gz\")\n",
    "bold_path = os.path.join(\n",
    "    data_folder, \"sub-01/func/sub-01_task-compL1_run-1_bold.nii.gz\"\n",
    ")"
   ]
  },
  {
   "cell_type": "markdown",
   "metadata": {},
   "source": [
    "## 1.1 What is a nifti (.nii)?"
   ]
  },
  {
   "cell_type": "markdown",
   "metadata": {},
   "source": [
    "For a thorough explanation on the origin and objective of nifti, we refer to [this webpage](https://nifti.nimh.nih.gov/). In short however, the nifti file format has been proposed to "
   ]
  },
  {
   "cell_type": "markdown",
   "metadata": {},
   "source": [
    "## 1.2 Anatomical MRI - T1w"
   ]
  },
  {
   "cell_type": "markdown",
   "metadata": {},
   "source": [
    "Click [here](https://nipy.org/nibabel/coordinate_systems.html) for the source article in nibabel.\\\n",
    "Note that this anatomical T1w nifti is a 3D image, with each dimension being a spatial dimension (x, y and z), corresponding to a body axis (medio-lateral, antero-posterior and cranio-caudal)."
   ]
  },
  {
   "cell_type": "markdown",
   "metadata": {},
   "source": [
    "### 1.2.1 Let's first search for the nifti file in our directory! "
   ]
  },
  {
   "cell_type": "code",
   "execution_count": 34,
   "metadata": {},
   "outputs": [
    {
     "data": {
      "application/javascript": [
       "\n",
       "            setTimeout(function() {\n",
       "                var nbb_cell_id = 34;\n",
       "                var nbb_unformatted_code = \"t1w_file = nib.load(t1w_path)  # Upload the nifti file with nibabel\\nt1w_image = (\\n    t1w_file.get_fdata()\\n)  # Get the 3D numpy array that contains grey values of the voxels\";\n",
       "                var nbb_formatted_code = \"t1w_file = nib.load(t1w_path)  # Upload the nifti file with nibabel\\nt1w_image = (\\n    t1w_file.get_fdata()\\n)  # Get the 3D numpy array that contains grey values of the voxels\";\n",
       "                var nbb_cells = Jupyter.notebook.get_cells();\n",
       "                for (var i = 0; i < nbb_cells.length; ++i) {\n",
       "                    if (nbb_cells[i].input_prompt_number == nbb_cell_id) {\n",
       "                        if (nbb_cells[i].get_text() == nbb_unformatted_code) {\n",
       "                             nbb_cells[i].set_text(nbb_formatted_code);\n",
       "                        }\n",
       "                        break;\n",
       "                    }\n",
       "                }\n",
       "            }, 500);\n",
       "            "
      ],
      "text/plain": [
       "<IPython.core.display.Javascript object>"
      ]
     },
     "metadata": {},
     "output_type": "display_data"
    }
   ],
   "source": [
    "t1w_file = nib.load(t1w_path)  # Upload the nifti file with nibabel\n",
    "t1w_image = (\n",
    "    t1w_file.get_fdata()\n",
    ")  # Get the 3D numpy array that contains grey values of the voxels"
   ]
  },
  {
   "cell_type": "markdown",
   "metadata": {},
   "source": [
    "### 1.2.2 What are the dimensions of the numpy array?"
   ]
  },
  {
   "cell_type": "code",
   "execution_count": 35,
   "metadata": {},
   "outputs": [
    {
     "name": "stdout",
     "output_type": "stream",
     "text": [
      "Shape of the 3D numpy array: Ellipsis\n",
      "- # Medio-lateral voxels: Ellipsis\n",
      "- # Antero-posterior voxels: Ellipsis\n",
      "- # Cranio-caudal voxels: Ellipsis\n"
     ]
    },
    {
     "data": {
      "application/javascript": [
       "\n",
       "            setTimeout(function() {\n",
       "                var nbb_cell_id = 35;\n",
       "                var nbb_unformatted_code = \"t1w_shape = ...\\nprint(f\\\"Shape of the 3D numpy array: {...}\\\")\\nprint(f\\\"- # Medio-lateral voxels: {...}\\\")\\nprint(f\\\"- # Antero-posterior voxels: {...}\\\")\\nprint(f\\\"- # Cranio-caudal voxels: {...}\\\")\";\n",
       "                var nbb_formatted_code = \"t1w_shape = ...\\nprint(f\\\"Shape of the 3D numpy array: {...}\\\")\\nprint(f\\\"- # Medio-lateral voxels: {...}\\\")\\nprint(f\\\"- # Antero-posterior voxels: {...}\\\")\\nprint(f\\\"- # Cranio-caudal voxels: {...}\\\")\";\n",
       "                var nbb_cells = Jupyter.notebook.get_cells();\n",
       "                for (var i = 0; i < nbb_cells.length; ++i) {\n",
       "                    if (nbb_cells[i].input_prompt_number == nbb_cell_id) {\n",
       "                        if (nbb_cells[i].get_text() == nbb_unformatted_code) {\n",
       "                             nbb_cells[i].set_text(nbb_formatted_code);\n",
       "                        }\n",
       "                        break;\n",
       "                    }\n",
       "                }\n",
       "            }, 500);\n",
       "            "
      ],
      "text/plain": [
       "<IPython.core.display.Javascript object>"
      ]
     },
     "metadata": {},
     "output_type": "display_data"
    }
   ],
   "source": [
    "t1w_shape = ...\n",
    "print(f\"Shape of the 3D numpy array: {...}\")\n",
    "print(f\"- # Medio-lateral voxels: {...}\")\n",
    "print(f\"- # Antero-posterior voxels: {...}\")\n",
    "print(f\"- # Cranio-caudal voxels: {...}\")"
   ]
  },
  {
   "cell_type": "markdown",
   "metadata": {},
   "source": [
    "Solution:"
   ]
  },
  {
   "cell_type": "code",
   "execution_count": 36,
   "metadata": {
    "jupyter": {
     "source_hidden": true
    }
   },
   "outputs": [
    {
     "name": "stdout",
     "output_type": "stream",
     "text": [
      "Shape of the 3D numpy array: (176, 256, 256)\n",
      "- # Medio-lateral voxels: 176\n",
      "- # Antero-posterior voxels: 256\n",
      "- # Cranio-caudal voxels: 256\n"
     ]
    },
    {
     "data": {
      "application/javascript": [
       "\n",
       "            setTimeout(function() {\n",
       "                var nbb_cell_id = 36;\n",
       "                var nbb_unformatted_code = \"t1w_shape = t1w_image.shape\\nprint(f\\\"Shape of the 3D numpy array: {t1_shape}\\\")\\nprint(f\\\"- # Medio-lateral voxels: {t1_shape[0]}\\\")\\nprint(f\\\"- # Antero-posterior voxels: {t1_shape[1]}\\\")\\nprint(f\\\"- # Cranio-caudal voxels: {t1_shape[2]}\\\")\";\n",
       "                var nbb_formatted_code = \"t1w_shape = t1w_image.shape\\nprint(f\\\"Shape of the 3D numpy array: {t1_shape}\\\")\\nprint(f\\\"- # Medio-lateral voxels: {t1_shape[0]}\\\")\\nprint(f\\\"- # Antero-posterior voxels: {t1_shape[1]}\\\")\\nprint(f\\\"- # Cranio-caudal voxels: {t1_shape[2]}\\\")\";\n",
       "                var nbb_cells = Jupyter.notebook.get_cells();\n",
       "                for (var i = 0; i < nbb_cells.length; ++i) {\n",
       "                    if (nbb_cells[i].input_prompt_number == nbb_cell_id) {\n",
       "                        if (nbb_cells[i].get_text() == nbb_unformatted_code) {\n",
       "                             nbb_cells[i].set_text(nbb_formatted_code);\n",
       "                        }\n",
       "                        break;\n",
       "                    }\n",
       "                }\n",
       "            }, 500);\n",
       "            "
      ],
      "text/plain": [
       "<IPython.core.display.Javascript object>"
      ]
     },
     "metadata": {},
     "output_type": "display_data"
    }
   ],
   "source": [
    "t1w_shape = t1w_image.shape\n",
    "print(f\"Shape of the 3D numpy array: {t1_shape}\")\n",
    "print(f\"- # Medio-lateral voxels: {t1_shape[0]}\")\n",
    "print(f\"- # Antero-posterior voxels: {t1_shape[1]}\")\n",
    "print(f\"- # Cranio-caudal voxels: {t1_shape[2]}\")"
   ]
  },
  {
   "cell_type": "markdown",
   "metadata": {},
   "source": [
    "### 1.2.3 Let's show a single slice of the 3D numpy array.\n",
    "To do this, we can index the object, for which step 2 will help us!\\\n",
    "We want to extract axial slice 150. \n",
    "\n",
    "Hint: indexing of the `t1w_image` object will be as follows: `t1w_image[ML_direction, AP_direction, CC_direction]`, with each element consisting of either a single value, or a range (e.g. `5:9`). To select everyting along an axis, just pass `:`. ML = Medio-lateral, AP = Antero-posterior, CC = Cranio-caudal."
   ]
  },
  {
   "cell_type": "code",
   "execution_count": 37,
   "metadata": {},
   "outputs": [
    {
     "data": {
      "text/plain": [
       "<matplotlib.image.AxesImage at 0x7f55362f27f0>"
      ]
     },
     "execution_count": 37,
     "metadata": {},
     "output_type": "execute_result"
    },
    {
     "data": {
      "image/png": "[encoded data removed]",
      "text/plain": [
       "<Figure size 432x288 with 1 Axes>"
      ]
     },
     "metadata": {
      "needs_background": "light"
     },
     "output_type": "display_data"
    },
    {
     "data": {
      "application/javascript": [
       "\n",
       "            setTimeout(function() {\n",
       "                var nbb_cell_id = 37;\n",
       "                var nbb_unformatted_code = \"t1w_slice = t1w_image[:, :, 150]\\nfig, ax = plt.subplots()\\nax.imshow(t1w_slice.T, cmap=\\\"gray\\\", origin=\\\"lower\\\")\";\n",
       "                var nbb_formatted_code = \"t1w_slice = t1w_image[:, :, 150]\\nfig, ax = plt.subplots()\\nax.imshow(t1w_slice.T, cmap=\\\"gray\\\", origin=\\\"lower\\\")\";\n",
       "                var nbb_cells = Jupyter.notebook.get_cells();\n",
       "                for (var i = 0; i < nbb_cells.length; ++i) {\n",
       "                    if (nbb_cells[i].input_prompt_number == nbb_cell_id) {\n",
       "                        if (nbb_cells[i].get_text() == nbb_unformatted_code) {\n",
       "                             nbb_cells[i].set_text(nbb_formatted_code);\n",
       "                        }\n",
       "                        break;\n",
       "                    }\n",
       "                }\n",
       "            }, 500);\n",
       "            "
      ],
      "text/plain": [
       "<IPython.core.display.Javascript object>"
      ]
     },
     "metadata": {},
     "output_type": "display_data"
    }
   ],
   "source": [
    "t1w_slice = t1w_image[:, :, 150]\n",
    "fig, ax = plt.subplots()\n",
    "ax.imshow(t1w_slice.T, cmap=\"gray\", origin=\"lower\")"
   ]
  },
  {
   "cell_type": "markdown",
   "metadata": {},
   "source": [
    "Solution:"
   ]
  },
  {
   "cell_type": "markdown",
   "metadata": {
    "jupyter": {
     "source_hidden": true
    }
   },
   "source": [
    "- All voxels in the Medio-lateral direction must be selected, so `:` in the fist position\n",
    "- All voxels in the Antero-posterior direction must be selected, so `:` in the second position\n",
    "- Only voxel number 150 must be selected in Cranio-caudal direction, so `150` in the second position\n",
    "\n",
    "Hence, we will index the image as follows: `[:,:,150]`"
   ]
  },
  {
   "cell_type": "markdown",
   "metadata": {},
   "source": [
    "We have also created a function (`show_anatomical_slice`) for you to easily investigate your T1w image. You can consult the source code in the `functions.py` file. \n",
    "\n",
    "To use it, just run `show_anatomical_slice(image = t1w_image, orientation = 'axial', slice_nr = 150)` in the next cell. Play around with the `orientation` and `slice_nr` parameters at will!"
   ]
  },
  {
   "cell_type": "markdown",
   "metadata": {},
   "source": [
    "**REMARK: Defacing**\\\n",
    "Run the following code block in a new cell: `show_anatomical_slice(t1_image, 'sagittal', 100)`.\\\n",
    "In this slice, you can nicely see that this nifti image has been \"defaced\", to ensure anonimity. This essentially means that, inside the 3D numpy array, all values that relate to the face were set to 0 (black)!"
   ]
  },
  {
   "cell_type": "markdown",
   "metadata": {},
   "source": [
    "## 1.3 Functional MRI (fMRI)"
   ]
  },
  {
   "cell_type": "markdown",
   "metadata": {},
   "source": [
    "First things first: a functional MRI image has a fourth dimension, time!\\\n",
    "Hence, a nifti file is a 4D numpy array, with the first 3 dimensions being spatial (x: medio-lateral, y: antero-posterior and z: craniocaudal), and the 4th being time!"
   ]
  },
  {
   "cell_type": "markdown",
   "metadata": {},
   "source": [
    "EXTRA: For the most fancy experience, you can replace the `color_map` parameter inside the `show_functional_slice` and `track_voxel` functions with one of the options listed in [this link](https://matplotlib.org/stable/tutorials/colors/colormaps.html). This will change the colors of your image, check it out! :) "
   ]
  },
  {
   "cell_type": "markdown",
   "metadata": {},
   "source": [
    "### 1.3.1 Let's first search for the nifti file in our directory! "
   ]
  },
  {
   "cell_type": "code",
   "execution_count": 41,
   "metadata": {},
   "outputs": [
    {
     "data": {
      "application/javascript": [
       "\n",
       "            setTimeout(function() {\n",
       "                var nbb_cell_id = 41;\n",
       "                var nbb_unformatted_code = \"bold_file = nib.load(bold_path)  # Upload the nifti file with nibabel\\nbold_image = (\\n    bold_file.get_fdata()\\n)  # Get the 3D numpy array that contains grey values of the voxels\";\n",
       "                var nbb_formatted_code = \"bold_file = nib.load(bold_path)  # Upload the nifti file with nibabel\\nbold_image = (\\n    bold_file.get_fdata()\\n)  # Get the 3D numpy array that contains grey values of the voxels\";\n",
       "                var nbb_cells = Jupyter.notebook.get_cells();\n",
       "                for (var i = 0; i < nbb_cells.length; ++i) {\n",
       "                    if (nbb_cells[i].input_prompt_number == nbb_cell_id) {\n",
       "                        if (nbb_cells[i].get_text() == nbb_unformatted_code) {\n",
       "                             nbb_cells[i].set_text(nbb_formatted_code);\n",
       "                        }\n",
       "                        break;\n",
       "                    }\n",
       "                }\n",
       "            }, 500);\n",
       "            "
      ],
      "text/plain": [
       "<IPython.core.display.Javascript object>"
      ]
     },
     "metadata": {},
     "output_type": "display_data"
    }
   ],
   "source": [
    "bold_file = nib.load(bold_path)  # Upload the nifti file with nibabel\n",
    "bold_image = (\n",
    "    bold_file.get_fdata()\n",
    ")  # Get the 3D numpy array that contains grey values of the voxels"
   ]
  },
  {
   "cell_type": "markdown",
   "metadata": {},
   "source": [
    "### 1.3.2 What are the dimensions of the numpy array?"
   ]
  },
  {
   "cell_type": "code",
   "execution_count": 42,
   "metadata": {},
   "outputs": [
    {
     "name": "stdout",
     "output_type": "stream",
     "text": [
      "Shape of the 3D numpy array: Ellipsis\n",
      "- # Medio-lateral voxels: Ellipsis\n",
      "- # Antero-posterior voxels: Ellipsis\n",
      "- # Cranio-caudal voxels: Ellipsis\n",
      "- # Timepoints: Ellipsis\n"
     ]
    },
    {
     "data": {
      "application/javascript": [
       "\n",
       "            setTimeout(function() {\n",
       "                var nbb_cell_id = 42;\n",
       "                var nbb_unformatted_code = \"bold_shape = ...\\nprint(f\\\"Shape of the 3D numpy array: {...}\\\")\\nprint(f\\\"- # Medio-lateral voxels: {...}\\\")\\nprint(f\\\"- # Antero-posterior voxels: {...}\\\")\\nprint(f\\\"- # Cranio-caudal voxels: {...}\\\")\\nprint(f\\\"- # Timepoints: {...}\\\")\";\n",
       "                var nbb_formatted_code = \"bold_shape = ...\\nprint(f\\\"Shape of the 3D numpy array: {...}\\\")\\nprint(f\\\"- # Medio-lateral voxels: {...}\\\")\\nprint(f\\\"- # Antero-posterior voxels: {...}\\\")\\nprint(f\\\"- # Cranio-caudal voxels: {...}\\\")\\nprint(f\\\"- # Timepoints: {...}\\\")\";\n",
       "                var nbb_cells = Jupyter.notebook.get_cells();\n",
       "                for (var i = 0; i < nbb_cells.length; ++i) {\n",
       "                    if (nbb_cells[i].input_prompt_number == nbb_cell_id) {\n",
       "                        if (nbb_cells[i].get_text() == nbb_unformatted_code) {\n",
       "                             nbb_cells[i].set_text(nbb_formatted_code);\n",
       "                        }\n",
       "                        break;\n",
       "                    }\n",
       "                }\n",
       "            }, 500);\n",
       "            "
      ],
      "text/plain": [
       "<IPython.core.display.Javascript object>"
      ]
     },
     "metadata": {},
     "output_type": "display_data"
    }
   ],
   "source": [
    "bold_shape = ...\n",
    "print(f\"Shape of the 3D numpy array: {...}\")\n",
    "print(f\"- # Medio-lateral voxels: {...}\")\n",
    "print(f\"- # Antero-posterior voxels: {...}\")\n",
    "print(f\"- # Cranio-caudal voxels: {...}\")\n",
    "print(f\"- # Timepoints: {...}\")"
   ]
  },
  {
   "cell_type": "markdown",
   "metadata": {},
   "source": [
    "Solution:"
   ]
  },
  {
   "cell_type": "code",
   "execution_count": 43,
   "metadata": {
    "jupyter": {
     "source_hidden": true
    }
   },
   "outputs": [
    {
     "name": "stdout",
     "output_type": "stream",
     "text": [
      "Shape of the 3D numpy array: (64, 64, 32, 186)\n",
      "- # Medio-lateral voxels: 64\n",
      "- # Antero-posterior voxels: 64\n",
      "- # Cranio-caudal voxels: 32\n",
      "- # Timepoints: 186\n"
     ]
    },
    {
     "data": {
      "application/javascript": [
       "\n",
       "            setTimeout(function() {\n",
       "                var nbb_cell_id = 43;\n",
       "                var nbb_unformatted_code = \"bold_shape = bold_image.shape\\nprint(f\\\"Shape of the 3D numpy array: {bold_shape}\\\")\\nprint(f\\\"- # Medio-lateral voxels: {bold_shape[0]}\\\")\\nprint(f\\\"- # Antero-posterior voxels: {bold_shape[1]}\\\")\\nprint(f\\\"- # Cranio-caudal voxels: {bold_shape[2]}\\\")\\nprint(f\\\"- # Timepoints: {bold_shape[3]}\\\")\";\n",
       "                var nbb_formatted_code = \"bold_shape = bold_image.shape\\nprint(f\\\"Shape of the 3D numpy array: {bold_shape}\\\")\\nprint(f\\\"- # Medio-lateral voxels: {bold_shape[0]}\\\")\\nprint(f\\\"- # Antero-posterior voxels: {bold_shape[1]}\\\")\\nprint(f\\\"- # Cranio-caudal voxels: {bold_shape[2]}\\\")\\nprint(f\\\"- # Timepoints: {bold_shape[3]}\\\")\";\n",
       "                var nbb_cells = Jupyter.notebook.get_cells();\n",
       "                for (var i = 0; i < nbb_cells.length; ++i) {\n",
       "                    if (nbb_cells[i].input_prompt_number == nbb_cell_id) {\n",
       "                        if (nbb_cells[i].get_text() == nbb_unformatted_code) {\n",
       "                             nbb_cells[i].set_text(nbb_formatted_code);\n",
       "                        }\n",
       "                        break;\n",
       "                    }\n",
       "                }\n",
       "            }, 500);\n",
       "            "
      ],
      "text/plain": [
       "<IPython.core.display.Javascript object>"
      ]
     },
     "metadata": {},
     "output_type": "display_data"
    }
   ],
   "source": [
    "bold_shape = bold_image.shape\n",
    "print(f\"Shape of the 3D numpy array: {bold_shape}\")\n",
    "print(f\"- # Medio-lateral voxels: {bold_shape[0]}\")\n",
    "print(f\"- # Antero-posterior voxels: {bold_shape[1]}\")\n",
    "print(f\"- # Cranio-caudal voxels: {bold_shape[2]}\")\n",
    "print(f\"- # Timepoints: {bold_shape[3]}\")"
   ]
  },
  {
   "cell_type": "markdown",
   "metadata": {},
   "source": [
    "### 1.3.3 Let's show a single slice again!\n",
    "You can use your answer to section 1.2.3 to answer this one. We want to visualize axial slice 10."
   ]
  },
  {
   "cell_type": "code",
   "execution_count": null,
   "metadata": {},
   "outputs": [],
   "source": []
  },
  {
   "cell_type": "markdown",
   "metadata": {},
   "source": [
    "Solution:"
   ]
  },
  {
   "cell_type": "markdown",
   "metadata": {
    "jupyter": {
     "source_hidden": true
    }
   },
   "source": [
    "- All voxels in the Medio-lateral direction must be selected, so `:` in the fist position\n",
    "- All voxels in the Medio-lateral direction must be selected, so `:` in the second position\n",
    "- Only voxel number 150 must be selected in Cranio-caudal direction, so `10` in the second position\n",
    "- We consider the first timepoint, so the last dimension (time) should be indexed as `0`\n",
    "\n",
    "Hence, we will index the image as follows: `[:,:,10,0]`"
   ]
  },
  {
   "cell_type": "code",
   "execution_count": 44,
   "metadata": {
    "jupyter": {
     "source_hidden": true
    }
   },
   "outputs": [
    {
     "data": {
      "text/plain": [
       "<matplotlib.image.AxesImage at 0x7f55362eaa58>"
      ]
     },
     "execution_count": 44,
     "metadata": {},
     "output_type": "execute_result"
    },
    {
     "data": {
      "image/png": "[encoded data removed]",
      "text/plain": [
       "<Figure size 432x288 with 1 Axes>"
      ]
     },
     "metadata": {
      "needs_background": "light"
     },
     "output_type": "display_data"
    },
    {
     "data": {
      "application/javascript": [
       "\n",
       "            setTimeout(function() {\n",
       "                var nbb_cell_id = 44;\n",
       "                var nbb_unformatted_code = \"bold_slice = bold_image[:, :, 10, 0]\\nfig, ax = plt.subplots()\\nax.imshow(bold_slice.T, cmap=\\\"gray\\\", origin=\\\"lower\\\")\";\n",
       "                var nbb_formatted_code = \"bold_slice = bold_image[:, :, 10, 0]\\nfig, ax = plt.subplots()\\nax.imshow(bold_slice.T, cmap=\\\"gray\\\", origin=\\\"lower\\\")\";\n",
       "                var nbb_cells = Jupyter.notebook.get_cells();\n",
       "                for (var i = 0; i < nbb_cells.length; ++i) {\n",
       "                    if (nbb_cells[i].input_prompt_number == nbb_cell_id) {\n",
       "                        if (nbb_cells[i].get_text() == nbb_unformatted_code) {\n",
       "                             nbb_cells[i].set_text(nbb_formatted_code);\n",
       "                        }\n",
       "                        break;\n",
       "                    }\n",
       "                }\n",
       "            }, 500);\n",
       "            "
      ],
      "text/plain": [
       "<IPython.core.display.Javascript object>"
      ]
     },
     "metadata": {},
     "output_type": "display_data"
    }
   ],
   "source": [
    "bold_slice = bold_image[:, :, 10, 0]\n",
    "fig, ax = plt.subplots()\n",
    "ax.imshow(bold_slice.T, cmap=\"gray\", origin=\"lower\")"
   ]
  },
  {
   "cell_type": "markdown",
   "metadata": {},
   "source": [
    "Question: When looking at the spatial dimensions and compare it to the T1w image, what do you notice?"
   ]
  },
  {
   "cell_type": "markdown",
   "metadata": {},
   "source": [
    "Answer:"
   ]
  },
  {
   "cell_type": "markdown",
   "metadata": {
    "jupyter": {
     "source_hidden": true
    }
   },
   "source": [
    "We see that the resolution of the fMRI is far less than the T1w image! This is why we chose axial slice 20 instead of 150 (which was the case for T1w); slice 150 doesn't exist in this fMRI image!"
   ]
  },
  {
   "cell_type": "markdown",
   "metadata": {},
   "source": [
    "We have also created a function (`show_functional_slice`) for you to easily investigate your fMRI image. You can consult the source code in the `functions.py` file. \n",
    "\n",
    "To use it, just run `show_functional_slice(image = bold_image, orientation = 'axial', slice_nr = 10, timepoint = 0)` in the next cell. Play around with the `orientation`, `slice_nr` and `timepoint` parameters at will!"
   ]
  },
  {
   "cell_type": "markdown",
   "metadata": {},
   "source": [
    "### 1.3.4 Let's track a voxel over time!\n",
    "\n",
    "In this step, we will explore how we track a single voxel over time. This will show how the BOLD value inside the voxel in a T2* image changes over the 4th dimension, time. We want to visualize the voxel with the following spatial characteristics:\n",
    "- Medio-lateral position: 30\n",
    "- Antero-posterior position: 53\n",
    "- Cranio-caudal position 20\n",
    "\n",
    "Hint: Use matplotlib (already loaded). The following functions might be useful: `fig,ax = plt.subplots()` and `ax.plot()`"
   ]
  },
  {
   "cell_type": "markdown",
   "metadata": {},
   "source": [
    "Solution:"
   ]
  },
  {
   "cell_type": "code",
   "execution_count": 45,
   "metadata": {
    "jupyter": {
     "source_hidden": true
    }
   },
   "outputs": [
    {
     "data": {
      "image/png": "[encoded data removed]",
      "text/plain": [
       "<Figure size 432x288 with 1 Axes>"
      ]
     },
     "metadata": {
      "needs_background": "light"
     },
     "output_type": "display_data"
    },
    {
     "data": {
      "application/javascript": [
       "\n",
       "            setTimeout(function() {\n",
       "                var nbb_cell_id = 45;\n",
       "                var nbb_unformatted_code = \"fig, ax = plt.subplots()\\nvoxel_BOLD_vector = bold_image[30, 53, 20, :]\\nax.plot(voxel_BOLD_vector)\\nplt.show()\";\n",
       "                var nbb_formatted_code = \"fig, ax = plt.subplots()\\nvoxel_BOLD_vector = bold_image[30, 53, 20, :]\\nax.plot(voxel_BOLD_vector)\\nplt.show()\";\n",
       "                var nbb_cells = Jupyter.notebook.get_cells();\n",
       "                for (var i = 0; i < nbb_cells.length; ++i) {\n",
       "                    if (nbb_cells[i].input_prompt_number == nbb_cell_id) {\n",
       "                        if (nbb_cells[i].get_text() == nbb_unformatted_code) {\n",
       "                             nbb_cells[i].set_text(nbb_formatted_code);\n",
       "                        }\n",
       "                        break;\n",
       "                    }\n",
       "                }\n",
       "            }, 500);\n",
       "            "
      ],
      "text/plain": [
       "<IPython.core.display.Javascript object>"
      ]
     },
     "metadata": {},
     "output_type": "display_data"
    }
   ],
   "source": [
    "fig, ax = plt.subplots()\n",
    "voxel_BOLD_vector = bold_image[30, 53, 20, :]\n",
    "ax.plot(voxel_BOLD_vector)\n",
    "plt.show()"
   ]
  },
  {
   "cell_type": "markdown",
   "metadata": {},
   "source": [
    "Perhaps it might be nice to see the spatial location of the tracked voxel in 3 different planes of the MRI image. Run the following code block in a next cell reveal its location: `track_voxel(bold_image, 30, 53, 20, voxel_color='lightgreen')`."
   ]
  },
  {
   "cell_type": "markdown",
   "metadata": {},
   "source": [
    "***"
   ]
  },
  {
   "cell_type": "markdown",
   "metadata": {},
   "source": [
    "# 2. Visualisation on a dataframe"
   ]
  },
  {
   "cell_type": "markdown",
   "metadata": {},
   "source": [
    "We will first upload the following: \n",
    "- data: `participants.tsv`\n",
    "- description of the data: `participants.json`"
   ]
  },
  {
   "cell_type": "code",
   "execution_count": null,
   "metadata": {},
   "outputs": [],
   "source": [
    "# Data\n",
    "\n",
    "table_path = os.path.join(data_folder, \"participants.tsv\")\n",
    "df = pd.read_csv(table_path, sep=\"\\t\")\n",
    "\n",
    "# Data description\n",
    "with open(os.path.join(data_folder, \"participants.json\")) as json_file:\n",
    "    df_description = json.load(json_file)\n",
    "    df_description = pd.DataFrame(df_description)\n",
    "    df_description = df_description.drop(\"TermURL\", axis=0)"
   ]
  },
  {
   "cell_type": "markdown",
   "metadata": {},
   "source": [
    "# 2.1 Explore the dataframes quantitatively"
   ]
  },
  {
   "cell_type": "markdown",
   "metadata": {},
   "source": [
    "Get a sneak preview of the data `df.head()` and the full data description `df_description`"
   ]
  },
  {
   "cell_type": "code",
   "execution_count": null,
   "metadata": {},
   "outputs": [],
   "source": []
  },
  {
   "cell_type": "markdown",
   "metadata": {},
   "source": [
    "Get a quick insight in the distribution of the data. For this, you can use e.g. `df.describe()` and `df.info()`"
   ]
  },
  {
   "cell_type": "code",
   "execution_count": null,
   "metadata": {},
   "outputs": [],
   "source": []
  },
  {
   "cell_type": "markdown",
   "metadata": {},
   "source": [
    "## 2.2 Visualisation of disbributions"
   ]
  },
  {
   "cell_type": "markdown",
   "metadata": {},
   "source": [
    "..."
   ]
  },
  {
   "cell_type": "markdown",
   "metadata": {},
   "source": [
    "***"
   ]
  },
  {
   "cell_type": "markdown",
   "metadata": {},
   "source": [
    "# Acknowledgement and Data source"
   ]
  },
  {
   "cell_type": "markdown",
   "metadata": {},
   "source": [
    "## References for use of this data"
   ]
  },
  {
   "cell_type": "code",
   "execution_count": null,
   "metadata": {},
   "outputs": [],
   "source": [
    "print(references)"
   ]
  },
  {
   "cell_type": "markdown",
   "metadata": {},
   "source": [
    "## Contact information of owners of the datasets"
   ]
  },
  {
   "cell_type": "code",
   "execution_count": null,
   "metadata": {},
   "outputs": [],
   "source": [
    "print(contact)"
   ]
  }
 ],
 "metadata": {
  "kernelspec": {
   "display_name": "Python 3",
   "language": "python",
   "name": "python3"
  },
  "language_info": {
   "codemirror_mode": {
    "name": "ipython",
    "version": 3
   },
   "file_extension": ".py",
   "mimetype": "text/x-python",
   "name": "python",
   "nbconvert_exporter": "python",
   "pygments_lexer": "ipython3",
   "version": "3.6.9"
  }
 },
 "nbformat": 4,
 "nbformat_minor": 4
}
