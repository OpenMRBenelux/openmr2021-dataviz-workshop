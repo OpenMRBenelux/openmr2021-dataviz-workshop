{
 "cells": [
  {
   "cell_type": "markdown",
   "metadata": {},
   "source": [
    "<img src=\"https://raw.githubusercontent.com/OpenMRBenelux/openmrbenelux.github.io/afba2aa7c94cd7ad0f2757aca0efc18d8ee3154d/assets/ext_images/logo/openmr_benelux_2021_logo_regopen.svg\">"
   ]
  },
  {
   "cell_type": "markdown",
   "metadata": {},
   "source": [
    "# Python Visualisation Tutorial"
   ]
  },
  {
   "cell_type": "markdown",
   "metadata": {},
   "source": [
    "Hello there, and welcome to our visualisation workshop!\n",
    "\n",
    "This tutorial is entirely dedicated to offer useful tools to get started with visualisations in Python, with examples on neuro-imaging data. \n",
    "\n",
    "The data that we will explore today is part of an [open source repository](https://openneuro.org/datasets/ds003542) on adult language learners. We express our sincere gratitude to Kshipra Gurunandan, Manuel Carreiras and Pedro M. Paz-Alonso for making this data open source. Below, we will first print the README file that contains the explanation about the objective of this study."
   ]
  },
  {
   "cell_type": "code",
   "execution_count": null,
   "metadata": {},
   "outputs": [],
   "source": [
    "%load_ext nb_black"
   ]
  },
  {
   "cell_type": "code",
   "execution_count": null,
   "metadata": {},
   "outputs": [],
   "source": [
    "import os\n",
    "from bids import BIDSLayout\n",
    "\n",
    "data_folder = \"../inputs/ds003542\"\n",
    "layout = BIDSLayout(data_folder)\n",
    "\n",
    "# Description of the project\n",
    "with open(os.path.join(data_folder, \"README\")) as txt_file:\n",
    "    README_sections = txt_file.read().split(f'{\"-\"*34}')\n",
    "    project_description = README_sections[0]\n",
    "    references = README_sections[1]\n",
    "    contact = README_sections[3]"
   ]
  },
  {
   "cell_type": "code",
   "execution_count": null,
   "metadata": {},
   "outputs": [],
   "source": [
    "print(project_description)"
   ]
  },
  {
   "cell_type": "markdown",
   "metadata": {},
   "source": [
    "***"
   ]
  },
  {
   "cell_type": "markdown",
   "metadata": {},
   "source": [
    "## Wait, what ...? A Jupyter notebook?"
   ]
  },
  {
   "cell_type": "markdown",
   "metadata": {},
   "source": [
    "Never worked with jupyter notebooks before? Don't worry! We'll guide you through it step by step.\n",
    "\n",
    "A **jupyter notebook** \n",
    "- is a convenient way to combine code with neat documentation, allowing others to easily follow a project that uses code\n",
    "- works with so-called \"blocks\", which can either be a \"code block\" or a \"markdown block\"\n",
    "    - *Markdown block*: You are reading one right now! It is a block that understands the markdown language, an easy language to create text, similar to HTML and LaTeX.\n",
    "    - *Code block*: A code block in a jupyter notebook understands the Python language by default. If applicable, output is printed below the code block, such as images and text. You can also change the kernel of code blocks; in this way you can use other programming languages in the code blocks! Read more about this [here](https://jupyter4edu.github.io/jupyter-edu-book/jupyter.html).\n",
    "- Allows to \"hide\" blocks, which will be visible with 3 dots (...). Solutions are hidden this way, but first try to find the solution yourself in the empty block above!\n",
    "- has some nice shortcuts:\n",
    "\n",
    "|Operation|Shortcut|\n",
    "|---|---|\n",
    "|Run a cell|shift-enter|\n",
    "|Add cell above | \"a\" (first click left of the cell)|\n",
    "|Add cell below | \"b\" (first click left of the cell)|\n",
    "|Copy cell: | \"c\" (first click left of the cell)|\n",
    "|Cut cell: | \"x\" (first click left of the cell)|\n",
    "|Paste cell | \"v\" (first click left of the cell)|\n",
    "|Delete cell | \"dd\" (first click left of the cell)|\n",
    "\n",
    "Last note: If you want to install additional python packages, you can call upon the terminal with an exclamation mark (!) before a command. So, installing a new package will be the following structure inside a code cell: `!pip install my-package`"
   ]
  },
  {
   "cell_type": "markdown",
   "metadata": {},
   "source": [
    "***"
   ]
  },
  {
   "cell_type": "markdown",
   "metadata": {},
   "source": [
    "## Let's get started!\n",
    "### Table of contents\n",
    "0. Preparations\n",
    "1. Visualising neuro-imaging data\n",
    "    - What is a nifti (.nii)?\n",
    "    - Anatomical MRI - T1w\n",
    "    - Functional MRI (fMRI)\n",
    "2. Visualisation on a dataframe\n",
    "3. Use a function to manipulate your figure"
   ]
  },
  {
   "cell_type": "markdown",
   "metadata": {},
   "source": [
    "***"
   ]
  },
  {
   "cell_type": "markdown",
   "metadata": {},
   "source": [
    "# 0. Preparations"
   ]
  },
  {
   "cell_type": "markdown",
   "metadata": {},
   "source": [
    "Set matplotlib inline to view images below the cell in this notebook"
   ]
  },
  {
   "cell_type": "code",
   "execution_count": null,
   "metadata": {},
   "outputs": [],
   "source": [
    "%matplotlib inline"
   ]
  },
  {
   "cell_type": "markdown",
   "metadata": {},
   "source": [
    "Import packages necessary for the tutorial"
   ]
  },
  {
   "cell_type": "code",
   "execution_count": null,
   "metadata": {
    "scrolled": true
   },
   "outputs": [],
   "source": [
    "# Data handling\n",
    "import pandas as pd\n",
    "import numpy as np\n",
    "\n",
    "# Data description\n",
    "import json\n",
    "\n",
    "# Visualization\n",
    "import matplotlib.pyplot as plt\n",
    "import seaborn as sns\n",
    "\n",
    "# Neuro-imaging packages\n",
    "import nibabel as nib\n",
    "import nilearn as nil\n",
    "\n",
    "# Self-made functions\n",
    "from python.functions import show_anatomical_slice, show_functional_slice, track_voxel"
   ]
  },
  {
   "cell_type": "markdown",
   "metadata": {},
   "source": [
    "***"
   ]
  },
  {
   "cell_type": "markdown",
   "metadata": {},
   "source": [
    "# 1. Visualising neuro-imaging data"
   ]
  },
  {
   "cell_type": "markdown",
   "metadata": {},
   "source": [
    "The data was downloaded from OpenNeuro, [project ds003542](https://openneuro.org/datasets/ds003542/versions/1.0.0), which originates from a study on language learners. We only extracted data from subject 1. Hence, the data is present in the \"ds00352-download\" folder, subdirectory \"sub-01\":\n",
    "- Anatomical MRI: \"anat\" subfolder\n",
    "- Functional MRI: \"func\" subfolder\n",
    "\n",
    "Let's define the paths:"
   ]
  },
  {
   "cell_type": "code",
   "execution_count": null,
   "metadata": {},
   "outputs": [],
   "source": [
    "t1w_path = layout.get(\n",
    "    subject=\"01\", suffix=\"T1w\", extension=\".nii.gz\", return_type=\"filename\"\n",
    ")\n",
    "bold_path = layout.get(\n",
    "    subject=\"01\",\n",
    "    task=\"compL1\",\n",
    "    run=\"1\",\n",
    "    suffix=\"bold\",\n",
    "    extension=\".nii.gz\",\n",
    "    return_type=\"filename\",\n",
    ")"
   ]
  },
  {
   "cell_type": "markdown",
   "metadata": {},
   "source": [
    "## 1.1 What is a nifti (.nii)?"
   ]
  },
  {
   "cell_type": "markdown",
   "metadata": {},
   "source": [
    "For a thorough explanation on the origin and objective of nifti, we refer to [this webpage](https://nifti.nimh.nih.gov/). In short however, the nifti file format has been proposed to "
   ]
  },
  {
   "cell_type": "markdown",
   "metadata": {},
   "source": [
    "## 1.2 Anatomical MRI - T1w"
   ]
  },
  {
   "cell_type": "markdown",
   "metadata": {},
   "source": [
    "Click [here](https://nipy.org/nibabel/coordinate_systems.html) for the source article in nibabel.\\\n",
    "Note that this anatomical T1w nifti is a 3D image, with each dimension being a spatial dimension (x, y and z), corresponding to a body axis (medio-lateral, antero-posterior and cranio-caudal)."
   ]
  },
  {
   "cell_type": "markdown",
   "metadata": {},
   "source": [
    "### 1.2.1 Let's first search for the nifti file in our directory! "
   ]
  },
  {
   "cell_type": "code",
   "execution_count": null,
   "metadata": {},
   "outputs": [],
   "source": [
    "t1w_file = nib.load(t1w_path[0])  # Upload the nifti file with nibabel\n",
    "t1w_image = (\n",
    "    t1w_file.get_fdata()\n",
    ")  # Get the 3D numpy array that contains grey values of the voxels"
   ]
  },
  {
   "cell_type": "markdown",
   "metadata": {},
   "source": [
    "### 1.2.2 What are the dimensions of the numpy array?"
   ]
  },
  {
   "cell_type": "code",
   "execution_count": null,
   "metadata": {},
   "outputs": [],
   "source": [
    "t1w_shape = ...\n",
    "print(f\"Shape of the 3D numpy array: {...}\")\n",
    "print(f\"- # Medio-lateral voxels: {...}\")\n",
    "print(f\"- # Antero-posterior voxels: {...}\")\n",
    "print(f\"- # Cranio-caudal voxels: {...}\")"
   ]
  },
  {
   "cell_type": "markdown",
   "metadata": {},
   "source": [
    "Solution:"
   ]
  },
  {
   "cell_type": "code",
   "execution_count": null,
   "metadata": {
    "jupyter": {
     "source_hidden": true
    }
   },
   "outputs": [],
   "source": [
    "t1w_shape = t1w_image.shape\n",
    "print(f\"Shape of the 3D numpy array: {t1w_shape}\")\n",
    "print(f\"- # Medio-lateral voxels: {t1w_shape[0]}\")\n",
    "print(f\"- # Antero-posterior voxels: {t1w_shape[1]}\")\n",
    "print(f\"- # Cranio-caudal voxels: {t1w_shape[2]}\")"
   ]
  },
  {
   "cell_type": "markdown",
   "metadata": {},
   "source": [
    "### 1.2.3 Let's show a single slice of the 3D numpy array.\n",
    "To do this, we can index the object, for which step 2 will help us!\\\n",
    "We want to extract axial slice 150. \n",
    "\n",
    "Hint: indexing of the `t1w_image` object will be as follows: `t1w_image[ML_direction, AP_direction, CC_direction]`, with each element consisting of either a single value, or a range (e.g. `5:9`). To select everyting along an axis, just pass `:`. ML = Medio-lateral, AP = Antero-posterior, CC = Cranio-caudal."
   ]
  },
  {
   "cell_type": "code",
   "execution_count": null,
   "metadata": {},
   "outputs": [],
   "source": [
    "t1w_slice = t1w_image[:, :, 150]\n",
    "fig, ax = plt.subplots()\n",
    "ax.imshow(t1w_slice.T, cmap=\"gray\", origin=\"lower\")"
   ]
  },
  {
   "cell_type": "markdown",
   "metadata": {},
   "source": [
    "Solution:"
   ]
  },
  {
   "cell_type": "markdown",
   "metadata": {
    "jupyter": {
     "source_hidden": true
    }
   },
   "source": [
    "- All voxels in the Medio-lateral direction must be selected, so `:` in the fist position\n",
    "- All voxels in the Antero-posterior direction must be selected, so `:` in the second position\n",
    "- Only voxel number 150 must be selected in Cranio-caudal direction, so `150` in the second position\n",
    "\n",
    "Hence, we will index the image as follows: `[:,:,150]`"
   ]
  },
  {
   "cell_type": "markdown",
   "metadata": {},
   "source": [
    "We have also created a function (`show_anatomical_slice`) for you to easily investigate your T1w image. You can consult the source code in the `functions.py` file. \n",
    "\n",
    "To use it, just run `show_anatomical_slice(image = t1w_image, orientation = 'axial', slice_nr = 150)` in the next cell. Play around with the `orientation` and `slice_nr` parameters at will!"
   ]
  },
  {
   "cell_type": "markdown",
   "metadata": {},
   "source": [
    "**REMARK: Defacing**\\\n",
    "Run the following code block in a new cell: `show_anatomical_slice(t1_image, 'sagittal', 100)`.\\\n",
    "In this slice, you can nicely see that this nifti image has been \"defaced\", to ensure anonimity. This essentially means that, inside the 3D numpy array, all values that relate to the face were set to 0 (black)!"
   ]
  },
  {
   "cell_type": "markdown",
   "metadata": {},
   "source": [
    "## 1.3 Functional MRI (fMRI)"
   ]
  },
  {
   "cell_type": "markdown",
   "metadata": {},
   "source": [
    "First things first: a functional MRI image has a fourth dimension, time!\\\n",
    "Hence, a nifti file is a 4D numpy array, with the first 3 dimensions being spatial (x: medio-lateral, y: antero-posterior and z: craniocaudal), and the 4th being time!"
   ]
  },
  {
   "cell_type": "markdown",
   "metadata": {},
   "source": [
    "EXTRA: For the most fancy experience, you can replace the `color_map` parameter inside the `show_functional_slice` and `track_voxel` functions with one of the options listed in [this link](https://matplotlib.org/stable/tutorials/colors/colormaps.html). This will change the colors of your image, check it out! :) "
   ]
  },
  {
   "cell_type": "markdown",
   "metadata": {},
   "source": [
    "### 1.3.1 Let's first search for the nifti file in our directory! "
   ]
  },
  {
   "cell_type": "code",
   "execution_count": null,
   "metadata": {},
   "outputs": [],
   "source": [
    "bold_file = nib.load(bold_path[0])  # Upload the nifti file with nibabel\n",
    "bold_image = (\n",
    "    bold_file.get_fdata()\n",
    ")  # Get the 3D numpy array that contains grey values of the voxels"
   ]
  },
  {
   "cell_type": "markdown",
   "metadata": {},
   "source": [
    "### 1.3.2 What are the dimensions of the numpy array?"
   ]
  },
  {
   "cell_type": "code",
   "execution_count": null,
   "metadata": {},
   "outputs": [],
   "source": [
    "bold_shape = ...\n",
    "print(f\"Shape of the 3D numpy array: {...}\")\n",
    "print(f\"- # Medio-lateral voxels: {...}\")\n",
    "print(f\"- # Antero-posterior voxels: {...}\")\n",
    "print(f\"- # Cranio-caudal voxels: {...}\")\n",
    "print(f\"- # Timepoints: {...}\")"
   ]
  },
  {
   "cell_type": "markdown",
   "metadata": {},
   "source": [
    "Solution:"
   ]
  },
  {
   "cell_type": "code",
   "execution_count": null,
   "metadata": {
    "jupyter": {
     "source_hidden": true
    }
   },
   "outputs": [],
   "source": [
    "bold_shape = bold_image.shape\n",
    "print(f\"Shape of the 3D numpy array: {bold_shape}\")\n",
    "print(f\"- # Medio-lateral voxels: {bold_shape[0]}\")\n",
    "print(f\"- # Antero-posterior voxels: {bold_shape[1]}\")\n",
    "print(f\"- # Cranio-caudal voxels: {bold_shape[2]}\")\n",
    "print(f\"- # Timepoints: {bold_shape[3]}\")"
   ]
  },
  {
   "cell_type": "markdown",
   "metadata": {},
   "source": [
    "### 1.3.3 Let's show a single slice again!\n",
    "You can use your answer to section 1.2.3 to answer this one. We want to visualize axial slice 10."
   ]
  },
  {
   "cell_type": "code",
   "execution_count": null,
   "metadata": {},
   "outputs": [],
   "source": []
  },
  {
   "cell_type": "markdown",
   "metadata": {},
   "source": [
    "Solution:"
   ]
  },
  {
   "cell_type": "markdown",
   "metadata": {
    "jupyter": {
     "source_hidden": true
    }
   },
   "source": [
    "- All voxels in the Medio-lateral direction must be selected, so `:` in the fist position\n",
    "- All voxels in the Medio-lateral direction must be selected, so `:` in the second position\n",
    "- Only voxel number 150 must be selected in Cranio-caudal direction, so `10` in the second position\n",
    "- We consider the first timepoint, so the last dimension (time) should be indexed as `0`\n",
    "\n",
    "Hence, we will index the image as follows: `[:,:,10,0]`"
   ]
  },
  {
   "cell_type": "code",
   "execution_count": null,
   "metadata": {
    "jupyter": {
     "source_hidden": true
    }
   },
   "outputs": [],
   "source": [
    "bold_slice = bold_image[:, :, 10, 0]\n",
    "fig, ax = plt.subplots()\n",
    "ax.imshow(bold_slice.T, cmap=\"gray\", origin=\"lower\")"
   ]
  },
  {
   "cell_type": "markdown",
   "metadata": {},
   "source": [
    "Question: When looking at the spatial dimensions and compare it to the T1w image, what do you notice?"
   ]
  },
  {
   "cell_type": "markdown",
   "metadata": {},
   "source": [
    "Answer:"
   ]
  },
  {
   "cell_type": "markdown",
   "metadata": {
    "jupyter": {
     "source_hidden": true
    }
   },
   "source": [
    "We see that the resolution of the fMRI is far less than the T1w image! This is why we chose axial slice 20 instead of 150 (which was the case for T1w); slice 150 doesn't exist in this fMRI image!"
   ]
  },
  {
   "cell_type": "markdown",
   "metadata": {},
   "source": [
    "We have also created a function (`show_functional_slice`) for you to easily investigate your fMRI image. You can consult the source code in the `functions.py` file. \n",
    "\n",
    "To use it, just run `show_functional_slice(image = bold_image, orientation = 'axial', slice_nr = 10, timepoint = 0)` in the next cell. Play around with the `orientation`, `slice_nr` and `timepoint` parameters at will!"
   ]
  },
  {
   "cell_type": "markdown",
   "metadata": {},
   "source": [
    "### 1.3.4 Let's track a voxel over time!\n",
    "\n",
    "In this step, we will explore how we track a single voxel over time. This will show how the BOLD value inside the voxel in a T2* image changes over the 4th dimension, time. We want to visualize the voxel with the following spatial characteristics:\n",
    "- Medio-lateral position: 30\n",
    "- Antero-posterior position: 53\n",
    "- Cranio-caudal position 20\n",
    "\n",
    "Hint: Use matplotlib (already loaded). The following functions might be useful: `fig,ax = plt.subplots()` and `ax.plot()`"
   ]
  },
  {
   "cell_type": "markdown",
   "metadata": {},
   "source": [
    "Solution:"
   ]
  },
  {
   "cell_type": "code",
   "execution_count": null,
   "metadata": {
    "jupyter": {
     "source_hidden": true
    }
   },
   "outputs": [],
   "source": [
    "fig, ax = plt.subplots()\n",
    "voxel_BOLD_vector = bold_image[30, 53, 20, :]\n",
    "ax.plot(voxel_BOLD_vector)\n",
    "plt.show()"
   ]
  },
  {
   "cell_type": "markdown",
   "metadata": {},
   "source": [
    "Perhaps it might be nice to see the spatial location of the tracked voxel in 3 different planes of the MRI image. Run the following code block in a next cell reveal its location: `track_voxel(bold_image, 30, 53, 20, voxel_color='lightgreen')`."
   ]
  },
  {
   "cell_type": "markdown",
   "metadata": {},
   "source": [
    "***"
   ]
  },
  {
   "cell_type": "markdown",
   "metadata": {},
   "source": [
    "# 2. Visualisation on a dataframe"
   ]
  },
  {
   "cell_type": "markdown",
   "metadata": {},
   "source": [
    "We will first upload the following: \n",
    "- data: `participants.tsv`\n",
    "- description of the data: `participants.json`"
   ]
  },
  {
   "cell_type": "code",
   "execution_count": null,
   "metadata": {},
   "outputs": [],
   "source": [
    "# Data\n",
    "\n",
    "table_path = os.path.join(data_folder, \"participants.tsv\")\n",
    "df = pd.read_csv(table_path, sep=\"\\t\")\n",
    "\n",
    "# Data description\n",
    "with open(os.path.join(data_folder, \"participants.json\")) as json_file:\n",
    "    df_description = json.load(json_file)\n",
    "    df_description = pd.DataFrame(df_description)\n",
    "    df_description = df_description.drop(\"TermURL\", axis=0)"
   ]
  },
  {
   "cell_type": "markdown",
   "metadata": {},
   "source": [
    "# 2.1 Explore the dataframes quantitatively"
   ]
  },
  {
   "cell_type": "markdown",
   "metadata": {},
   "source": [
    "Get a sneak preview of the data `df.head()` and the full data description `df_description`"
   ]
  },
  {
   "cell_type": "code",
   "execution_count": null,
   "metadata": {},
   "outputs": [],
   "source": []
  },
  {
   "cell_type": "markdown",
   "metadata": {},
   "source": [
    "Get a quick insight in the distribution of the data. For this, you can use e.g. `df.describe()` and `df.info()`"
   ]
  },
  {
   "cell_type": "code",
   "execution_count": null,
   "metadata": {},
   "outputs": [],
   "source": []
  },
  {
   "cell_type": "markdown",
   "metadata": {},
   "source": [
    "## 2.2 Visualisation of disbributions"
   ]
  },
  {
   "cell_type": "markdown",
   "metadata": {},
   "source": [
    "..."
   ]
  },
  {
   "cell_type": "markdown",
   "metadata": {},
   "source": [
    "***"
   ]
  },
  {
   "cell_type": "markdown",
   "metadata": {},
   "source": [
    "# Acknowledgement and Data source"
   ]
  },
  {
   "cell_type": "markdown",
   "metadata": {},
   "source": [
    "## References for use of this data"
   ]
  },
  {
   "cell_type": "code",
   "execution_count": null,
   "metadata": {},
   "outputs": [],
   "source": [
    "print(references)\n",
    "\n",
    "layout.description['ReferencesAndLinks']\n"
   ]
  },
  {
   "cell_type": "markdown",
   "metadata": {},
   "source": [
    "## Contact information of owners of the datasets"
   ]
  },
  {
   "cell_type": "code",
   "execution_count": null,
   "metadata": {},
   "outputs": [],
   "source": [
    "print(contact)"
   ]
  }
 ],
 "metadata": {
  "kernelspec": {
   "display_name": "Python 3",
   "language": "python",
   "name": "python3"
  },
  "language_info": {
   "codemirror_mode": {
    "name": "ipython",
    "version": 3
   },
   "file_extension": ".py",
   "mimetype": "text/x-python",
   "name": "python",
   "nbconvert_exporter": "python",
   "pygments_lexer": "ipython3",
   "version": "3.6.9"
  }
 },
 "nbformat": 4,
 "nbformat_minor": 4
}
