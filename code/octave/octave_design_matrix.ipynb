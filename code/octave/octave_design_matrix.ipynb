{
 "cells": [
  {
   "cell_type": "code",
   "execution_count": 1,
   "metadata": {},
   "outputs": [],
   "source": [
    "% when running localy\n",
    "path_to_spm = '/home/remi/matlab/SPM/spm12/';\n",
    "addpath(path_to_spm)\n",
    "\n",
    "spm('defaults', 'FMRI');"
   ]
  },
  {
   "cell_type": "code",
   "execution_count": 2,
   "metadata": {},
   "outputs": [],
   "source": [
    "tr = 1.0;  % repetition time is 1 second\n",
    "nb_scans = 128;  % the acquisition comprises 128 scans\n",
    "\n",
    "start_dir = pwd;\n",
    "\n",
    "ouput_dir = '../ouput/octave/design_matrix';\n",
    "spm_mkdir(ouput_dir);"
   ]
  },
  {
   "cell_type": "markdown",
   "metadata": {},
   "source": [
    "Will be using the `spm_run_fmri_spec` function via the SPM batch to create the design matrix."
   ]
  },
  {
   "cell_type": "code",
   "execution_count": 3,
   "metadata": {},
   "outputs": [],
   "source": [
    "function cond = set_condition(name, onsets, durations)\n",
    "    cond.name = name;\n",
    "    cond.onset = onsets;\n",
    "    cond.duration = durations;\n",
    "    cond.tmod = 0;\n",
    "    cond.pmod = struct('name', {}, 'param', {}, 'poly', {}); % parametric modulation\n",
    "    cond.orth = true(); % orthogonalize\n",
    "end"
   ]
  },
  {
   "cell_type": "code",
   "execution_count": 4,
   "metadata": {},
   "outputs": [],
   "source": [
    "function motion_regressors = simulate_motion(nb_scans)\n",
    "\n",
    "    % The 6 parameters correspond to three translations and three rotations \n",
    "    % describing rigid body motion\n",
    "    extra_reg_names = {'tx', 'ty', 'tz', 'rx', 'ry', 'rz'};\n",
    "\n",
    "    for iReg = 1:numel(extra_reg_names)\n",
    "        motion_regressors(iReg).name = extra_reg_names{iReg};\n",
    "\n",
    "        # We simulate motion parameters observed with fMRI acquisitions\n",
    "        motion_regressors.val = cumsum(randn(nb_scans, 1), 1);\n",
    "    end\n",
    "\n",
    "end"
   ]
  },
  {
   "cell_type": "code",
   "execution_count": 5,
   "metadata": {},
   "outputs": [],
   "source": [
    "function design = set_design(ouput_dir, tr, nb_scans, conditions, extra_reg)\n",
    "    design.dir = cellstr(ouput_dir);\n",
    "\n",
    "    design.timing.units = 'secs';\n",
    "    design.timing.RT = tr;\n",
    "    \n",
    "    design.bases.hrf.derivs = [0 0];\n",
    "\n",
    "    design.sess.nscan = nb_scans;\n",
    "    design.sess.cond = conditions;\n",
    "    design.sess.hpf = 128;\n",
    "end"
   ]
  },
  {
   "cell_type": "markdown",
   "metadata": {},
   "source": [
    "## Event related model with HRF"
   ]
  },
  {
   "cell_type": "code",
   "execution_count": 6,
   "metadata": {},
   "outputs": [
    {
     "name": "stdout",
     "output_type": "stream",
     "text": [
      "motion_regressors =\r\n",
      "\r\n",
      "  scalar structure containing the fields:\r\n",
      "\r\n",
      "    name = tx\r\n",
      "    val =\r\n",
      "\r\n",
      "        0.14830\r\n",
      "        0.30962\r\n",
      "        0.51088\r\n",
      "        1.00918\r\n",
      "        1.73400\r\n",
      "        2.53478\r\n",
      "        2.20961\r\n",
      "        3.22909\r\n",
      "        4.78267\r\n",
      "        3.87775\r\n",
      "        2.11562\r\n",
      "        2.11139\r\n",
      "        3.18867\r\n",
      "        3.35407\r\n",
      "        4.24608\r\n",
      "        5.98681\r\n",
      "        5.51586\r\n",
      "        4.74662\r\n",
      "        3.75563\r\n",
      "        3.76334\r\n",
      "        3.27121\r\n",
      "        4.79365\r\n",
      "        1.52979\r\n",
      "        2.12948\r\n",
      "        2.57205\r\n",
      "        3.02122\r\n",
      "        3.80327\r\n",
      "        2.69669\r\n",
      "        1.29496\r\n",
      "       -0.14449\r\n",
      "       -1.01204\r\n",
      "       -0.60208\r\n",
      "        0.77348\r\n",
      "       -0.51679\r\n",
      "       -0.92008\r\n",
      "       -1.66259\r\n",
      "       -2.95250\r\n",
      "       -3.34562\r\n",
      "       -2.04026\r\n",
      "       -1.59771\r\n",
      "       -1.95801\r\n",
      "       -4.25799\r\n",
      "       -4.63316\r\n",
      "       -5.58122\r\n",
      "       -4.52448\r\n",
      "       -3.04744\r\n",
      "       -3.05578\r\n",
      "       -4.43771\r\n",
      "       -3.51280\r\n",
      "       -3.22328\r\n",
      "       -2.03213\r\n",
      "       -0.23326\r\n",
      "       -2.24029\r\n",
      "       -2.01057\r\n",
      "       -3.72913\r\n",
      "       -4.59270\r\n",
      "       -5.41178\r\n",
      "       -5.91854\r\n",
      "       -5.18540\r\n",
      "       -4.54274\r\n",
      "       -3.82346\r\n",
      "       -4.25846\r\n",
      "       -7.58800\r\n",
      "       -8.87336\r\n",
      "       -8.23149\r\n",
      "       -8.67358\r\n",
      "       -9.68386\r\n",
      "      -10.67849\r\n",
      "      -10.81656\r\n",
      "      -11.52187\r\n",
      "      -11.41241\r\n",
      "      -12.83014\r\n",
      "      -14.12519\r\n",
      "      -14.98569\r\n",
      "      -14.98920\r\n",
      "      -14.47222\r\n",
      "      -13.64653\r\n",
      "      -11.72165\r\n",
      "      -10.98802\r\n",
      "      -10.30149\r\n",
      "       -8.78745\r\n",
      "       -9.16693\r\n",
      "       -8.03307\r\n",
      "       -8.10764\r\n",
      "       -6.99337\r\n",
      "       -5.03760\r\n",
      "       -4.48532\r\n",
      "       -5.65344\r\n",
      "       -5.66443\r\n",
      "       -3.95887\r\n",
      "       -2.15068\r\n",
      "       -1.66527\r\n",
      "       -2.45053\r\n",
      "       -4.52269\r\n",
      "       -4.93284\r\n",
      "       -3.13804\r\n",
      "       -3.05161\r\n",
      "       -1.07153\r\n",
      "       -0.35456\r\n",
      "       -1.12630\r\n",
      "        0.64285\r\n",
      "        0.26934\r\n",
      "       -0.66282\r\n",
      "        0.40449\r\n",
      "        0.10292\r\n",
      "        1.25346\r\n",
      "        1.35559\r\n",
      "        1.34137\r\n",
      "        1.03529\r\n",
      "        0.53975\r\n",
      "        0.29437\r\n",
      "       -0.51221\r\n",
      "       -2.86109\r\n",
      "       -3.66042\r\n",
      "       -5.26552\r\n",
      "       -5.21781\r\n",
      "       -5.07476\r\n",
      "       -4.20606\r\n",
      "       -4.27752\r\n",
      "       -3.09605\r\n",
      "       -4.05572\r\n",
      "       -4.20749\r\n",
      "       -4.71724\r\n",
      "       -5.27801\r\n",
      "       -5.70082\r\n",
      "       -6.20358\r\n",
      "       -5.72673\r\n",
      "       -3.94889\r\n",
      "\r\n",
      "\r\n",
      "error: invalid assignment to cs-list outside multiple assignment\r\n",
      "error: called from\r\n",
      "    simulate_motion at line 11 column 31\r\n"
     ]
    }
   ],
   "source": [
    "% these are the types of the different conditions\n",
    "% with their: names, events onset time, events onset duration\n",
    "\n",
    "conditions(1) = set_condition('c1', [30, 70, 100], [1, 1, 1]);\n",
    "conditions(2) = set_condition('c2', [10, 30, 90], [1, 1, 1]);     \n",
    "conditions(3) = set_condition('c3', [30, 40, 60], [1, 1, 1]);  \n",
    "\n",
    "extra_reg = simulate_motion(nb_scans);"
   ]
  },
  {
   "cell_type": "code",
   "execution_count": 7,
   "metadata": {},
   "outputs": [],
   "source": [
    "design = set_design(ouput_dir, tr, nb_scans, conditions);\n",
    "matlabbatch{1}.spm.stats.fmri_design = design;"
   ]
  },
  {
   "cell_type": "code",
   "execution_count": 8,
   "metadata": {
    "scrolled": true
   },
   "outputs": [
    {
     "name": "stdout",
     "output_type": "stream",
     "text": [
      "Initialising batch system... mv: cannot move '/home/remi/matlab/SPM/spm12/toolbox/.' to '/home/remi/matlab/SPM/spm12/toolbox/MACS/.': Device or resource busy\n",
      "done.\n",
      "\n",
      "\n",
      "------------------------------------------------------------------------\n",
      "14-Mar-2021 14:51:23 - Running job #1\n",
      "------------------------------------------------------------------------\n",
      "14-Mar-2021 14:51:23 - Running 'fMRI model specification (design only)'\n",
      "14-Mar-2021 14:51:23 - Failed  'fMRI model specification (design only)'\n",
      "questdlg is not available in this version of Octave\n",
      "In file \"/usr/share/octave/4.2.2/m/gui/questdlg.m\" (???), function \"questdlg\" at line 123.\n",
      "In file \"/home/remi/matlab/SPM/spm12/spm_input.m\" (v6510), function \"spm_input\" at line 1234.\n",
      "In file \"/home/remi/matlab/SPM/spm12/config/spm_run_fmri_spec.m\" (v6562), function \"spm_run_fmri_spec\" at line 34.\n",
      "\n",
      "The following modules did not run:\n",
      "Failed: fMRI model specification (design only)\n",
      "\n",
      "error: Job execution failed. The full log of this run can be found in MATLAB command window, starting with the lines (look for the line showing the exact #job as displayed in this error message)\n",
      "------------------ \n",
      "Running job #1\n",
      "------------------\n"
     ]
    },
    {
     "name": "stderr",
     "output_type": "stream",
     "text": [
      "\u001b[0;31mInline plot failed, consider trying another graphics toolkit\n",
      "error: print: no axes object in figure to print\r\n",
      "error: called from\r\n",
      "    _make_figures>safe_print at line 125 column 7\r\n",
      "    _make_figures at line 49 column 13\r\n",
      "\n",
      "\u001b[0m"
     ]
    }
   ],
   "source": [
    "spm_jobman('run', matlabbatch);\n",
    "cd(start_dir)"
   ]
  },
  {
   "cell_type": "code",
   "execution_count": null,
   "metadata": {},
   "outputs": [],
   "source": [
    "load(fullfile(ouput_dir, 'SPM.mat'))\n",
    "X1 = SPM.xX.X;"
   ]
  },
  {
   "cell_type": "markdown",
   "metadata": {},
   "source": [
    "## Block model with HRF\n",
    "\n",
    "We use the same events but they all last 7 seconds instead of 1."
   ]
  },
  {
   "cell_type": "code",
   "execution_count": 10,
   "metadata": {},
   "outputs": [
    {
     "name": "stdout",
     "output_type": "stream",
     "text": [
      "\n",
      "\n",
      "------------------------------------------------------------------------\n",
      "14-Mar-2021 14:51:25 - Running job #2\n",
      "------------------------------------------------------------------------\n",
      "14-Mar-2021 14:51:25 - Running 'fMRI model specification (design only)'\n",
      "14-Mar-2021 14:51:25 - Failed  'fMRI model specification (design only)'\n",
      "questdlg is not available in this version of Octave\n",
      "In file \"/usr/share/octave/4.2.2/m/gui/questdlg.m\" (???), function \"questdlg\" at line 123.\n",
      "In file \"/home/remi/matlab/SPM/spm12/spm_input.m\" (v6510), function \"spm_input\" at line 1234.\n",
      "In file \"/home/remi/matlab/SPM/spm12/config/spm_run_fmri_spec.m\" (v6562), function \"spm_run_fmri_spec\" at line 34.\n",
      "\n",
      "The following modules did not run:\n",
      "Failed: fMRI model specification (design only)\n",
      "\n",
      "error: Job execution failed. The full log of this run can be found in MATLAB command window, starting with the lines (look for the line showing the exact #job as displayed in this error message)\n",
      "------------------ \n",
      "Running job #2\n",
      "------------------\n"
     ]
    },
    {
     "name": "stderr",
     "output_type": "stream",
     "text": [
      "\u001b[0;31mInline plot failed, consider trying another graphics toolkit\n",
      "error: print: no axes object in figure to print\r\n",
      "error: called from\r\n",
      "    _make_figures>safe_print at line 125 column 7\r\n",
      "    _make_figures at line 49 column 13\r\n",
      "\n",
      "\u001b[0m"
     ]
    }
   ],
   "source": [
    "conditions(1) = set_condition('c1', [30, 70, 100], [7, 7, 7]);\n",
    "conditions(2) = set_condition('c2', [10, 30, 90], [7, 7, 7]);     \n",
    "conditions(3) = set_condition('c3', [30, 40, 60], [7, 7, 7]);  \n",
    "\n",
    "design = set_design(ouput_dir, tr, nb_scans, conditions);\n",
    "matlabbatch{1}.spm.stats.fmri_design = design;\n",
    "\n",
    "spm_jobman('run', matlabbatch);\n",
    "cd(start_dir)\n",
    "\n",
    "load(fullfile(ouput_dir, 'SPM.mat'))\n",
    "X2 = SPM.xX.X;"
   ]
  },
  {
   "cell_type": "markdown",
   "metadata": {},
   "source": [
    "## Event related model with Finite Impulse Response model"
   ]
  },
  {
   "cell_type": "code",
   "execution_count": 11,
   "metadata": {},
   "outputs": [
    {
     "name": "stdout",
     "output_type": "stream",
     "text": [
      "error: No executable modules, but still unresolved dependencies or incomplete module inputs.\r\n",
      "error: called from\r\n",
      "    spm_jobman>fill_run_job at line 472 column 5\r\n",
      "    spm_jobman at line 247 column 13\r\n"
     ]
    }
   ],
   "source": [
    "conditions(1) = set_condition('c1', [30, 70, 100], [1, 1, 1]);\n",
    "conditions(2) = set_condition('c2', [10, 30, 90], [1, 1, 1]);     \n",
    "conditions(3) = set_condition('c3', [30, 40, 60], [1, 1, 1]);  \n",
    "\n",
    "design = set_design(ouput_dir, tr, nb_scans, conditions);\n",
    "\n",
    "design = rmfield(design.bases, 'hrf');\n",
    "design.bases.fir.length = 32;\n",
    "design.bases.fir.order = 3;\n",
    "\n",
    "matlabbatch{1}.spm.stats.fmri_design = design;\n",
    "\n",
    "spm_jobman('run', matlabbatch);\n",
    "cd(start_dir)\n",
    "\n",
    "load(fullfile(ouput_dir, 'SPM.mat'))\n",
    "X3 = SPM.xX.X;"
   ]
  },
  {
   "cell_type": "markdown",
   "metadata": {},
   "source": [
    "# Peek under the hood"
   ]
  },
  {
   "cell_type": "code",
   "execution_count": 12,
   "metadata": {},
   "outputs": [],
   "source": [
    "frame_times = zeros(nb_scans * tr, 1);  % here are the correspoding frame times\n"
   ]
  },
  {
   "cell_type": "code",
   "execution_count": 13,
   "metadata": {},
   "outputs": [],
   "source": [
    "% Gives the shape of the HRF with a sampling frequency of 1 Hz\n",
    "xBF.dt = 1; \n",
    "xBF.name = 'hrf';\n",
    "xBF.T = 1;\n",
    "SPM.xBF = spm_get_bf(xBF);"
   ]
  },
  {
   "cell_type": "markdown",
   "metadata": {},
   "source": [
    "A lot of the code for this was extrracted from `spm_fMRI_design` that usually takes care of setting up the fMRI design."
   ]
  },
  {
   "cell_type": "code",
   "execution_count": 14,
   "metadata": {},
   "outputs": [
    {
     "name": "stdout",
     "output_type": "stream",
     "text": [
      "error: 'X' undefined near line 3 column 17\n",
      "error: 'Fc' undefined near line 3 column 22\n"
     ]
    }
   ],
   "source": [
    "    %-Resample regressors at acquisition times (32 bin offset)\n",
    "    %----------------------------------------------------------------------\n",
    "    if ~isempty(X)\n",
    "        X = X((0:(k - 1))*fMRI_T + fMRI_T0 + 32,:);\n",
    "    end\n",
    "    \n",
    "    %-Orthogonalise (within trial type)\n",
    "    %----------------------------------------------------------------------\n",
    "    for i = 1:length(Fc)\n",
    "        if i<= numel(U) && ... % for Volterra kernels\n",
    "                (~isfield(U(i),'orth') || U(i).orth)\n",
    "            p = ones(size(Fc(i).i));\n",
    "        else\n",
    "            p = Fc(i).p;\n",
    "        end\n",
    "        for j = 1:max(p)\n",
    "            X(:,Fc(i).i(p==j)) = spm_orth(X(:,Fc(i).i(p==j)));\n",
    "        end\n",
    "    end"
   ]
  },
  {
   "cell_type": "code",
   "execution_count": 15,
   "metadata": {},
   "outputs": [
    {
     "name": "stdout",
     "output_type": "stream",
     "text": [
      "error: 'X' undefined near line 3 column 14\n",
      "error: 'Xn' undefined near line 1 column 14\n"
     ]
    }
   ],
   "source": [
    "    %-Append mean-corrected regressors and names\n",
    "    %----------------------------------------------------------------------\n",
    "    X     = [X spm_detrend(C)];\n",
    "    Xn    = {Xn{:} Cname{:}};"
   ]
  },
  {
   "cell_type": "code",
   "execution_count": null,
   "metadata": {},
   "outputs": [],
   "source": []
  },
  {
   "cell_type": "code",
   "execution_count": 16,
   "metadata": {},
   "outputs": [
    {
     "name": "stdout",
     "output_type": "stream",
     "text": [
      "error: 'n_scans' undefined near line 1 column 22\n",
      "error: structure has no member 'ons'\n",
      "error: called from\n",
      "    spm_get_ons at line 79 column 11\n",
      "error: 'U' undefined near line 2 column 19\n"
     ]
    }
   ],
   "source": [
    "run_idx = 1;\n",
    "\n",
    "SPM.Sess(run_idx).U = conditions;\n",
    "SPM.nscan(run_idx) = n_scans;\n",
    "\n",
    "% We prepare the onsets for the convolution\n",
    "U = spm_get_ons(SPM, run_idx);\n",
    "\n",
    "% We actually perform the convolution\n",
    "X1 = spm_Volterra(U, SPM.xBF.bf);"
   ]
  },
  {
   "cell_type": "code",
   "execution_count": null,
   "metadata": {},
   "outputs": [],
   "source": [
    "xBF.name = 'Finite Impulse Response';\n",
    "xBF.length = 32;\n",
    "xBF.dt = 8;\n",
    "SPM.xBF = spm_get_bf(xBF);\n",
    "\n",
    "X3 = spm_Volterra(U, SPM.xBF.bf);"
   ]
  },
  {
   "cell_type": "code",
   "execution_count": null,
   "metadata": {},
   "outputs": [],
   "source": [
    "% block design\n",
    "xBF.name = 'hrf';\n",
    "SPM.xBF = spm_get_bf(xBF);\n",
    "\n",
    "for iCdt = 1:numel(conditions)\n",
    "    SPM.Sess(run_idx).U(iCdt).dur = ones(size(conditions(iCdt).ons)) * 7;\n",
    "end\n",
    "U = spm_get_ons(SPM, run_idx);\n",
    "X2 = spm_Volterra(U, SPM.xBF.bf);"
   ]
  },
  {
   "cell_type": "code",
   "execution_count": null,
   "metadata": {},
   "outputs": [],
   "source": [
    "subplot(131)\n",
    "\n",
    "%X1 = [X1(33:end, :), motion];\n",
    "imagesc(X1)\n",
    "\n",
    "x_tick_label = cat(1, cat(1,conditions.name), add_reg_names');\n",
    "\n",
    "set(gca, 'xtick', 1:numel(x_tick_label), ...\n",
    "         'xticklabel', x_tick_label, ...\n",
    "         'fontsize', 10)\n",
    "         \n",
    "subplot(132)\n",
    "\n",
    "%X2 = [X2(33:end, :), motion];\n",
    "imagesc(X2)\n",
    "\n",
    "x_tick_label = cat(1, cat(1,conditions.name), add_reg_names');\n",
    "\n",
    "set(gca, 'xtick', 1:numel(x_tick_label), ...\n",
    "         'xticklabel', x_tick_label, ...\n",
    "         'fontsize', 10)         \n",
    "         \n",
    "subplot(133)        \n",
    "%X2 = [X2(33:end, :), motion];\n",
    "imagesc(X3)\n",
    "\n",
    "% x_tick_label = cat(1, cat(1,conditions.name), add_reg_names');\n",
    "\n",
    "% set(gca, 'xtick', 1:numel(x_tick_label), ...\n",
    "%         'xticklabel', x_tick_label, ...\n",
    "%         'fontsize', 10)         "
   ]
  }
 ],
 "metadata": {
  "kernelspec": {
   "display_name": "Octave",
   "language": "octave",
   "name": "octave"
  },
  "language_info": {
   "file_extension": ".m",
   "help_links": [
    {
     "text": "GNU Octave",
     "url": "https://www.gnu.org/software/octave/support.html"
    },
    {
     "text": "Octave Kernel",
     "url": "https://github.com/Calysto/octave_kernel"
    },
    {
     "text": "MetaKernel Magics",
     "url": "https://metakernel.readthedocs.io/en/latest/source/README.html"
    }
   ],
   "mimetype": "text/x-octave",
   "name": "octave",
   "version": "4.2.2"
  }
 },
 "nbformat": 4,
 "nbformat_minor": 4
}
