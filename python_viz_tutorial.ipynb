{
 "cells": [
  {
   "cell_type": "markdown",
   "metadata": {},
   "source": [
    "<img src=\"https://raw.githubusercontent.com/OpenMRBenelux/openmrbenelux.github.io/afba2aa7c94cd7ad0f2757aca0efc18d8ee3154d/assets/ext_images/logo/openmr_benelux_2021_logo_regopen.svg\">"
   ]
  },
  {
   "cell_type": "markdown",
   "metadata": {},
   "source": [
    "# Python Visualisation Tutorial"
   ]
  },
  {
   "cell_type": "markdown",
   "metadata": {},
   "source": [
    "Hello there, and welcome to our visualisation workshop!\n",
    "\n",
    "This tutorial is entirely dedicated to offer useful tools to get started with visualisations in Python, with examples on neuro-imaging data. "
   ]
  },
  {
   "cell_type": "markdown",
   "metadata": {},
   "source": [
    "***"
   ]
  },
  {
   "cell_type": "markdown",
   "metadata": {},
   "source": [
    "## Wait, what ...? A Jupyter notebook?"
   ]
  },
  {
   "cell_type": "markdown",
   "metadata": {},
   "source": [
    "Never worked with jupyter notebooks before? Don't worry! We'll guide you through it step by step.\n",
    "\n",
    "A **jupyter notebook** \n",
    "- is a convenient way to combine code with neat documentation, allowing others to easily follow a project that uses code\n",
    "- works with so-called \"blocks\", which can either be a \"code block\" or a \"markdown block\"\n",
    "    - *Markdown block*: You are reading one right now! It is a block that understands the markdown language, an easy language to create text, similar to HTML and LaTeX.\n",
    "    - *Code block*: A code block in a jupyter notebook understands the Python language by default. If applicable, output is printed below the code block, such as images and text. You can also change the kernel of code blocks; in this way you can use other programming languages in the code blocks! Read more about this [here](https://jupyter4edu.github.io/jupyter-edu-book/jupyter.html).\n",
    "- Allows to \"hide\" blocks, which will be visible with 3 dots (...). Solutions are hidden this way, but first try to find the solution yourself in the empty block above!\n",
    "- has some nice shortcuts:\n",
    "\n",
    "|Operation|Shortcut|\n",
    "|---|---|\n",
    "|Run a cell|shift-enter|\n",
    "|Add cell above | \"a\" (first click left of the cell)|\n",
    "|Add cell below | \"b\" (first click left of the cell)|\n",
    "|Copy cell: | \"c\" (first click left of the cell)|\n",
    "|Cut cell: | \"x\" (first click left of the cell)|\n",
    "|Paste cell | \"v\" (first click left of the cell)|\n",
    "|Delete cell | \"dd\" (first click left of the cell)|\n",
    "\n",
    "Last note: If you want to install additional python packages, you can call upon the terminal with an exclamation mark (!) before a command. So, installing a new package will be the following structure inside a code cell: `!pip install my-package`"
   ]
  },
  {
   "cell_type": "markdown",
   "metadata": {},
   "source": [
    "***"
   ]
  },
  {
   "cell_type": "markdown",
   "metadata": {},
   "source": [
    "## Let's get started!\n",
    "### Table of contents\n",
    "1. ...\n",
    "2. ...\n",
    "3. ...\n",
    "4. ..."
   ]
  },
  {
   "cell_type": "markdown",
   "metadata": {},
   "source": [
    "# 1. ..."
   ]
  },
  {
   "cell_type": "code",
   "execution_count": 4,
   "metadata": {},
   "outputs": [
    {
     "name": "stdout",
     "output_type": "stream",
     "text": [
      "Collecting awscli\n",
      "  Downloading awscli-1.19.24-py2.py3-none-any.whl (3.6 MB)\n",
      "\u001b[K     |████████████████████████████████| 3.6 MB 2.9 MB/s eta 0:00:01\n",
      "\u001b[?25hCollecting s3transfer<0.4.0,>=0.3.0\n",
      "  Downloading s3transfer-0.3.4-py2.py3-none-any.whl (69 kB)\n",
      "\u001b[K     |████████████████████████████████| 69 kB 501 kB/s eta 0:00:01\n",
      "\u001b[?25hCollecting rsa<4.8,>=3.1.2; python_version >= \"3.6\"\n",
      "  Downloading rsa-4.7.2-py3-none-any.whl (34 kB)\n",
      "Collecting botocore==1.20.24\n",
      "  Downloading botocore-1.20.24-py2.py3-none-any.whl (7.3 MB)\n",
      "\u001b[K     |████████████████████████████████| 7.3 MB 2.4 MB/s eta 0:00:01\n",
      "\u001b[?25hCollecting docutils<0.16,>=0.10\n",
      "  Downloading docutils-0.15.2-py3-none-any.whl (547 kB)\n",
      "\u001b[K     |████████████████████████████████| 547 kB 2.7 MB/s eta 0:00:01\n",
      "\u001b[?25hRequirement already satisfied: PyYAML<5.5,>=3.10 in /Users/sdenissen/opt/anaconda3/lib/python3.8/site-packages (from awscli) (5.3.1)\n",
      "Requirement already satisfied: colorama<0.4.4,>=0.2.5 in /Users/sdenissen/opt/anaconda3/lib/python3.8/site-packages (from awscli) (0.4.3)\n",
      "Collecting pyasn1>=0.1.3\n",
      "  Downloading pyasn1-0.4.8-py2.py3-none-any.whl (77 kB)\n",
      "\u001b[K     |████████████████████████████████| 77 kB 9.2 MB/s  eta 0:00:01\n",
      "\u001b[?25hCollecting jmespath<1.0.0,>=0.7.1\n",
      "  Using cached jmespath-0.10.0-py2.py3-none-any.whl (24 kB)\n",
      "Requirement already satisfied: python-dateutil<3.0.0,>=2.1 in /Users/sdenissen/opt/anaconda3/lib/python3.8/site-packages (from botocore==1.20.24->awscli) (2.8.1)\n",
      "Requirement already satisfied: urllib3<1.27,>=1.25.4 in /Users/sdenissen/opt/anaconda3/lib/python3.8/site-packages (from botocore==1.20.24->awscli) (1.25.9)\n",
      "Requirement already satisfied: six>=1.5 in /Users/sdenissen/opt/anaconda3/lib/python3.8/site-packages (from python-dateutil<3.0.0,>=2.1->botocore==1.20.24->awscli) (1.15.0)\n",
      "Installing collected packages: jmespath, botocore, s3transfer, pyasn1, rsa, docutils, awscli\n",
      "  Attempting uninstall: docutils\n",
      "    Found existing installation: docutils 0.16\n",
      "    Uninstalling docutils-0.16:\n",
      "      Successfully uninstalled docutils-0.16\n",
      "Successfully installed awscli-1.19.24 botocore-1.20.24 docutils-0.15.2 jmespath-0.10.0 pyasn1-0.4.8 rsa-4.7.2 s3transfer-0.3.4\n"
     ]
    }
   ],
   "source": [
    "!"
   ]
  }
 ],
 "metadata": {
  "kernelspec": {
   "display_name": "Python 3",
   "language": "python",
   "name": "python3"
  },
  "language_info": {
   "codemirror_mode": {
    "name": "ipython",
    "version": 3
   },
   "file_extension": ".py",
   "mimetype": "text/x-python",
   "name": "python",
   "nbconvert_exporter": "python",
   "pygments_lexer": "ipython3",
   "version": "3.8.3"
  }
 },
 "nbformat": 4,
 "nbformat_minor": 4
}
